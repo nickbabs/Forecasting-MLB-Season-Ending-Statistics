{
 "cells": [
  {
   "cell_type": "markdown",
   "metadata": {
    "id": "OcNMVR1u7dMb"
   },
   "source": [
    "# Nick Babcock\n"
   ]
  },
  {
   "cell_type": "markdown",
   "metadata": {
    "id": "k5in7gE97wEy"
   },
   "source": [
    "## <u>Baseball 2022 Season Statistics Predictor<u/>"
   ]
  },
  {
   "cell_type": "markdown",
   "metadata": {
    "id": "5Wdb2pdKJCqT"
   },
   "source": [
    "<p> The game of baseball is a very statistics driven sport and it is only becoming more analytical as our technology continues to advance and allow us to build better prediction models. There are a lot of different decisions that go into managing the game of baseball, and using analytics to make these decisions is starting to take over the game. Using analytics helps teams develop strategies on how to approach the other team in order to gain a competitive advantage. Given all the statistics that are created in each and every game that's played, there is a lot of data for teams to use at their disposal.\n",
    "<p> A baseball season consists of 162 games which is about seven months long, and each player's statistics are updated every time they play in a game. In this project, we have built prediction models to predict a player's 2021 final season ending statistics of certain categories. We will do this by evaluating their performance and recorded statistics from previous seasons. These statistics will be used to train our models and ultimately predict the outcome of each players' 2021 season statistics. We will then be able to check against the real values of the 2021 season statistics in order to test and validate the performance of our models."
   ]
  },
  {
   "cell_type": "markdown",
   "metadata": {
    "id": "U0sUXOt9RSzT"
   },
   "source": [
    "### <u>Data dictionary for our dataset</u>\n",
    "<p> This data dictionary is intended to give meaning to each feature that is included in this dataset."
   ]
  },
  {
   "cell_type": "markdown",
   "metadata": {
    "id": "MqskHUA6RUfG"
   },
   "source": [
    "Feature | Description\n",
    "------- | -----------\n",
    "Season   | The year of the season the accompanied statistics are from    \n",
    "Name       | Name of each indivudual player\n",
    "Team       | Name of the team a player is on\n",
    "Age | Age of the player in years\n",
    "PA  | Number of player's plate appearances\n",
    "AB  | Number of player's at bats\n",
    "H   | Number of player's hits\n",
    "HR  | Number of player's home runs\n",
    "R   | Number of player's runs scored\n",
    "RBI | Number of player's runs batted\n",
    "SB  | Number of player's stolen bases\n",
    "BB% | Percentage of player's at bats resulting in a base-on-balls\n",
    "K%  | Percentage of player's at bats resulting in a strike out\n",
    "ISO | Measure of the raw power of a player\n",
    "BABIP| Player's batting average on balls in play\n",
    "AVG | Player's batting average\n",
    "OBP | Player's on base percentage\n",
    "SLG | Player's slugging percentage\n",
    "LD% | Player's percentage of line drives per ball where contact was made\n",
    "GB% | Player's percentage of ground balls per ball where contact was made\n",
    "FB% | Player's percentage of fly balls per ball where contact was made\n",
    "IFFB%| Player's percentage of infield fly balls per ball where contact was made\n",
    "HR/FB| Player's homerun to flyball rate\n",
    "O-Swing%| Player's percentage of swings at pitches outside the strike zone\n",
    "Z-Swing%| Player's percentage of swings at pitches inside the strike zone\n",
    "Swing%| Player's percentage of swings per pitch\n",
    "O-Contact%| Player's percentage of swings that made contact with the ball on pitches outside the strike zone\n",
    "Z-Contact%| Player's percentage of swings that made contact with the ball on pitches inside the strike zone\n",
    "Contact%| Player's percentage of swings that made contact with the ball per swing"
   ]
  },
  {
   "cell_type": "markdown",
   "metadata": {
    "id": "QOyEZN5vScGM"
   },
   "source": [
    "### <u>Detailed Explanation of Our Data</u>\n",
    "<p>PA - Plate appearances / when a player completes their batting turn, regardless of the result.\n",
    "<p>AB - Any plate appearance that results in a hit, error, fielder's choice, or a non-sacrifice out\n",
    "<p>H -  A hit occurs when a batter strikes the baseball into fair territory and reaches base without doing so via an error or a fielder's choice.\n",
    "<p>HR - A home run occurs when a batter hits a fair ball and scores on the play without being put out or without the benefit of an error.\n",
    "<p>R - A player is awarded a run if he crosses the plate to score his team a run.\n",
    "<p>RBI - A batter is credited with an RBI in most cases where the result of his plate appearance is a run being scored.\n",
    "<p>SB - A stolen base occurs when a baserunner advances by taking a base to which he isn't entitled.\n",
    "<p>BB - A walk (or base on balls) occurs when a pitcher throws four pitches out of the strike zone, none of which are swung at by the hitter.\n",
    "<p>K -  Percentage of player's at bats resulting in a strike out\n",
    "<p>ISO - ISO measures the raw power of a hitter by taking only extra-base hits -- and the type of extra-base hit -- into account.\n",
    "<p>BABIP - BABIP measures a player's batting average exclusively on balls hit into the field of play, removing outcomes not affected by the opposing defense (namely home runs and strikeouts).\n",
    "<p>AVG - Batting average is determined by dividing a player's hits by his total at-bats for a number between zero (shown as .000) and one (1.000).\n",
    "<p>OBP - OBP refers to how frequently a batter reaches base per plate appearance. \n",
    "<p>SLG - Slugging percentage represents the total number of bases a player records per at-bat.\n",
    "<p>LD% - Line-drive rate represents the percentage of balls hit into the field of play that are characterized as line drives.\n",
    "<p>GB% - Ground-ball rate represents the percentage of balls hit into the field of play that are characterized as ground balls. \n",
    "<p>FB% - Fly-ball rate represents the percentage of balls hit into the field of play that are characterized as fly balls.\n",
    "<p>IFFB% - Infield-fly-ball rate represents the percentage of balls hit into the infield that are characterized as fly balls.\n",
    "<p>HR/FB - Home-run-to-fly-ball rate is the rate at which home runs are hit by a batter for every fly ball he hits. \n",
    "<p>O-Swing% - O-Swing% represents the rate of the number of swings at pitches outside the zone per pitches thrown outside the zone\n",
    "<p>Z-Swing% - Z-Swing% represents the rate of the number of swings at pitches inside the zone per pitches thrown inside the zone\n",
    "<p>Swing% - Swing% represents the player's rate of swings  per pitch that is thrown\n",
    "<p>O-Contact% - O-Contact% represents the rate of the number of swings at pitches outside the zone that make contact with the ball per pitches thrown outside the zone\n",
    "<p>Z-Contact% - Z-Contact% represents the rate of the number of swings at pitches inside the zone that make contact with the ball per pitches thrown inside the zone\n",
    "<p>Contact% - Contact% represents the rate of the number of swings at pitches that make contact with the ball per swing\n",
    "    \n",
    "- This dataset was found on www.fangraphs.com"
   ]
  },
  {
   "cell_type": "markdown",
   "metadata": {
    "id": "Ga3UDsNfTTT2"
   },
   "source": [
    "## <u>Exploratory Data Analysis</u>"
   ]
  },
  {
   "cell_type": "code",
   "execution_count": 683,
   "metadata": {
    "id": "dZDoV8-n7ww4"
   },
   "outputs": [],
   "source": [
    "import seaborn as sns\n",
    "import pandas as pd\n",
    "import matplotlib.pyplot as plt\n",
    "import numpy as np\n",
    "from sklearn.preprocessing import StandardScaler, OneHotEncoder, LabelBinarizer, LabelEncoder, MinMaxScaler, RobustScaler, Normalizer\n",
    "from sklearn.pipeline import Pipeline\n",
    "from sklearn.model_selection import KFold, StratifiedKFold, train_test_split\n",
    "from sklearn.model_selection import cross_val_score, KFold, GridSearchCV\n",
    "from sklearn.linear_model import LinearRegression\n",
    "from sklearn.metrics import mean_squared_error, classification_report, precision_score\n",
    "import xgboost as xgb\n",
    "from sklearn.neighbors import KNeighborsRegressor"
   ]
  },
  {
   "cell_type": "code",
   "execution_count": 684,
   "metadata": {
    "colab": {
     "base_uri": "https://localhost:8080/",
     "height": 73,
     "resources": {
      "http://localhost:8080/nbextensions/google.colab/files.js": {
       "data": "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",
       "headers": [
        [
         "content-type",
         "application/javascript"
        ]
       ],
       "ok": true,
       "status": 200,
       "status_text": ""
      }
     }
    },
    "id": "tf6d5AntaS0w",
    "outputId": "592b38cb-ecd4-4d01-d76c-7e10decb050d"
   },
   "outputs": [
    {
     "data": {
      "text/html": [
       "\n",
       "     <input type=\"file\" id=\"files-130badfc-dfc5-4aba-8835-f149ee05cafe\" name=\"files[]\" multiple disabled\n",
       "        style=\"border:none\" />\n",
       "     <output id=\"result-130badfc-dfc5-4aba-8835-f149ee05cafe\">\n",
       "      Upload widget is only available when the cell has been executed in the\n",
       "      current browser session. Please rerun this cell to enable.\n",
       "      </output>\n",
       "      <script src=\"/nbextensions/google.colab/files.js\"></script> "
      ],
      "text/plain": [
       "<IPython.core.display.HTML object>"
      ]
     },
     "metadata": {},
     "output_type": "display_data"
    },
    {
     "name": "stdout",
     "output_type": "stream",
     "text": [
      "Saving battingdata.csv to battingdata (2).csv\n"
     ]
    }
   ],
   "source": [
    "from google.colab import files\n",
    "uploaded = files.upload()"
   ]
  },
  {
   "cell_type": "code",
   "execution_count": 685,
   "metadata": {
    "colab": {
     "base_uri": "https://localhost:8080/",
     "height": 589
    },
    "id": "0Tm1RcNxcLlB",
    "outputId": "2b990a79-927c-44f0-aef6-8f222dde79f9"
   },
   "outputs": [
    {
     "data": {
      "text/html": [
       "\n",
       "  <div id=\"df-0eecad8b-2bec-4d6f-b075-3d3ecdf45cc8\">\n",
       "    <div class=\"colab-df-container\">\n",
       "      <div>\n",
       "<style scoped>\n",
       "    .dataframe tbody tr th:only-of-type {\n",
       "        vertical-align: middle;\n",
       "    }\n",
       "\n",
       "    .dataframe tbody tr th {\n",
       "        vertical-align: top;\n",
       "    }\n",
       "\n",
       "    .dataframe thead th {\n",
       "        text-align: right;\n",
       "    }\n",
       "</style>\n",
       "<table border=\"1\" class=\"dataframe\">\n",
       "  <thead>\n",
       "    <tr style=\"text-align: right;\">\n",
       "      <th></th>\n",
       "      <th>Season</th>\n",
       "      <th>Name</th>\n",
       "      <th>Team</th>\n",
       "      <th>Age</th>\n",
       "      <th>AB</th>\n",
       "      <th>PA</th>\n",
       "      <th>H</th>\n",
       "      <th>HR</th>\n",
       "      <th>R</th>\n",
       "      <th>RBI</th>\n",
       "      <th>...</th>\n",
       "      <th>Unnamed: 304</th>\n",
       "      <th>Unnamed: 305</th>\n",
       "      <th>Unnamed: 306</th>\n",
       "      <th>Unnamed: 307</th>\n",
       "      <th>Unnamed: 308</th>\n",
       "      <th>Unnamed: 309</th>\n",
       "      <th>Unnamed: 310</th>\n",
       "      <th>Unnamed: 311</th>\n",
       "      <th>Unnamed: 312</th>\n",
       "      <th>Unnamed: 313</th>\n",
       "    </tr>\n",
       "  </thead>\n",
       "  <tbody>\n",
       "    <tr>\n",
       "      <th>0</th>\n",
       "      <td>2016</td>\n",
       "      <td>A.J. Pierzynski</td>\n",
       "      <td>ATL</td>\n",
       "      <td>39</td>\n",
       "      <td>247</td>\n",
       "      <td>259</td>\n",
       "      <td>54</td>\n",
       "      <td>2</td>\n",
       "      <td>15</td>\n",
       "      <td>23</td>\n",
       "      <td>...</td>\n",
       "      <td>NaN</td>\n",
       "      <td>NaN</td>\n",
       "      <td>NaN</td>\n",
       "      <td>NaN</td>\n",
       "      <td>NaN</td>\n",
       "      <td>NaN</td>\n",
       "      <td>NaN</td>\n",
       "      <td>NaN</td>\n",
       "      <td>NaN</td>\n",
       "      <td>NaN</td>\n",
       "    </tr>\n",
       "    <tr>\n",
       "      <th>1</th>\n",
       "      <td>2021</td>\n",
       "      <td>A.J. Pollock</td>\n",
       "      <td>LAD</td>\n",
       "      <td>33</td>\n",
       "      <td>384</td>\n",
       "      <td>422</td>\n",
       "      <td>114</td>\n",
       "      <td>21</td>\n",
       "      <td>53</td>\n",
       "      <td>69</td>\n",
       "      <td>...</td>\n",
       "      <td>NaN</td>\n",
       "      <td>NaN</td>\n",
       "      <td>NaN</td>\n",
       "      <td>NaN</td>\n",
       "      <td>NaN</td>\n",
       "      <td>NaN</td>\n",
       "      <td>NaN</td>\n",
       "      <td>NaN</td>\n",
       "      <td>NaN</td>\n",
       "      <td>NaN</td>\n",
       "    </tr>\n",
       "    <tr>\n",
       "      <th>2</th>\n",
       "      <td>2017</td>\n",
       "      <td>A.J. Pollock</td>\n",
       "      <td>ARI</td>\n",
       "      <td>29</td>\n",
       "      <td>425</td>\n",
       "      <td>466</td>\n",
       "      <td>113</td>\n",
       "      <td>14</td>\n",
       "      <td>73</td>\n",
       "      <td>49</td>\n",
       "      <td>...</td>\n",
       "      <td>NaN</td>\n",
       "      <td>NaN</td>\n",
       "      <td>NaN</td>\n",
       "      <td>NaN</td>\n",
       "      <td>NaN</td>\n",
       "      <td>NaN</td>\n",
       "      <td>NaN</td>\n",
       "      <td>NaN</td>\n",
       "      <td>NaN</td>\n",
       "      <td>NaN</td>\n",
       "    </tr>\n",
       "    <tr>\n",
       "      <th>3</th>\n",
       "      <td>2018</td>\n",
       "      <td>A.J. Pollock</td>\n",
       "      <td>ARI</td>\n",
       "      <td>30</td>\n",
       "      <td>413</td>\n",
       "      <td>460</td>\n",
       "      <td>106</td>\n",
       "      <td>21</td>\n",
       "      <td>61</td>\n",
       "      <td>65</td>\n",
       "      <td>...</td>\n",
       "      <td>NaN</td>\n",
       "      <td>NaN</td>\n",
       "      <td>NaN</td>\n",
       "      <td>NaN</td>\n",
       "      <td>NaN</td>\n",
       "      <td>NaN</td>\n",
       "      <td>NaN</td>\n",
       "      <td>NaN</td>\n",
       "      <td>NaN</td>\n",
       "      <td>NaN</td>\n",
       "    </tr>\n",
       "    <tr>\n",
       "      <th>4</th>\n",
       "      <td>2019</td>\n",
       "      <td>A.J. Pollock</td>\n",
       "      <td>LAD</td>\n",
       "      <td>31</td>\n",
       "      <td>308</td>\n",
       "      <td>342</td>\n",
       "      <td>82</td>\n",
       "      <td>15</td>\n",
       "      <td>49</td>\n",
       "      <td>47</td>\n",
       "      <td>...</td>\n",
       "      <td>NaN</td>\n",
       "      <td>NaN</td>\n",
       "      <td>NaN</td>\n",
       "      <td>NaN</td>\n",
       "      <td>NaN</td>\n",
       "      <td>NaN</td>\n",
       "      <td>NaN</td>\n",
       "      <td>NaN</td>\n",
       "      <td>NaN</td>\n",
       "      <td>NaN</td>\n",
       "    </tr>\n",
       "    <tr>\n",
       "      <th>...</th>\n",
       "      <td>...</td>\n",
       "      <td>...</td>\n",
       "      <td>...</td>\n",
       "      <td>...</td>\n",
       "      <td>...</td>\n",
       "      <td>...</td>\n",
       "      <td>...</td>\n",
       "      <td>...</td>\n",
       "      <td>...</td>\n",
       "      <td>...</td>\n",
       "      <td>...</td>\n",
       "      <td>...</td>\n",
       "      <td>...</td>\n",
       "      <td>...</td>\n",
       "      <td>...</td>\n",
       "      <td>...</td>\n",
       "      <td>...</td>\n",
       "      <td>...</td>\n",
       "      <td>...</td>\n",
       "      <td>...</td>\n",
       "      <td>...</td>\n",
       "    </tr>\n",
       "    <tr>\n",
       "      <th>1580</th>\n",
       "      <td>2016</td>\n",
       "      <td>Yunel Escobar</td>\n",
       "      <td>LAA</td>\n",
       "      <td>33</td>\n",
       "      <td>517</td>\n",
       "      <td>567</td>\n",
       "      <td>157</td>\n",
       "      <td>5</td>\n",
       "      <td>68</td>\n",
       "      <td>39</td>\n",
       "      <td>...</td>\n",
       "      <td>NaN</td>\n",
       "      <td>NaN</td>\n",
       "      <td>NaN</td>\n",
       "      <td>NaN</td>\n",
       "      <td>NaN</td>\n",
       "      <td>NaN</td>\n",
       "      <td>NaN</td>\n",
       "      <td>NaN</td>\n",
       "      <td>NaN</td>\n",
       "      <td>NaN</td>\n",
       "    </tr>\n",
       "    <tr>\n",
       "      <th>1581</th>\n",
       "      <td>2017</td>\n",
       "      <td>Yunel Escobar</td>\n",
       "      <td>LAA</td>\n",
       "      <td>34</td>\n",
       "      <td>350</td>\n",
       "      <td>381</td>\n",
       "      <td>96</td>\n",
       "      <td>7</td>\n",
       "      <td>43</td>\n",
       "      <td>31</td>\n",
       "      <td>...</td>\n",
       "      <td>NaN</td>\n",
       "      <td>NaN</td>\n",
       "      <td>NaN</td>\n",
       "      <td>NaN</td>\n",
       "      <td>NaN</td>\n",
       "      <td>NaN</td>\n",
       "      <td>NaN</td>\n",
       "      <td>NaN</td>\n",
       "      <td>NaN</td>\n",
       "      <td>NaN</td>\n",
       "    </tr>\n",
       "    <tr>\n",
       "      <th>1582</th>\n",
       "      <td>2017</td>\n",
       "      <td>Zack Cozart</td>\n",
       "      <td>CIN</td>\n",
       "      <td>31</td>\n",
       "      <td>438</td>\n",
       "      <td>507</td>\n",
       "      <td>130</td>\n",
       "      <td>24</td>\n",
       "      <td>80</td>\n",
       "      <td>63</td>\n",
       "      <td>...</td>\n",
       "      <td>NaN</td>\n",
       "      <td>NaN</td>\n",
       "      <td>NaN</td>\n",
       "      <td>NaN</td>\n",
       "      <td>NaN</td>\n",
       "      <td>NaN</td>\n",
       "      <td>NaN</td>\n",
       "      <td>NaN</td>\n",
       "      <td>NaN</td>\n",
       "      <td>NaN</td>\n",
       "    </tr>\n",
       "    <tr>\n",
       "      <th>1583</th>\n",
       "      <td>2016</td>\n",
       "      <td>Zack Cozart</td>\n",
       "      <td>CIN</td>\n",
       "      <td>30</td>\n",
       "      <td>464</td>\n",
       "      <td>508</td>\n",
       "      <td>117</td>\n",
       "      <td>16</td>\n",
       "      <td>67</td>\n",
       "      <td>50</td>\n",
       "      <td>...</td>\n",
       "      <td>NaN</td>\n",
       "      <td>NaN</td>\n",
       "      <td>NaN</td>\n",
       "      <td>NaN</td>\n",
       "      <td>NaN</td>\n",
       "      <td>NaN</td>\n",
       "      <td>NaN</td>\n",
       "      <td>NaN</td>\n",
       "      <td>NaN</td>\n",
       "      <td>NaN</td>\n",
       "    </tr>\n",
       "    <tr>\n",
       "      <th>1584</th>\n",
       "      <td>2018</td>\n",
       "      <td>Zack Cozart</td>\n",
       "      <td>LAA</td>\n",
       "      <td>32</td>\n",
       "      <td>224</td>\n",
       "      <td>253</td>\n",
       "      <td>49</td>\n",
       "      <td>5</td>\n",
       "      <td>29</td>\n",
       "      <td>18</td>\n",
       "      <td>...</td>\n",
       "      <td>NaN</td>\n",
       "      <td>NaN</td>\n",
       "      <td>NaN</td>\n",
       "      <td>NaN</td>\n",
       "      <td>NaN</td>\n",
       "      <td>NaN</td>\n",
       "      <td>NaN</td>\n",
       "      <td>NaN</td>\n",
       "      <td>NaN</td>\n",
       "      <td>NaN</td>\n",
       "    </tr>\n",
       "  </tbody>\n",
       "</table>\n",
       "<p>1585 rows × 314 columns</p>\n",
       "</div>\n",
       "      <button class=\"colab-df-convert\" onclick=\"convertToInteractive('df-0eecad8b-2bec-4d6f-b075-3d3ecdf45cc8')\"\n",
       "              title=\"Convert this dataframe to an interactive table.\"\n",
       "              style=\"display:none;\">\n",
       "        \n",
       "  <svg xmlns=\"http://www.w3.org/2000/svg\" height=\"24px\"viewBox=\"0 0 24 24\"\n",
       "       width=\"24px\">\n",
       "    <path d=\"M0 0h24v24H0V0z\" fill=\"none\"/>\n",
       "    <path d=\"M18.56 5.44l.94 2.06.94-2.06 2.06-.94-2.06-.94-.94-2.06-.94 2.06-2.06.94zm-11 1L8.5 8.5l.94-2.06 2.06-.94-2.06-.94L8.5 2.5l-.94 2.06-2.06.94zm10 10l.94 2.06.94-2.06 2.06-.94-2.06-.94-.94-2.06-.94 2.06-2.06.94z\"/><path d=\"M17.41 7.96l-1.37-1.37c-.4-.4-.92-.59-1.43-.59-.52 0-1.04.2-1.43.59L10.3 9.45l-7.72 7.72c-.78.78-.78 2.05 0 2.83L4 21.41c.39.39.9.59 1.41.59.51 0 1.02-.2 1.41-.59l7.78-7.78 2.81-2.81c.8-.78.8-2.07 0-2.86zM5.41 20L4 18.59l7.72-7.72 1.47 1.35L5.41 20z\"/>\n",
       "  </svg>\n",
       "      </button>\n",
       "      \n",
       "  <style>\n",
       "    .colab-df-container {\n",
       "      display:flex;\n",
       "      flex-wrap:wrap;\n",
       "      gap: 12px;\n",
       "    }\n",
       "\n",
       "    .colab-df-convert {\n",
       "      background-color: #E8F0FE;\n",
       "      border: none;\n",
       "      border-radius: 50%;\n",
       "      cursor: pointer;\n",
       "      display: none;\n",
       "      fill: #1967D2;\n",
       "      height: 32px;\n",
       "      padding: 0 0 0 0;\n",
       "      width: 32px;\n",
       "    }\n",
       "\n",
       "    .colab-df-convert:hover {\n",
       "      background-color: #E2EBFA;\n",
       "      box-shadow: 0px 1px 2px rgba(60, 64, 67, 0.3), 0px 1px 3px 1px rgba(60, 64, 67, 0.15);\n",
       "      fill: #174EA6;\n",
       "    }\n",
       "\n",
       "    [theme=dark] .colab-df-convert {\n",
       "      background-color: #3B4455;\n",
       "      fill: #D2E3FC;\n",
       "    }\n",
       "\n",
       "    [theme=dark] .colab-df-convert:hover {\n",
       "      background-color: #434B5C;\n",
       "      box-shadow: 0px 1px 3px 1px rgba(0, 0, 0, 0.15);\n",
       "      filter: drop-shadow(0px 1px 2px rgba(0, 0, 0, 0.3));\n",
       "      fill: #FFFFFF;\n",
       "    }\n",
       "  </style>\n",
       "\n",
       "      <script>\n",
       "        const buttonEl =\n",
       "          document.querySelector('#df-0eecad8b-2bec-4d6f-b075-3d3ecdf45cc8 button.colab-df-convert');\n",
       "        buttonEl.style.display =\n",
       "          google.colab.kernel.accessAllowed ? 'block' : 'none';\n",
       "\n",
       "        async function convertToInteractive(key) {\n",
       "          const element = document.querySelector('#df-0eecad8b-2bec-4d6f-b075-3d3ecdf45cc8');\n",
       "          const dataTable =\n",
       "            await google.colab.kernel.invokeFunction('convertToInteractive',\n",
       "                                                     [key], {});\n",
       "          if (!dataTable) return;\n",
       "\n",
       "          const docLinkHtml = 'Like what you see? Visit the ' +\n",
       "            '<a target=\"_blank\" href=https://colab.research.google.com/notebooks/data_table.ipynb>data table notebook</a>'\n",
       "            + ' to learn more about interactive tables.';\n",
       "          element.innerHTML = '';\n",
       "          dataTable['output_type'] = 'display_data';\n",
       "          await google.colab.output.renderOutput(dataTable, element);\n",
       "          const docLink = document.createElement('div');\n",
       "          docLink.innerHTML = docLinkHtml;\n",
       "          element.appendChild(docLink);\n",
       "        }\n",
       "      </script>\n",
       "    </div>\n",
       "  </div>\n",
       "  "
      ],
      "text/plain": [
       "      Season             Name Team  Age   AB   PA    H  HR   R  RBI  ...  \\\n",
       "0       2016  A.J. Pierzynski  ATL   39  247  259   54   2  15   23  ...   \n",
       "1       2021     A.J. Pollock  LAD   33  384  422  114  21  53   69  ...   \n",
       "2       2017     A.J. Pollock  ARI   29  425  466  113  14  73   49  ...   \n",
       "3       2018     A.J. Pollock  ARI   30  413  460  106  21  61   65  ...   \n",
       "4       2019     A.J. Pollock  LAD   31  308  342   82  15  49   47  ...   \n",
       "...      ...              ...  ...  ...  ...  ...  ...  ..  ..  ...  ...   \n",
       "1580    2016    Yunel Escobar  LAA   33  517  567  157   5  68   39  ...   \n",
       "1581    2017    Yunel Escobar  LAA   34  350  381   96   7  43   31  ...   \n",
       "1582    2017      Zack Cozart  CIN   31  438  507  130  24  80   63  ...   \n",
       "1583    2016      Zack Cozart  CIN   30  464  508  117  16  67   50  ...   \n",
       "1584    2018      Zack Cozart  LAA   32  224  253   49   5  29   18  ...   \n",
       "\n",
       "      Unnamed: 304  Unnamed: 305 Unnamed: 306 Unnamed: 307  Unnamed: 308  \\\n",
       "0              NaN           NaN          NaN          NaN           NaN   \n",
       "1              NaN           NaN          NaN          NaN           NaN   \n",
       "2              NaN           NaN          NaN          NaN           NaN   \n",
       "3              NaN           NaN          NaN          NaN           NaN   \n",
       "4              NaN           NaN          NaN          NaN           NaN   \n",
       "...            ...           ...          ...          ...           ...   \n",
       "1580           NaN           NaN          NaN          NaN           NaN   \n",
       "1581           NaN           NaN          NaN          NaN           NaN   \n",
       "1582           NaN           NaN          NaN          NaN           NaN   \n",
       "1583           NaN           NaN          NaN          NaN           NaN   \n",
       "1584           NaN           NaN          NaN          NaN           NaN   \n",
       "\n",
       "      Unnamed: 309  Unnamed: 310  Unnamed: 311 Unnamed: 312 Unnamed: 313  \n",
       "0              NaN           NaN           NaN          NaN          NaN  \n",
       "1              NaN           NaN           NaN          NaN          NaN  \n",
       "2              NaN           NaN           NaN          NaN          NaN  \n",
       "3              NaN           NaN           NaN          NaN          NaN  \n",
       "4              NaN           NaN           NaN          NaN          NaN  \n",
       "...            ...           ...           ...          ...          ...  \n",
       "1580           NaN           NaN           NaN          NaN          NaN  \n",
       "1581           NaN           NaN           NaN          NaN          NaN  \n",
       "1582           NaN           NaN           NaN          NaN          NaN  \n",
       "1583           NaN           NaN           NaN          NaN          NaN  \n",
       "1584           NaN           NaN           NaN          NaN          NaN  \n",
       "\n",
       "[1585 rows x 314 columns]"
      ]
     },
     "execution_count": 685,
     "metadata": {},
     "output_type": "execute_result"
    }
   ],
   "source": [
    "import io\n",
    "df = pd.read_csv(io.BytesIO(uploaded['battingdata.csv']))\n",
    "df"
   ]
  },
  {
   "cell_type": "code",
   "execution_count": 686,
   "metadata": {
    "id": "2C1cjaP0cU5R"
   },
   "outputs": [],
   "source": [
    "#deleting all columns with 'unamed' name containing null values\n",
    "df.drop(df.columns[df.columns.str.contains('unnamed',case = False)],axis = 1, inplace = True)"
   ]
  },
  {
   "cell_type": "code",
   "execution_count": 687,
   "metadata": {
    "colab": {
     "base_uri": "https://localhost:8080/"
    },
    "id": "2tHAbXu-hfYE",
    "outputId": "6daf06ea-11f5-4f44-c021-f79b935707a1"
   },
   "outputs": [
    {
     "data": {
      "text/plain": [
       "(1585, 29)"
      ]
     },
     "execution_count": 687,
     "metadata": {},
     "output_type": "execute_result"
    }
   ],
   "source": [
    "df.shape\n",
    "# df = df.loc[df.Season == 2020, 'Season']\n",
    "# df = df.loc[data[\"cases\"] != 0]"
   ]
  },
  {
   "cell_type": "code",
   "execution_count": 688,
   "metadata": {
    "colab": {
     "base_uri": "https://localhost:8080/"
    },
    "id": "mDauT50UnkV-",
    "outputId": "822a15a1-4e55-4416-fcbb-1d5d449749a3"
   },
   "outputs": [
    {
     "name": "stdout",
     "output_type": "stream",
     "text": [
      "(1569, 29)\n"
     ]
    },
    {
     "data": {
      "text/plain": [
       "0"
      ]
     },
     "execution_count": 688,
     "metadata": {},
     "output_type": "execute_result"
    }
   ],
   "source": [
    "#Here I removed all 2020 data for various reasons. I understand that it would not make sense \n",
    "#to delete a year's worth of statistics when predicting a subsequent year's statistics, but\n",
    "#due to the COVID-19 pandemic, the MLB only played about 1/3 of the amount of games they normally play in a season\n",
    "#and this would have had too big of an impact our data. For this reason, I decided to omit the year 2020\n",
    "#and act as if it never happened.\n",
    "df = df.loc[df.Season != 2020]\n",
    "print(df.shape)\n",
    "\n",
    "#checking if values removed\n",
    "df.loc[df.Season == 2020, 'Season'].count()"
   ]
  },
  {
   "cell_type": "code",
   "execution_count": 689,
   "metadata": {
    "colab": {
     "base_uri": "https://localhost:8080/",
     "height": 882
    },
    "id": "Sji7wdNlpo7g",
    "outputId": "e5eb4356-f56c-4a72-f539-c7c8d9ddd712"
   },
   "outputs": [
    {
     "data": {
      "image/png": "[encoded data removed]",
      "text/plain": [
       "<Figure size 1440x1080 with 16 Axes>"
      ]
     },
     "metadata": {
      "needs_background": "light"
     },
     "output_type": "display_data"
    }
   ],
   "source": [
    "%matplotlib inline\n",
    "import matplotlib.pyplot as plt\n",
    "df.hist(bins=50, figsize=(20,15))\n",
    "plt.show()"
   ]
  },
  {
   "cell_type": "code",
   "execution_count": 690,
   "metadata": {
    "id": "XiJxdzKywQOb"
   },
   "outputs": [],
   "source": [
    "df2 = df.copy()"
   ]
  },
  {
   "cell_type": "code",
   "execution_count": 691,
   "metadata": {
    "id": "-lJjcXtus607"
   },
   "outputs": [],
   "source": [
    "#In this step, we are removing the '%' sign from the strings and converting them to\n",
    "#floats in order to be used as numerical data in our predictions\n",
    "df2['BB%']=df2['BB%'].str.replace('%', '').astype(float)\n",
    "df2['K%']=df2['K%'].str.replace('%', '').astype(float)\n",
    "df2['LD%']=df2['LD%'].str.replace('%', '').astype(float)\n",
    "df2['GB%']=df2['GB%'].str.replace('%', '').astype(float)\n",
    "df2['FB%']=df2['FB%'].str.replace('%', '').astype(float)\n",
    "df2['IFFB%']=df2['IFFB%'].str.replace('%', '').astype(float)\n",
    "df2['HR/FB']=df2['HR/FB'].str.replace('%', '').astype(float)\n",
    "df2['O-Swing%']=df2['O-Swing%'].str.replace('%', '').astype(float)\n",
    "df2['Z-Swing%']=df2['Z-Swing%'].str.replace('%', '').astype(float)\n",
    "df2['Swing%']=df2['Swing%'].str.replace('%', '').astype(float)\n",
    "df2['O-Contact%']=df2['O-Contact%'].str.replace('%', '').astype(float)\n",
    "df2['Z-Contact%']=df2['Z-Contact%'].str.replace('%', '').astype(float)\n",
    "df2['Contact%']=df2['Contact%'].str.replace('%', '').astype(float)"
   ]
  },
  {
   "cell_type": "code",
   "execution_count": 692,
   "metadata": {
    "colab": {
     "base_uri": "https://localhost:8080/",
     "height": 235
    },
    "id": "vBThcVrcw1zB",
    "outputId": "407127ae-6398-437f-b79d-d98192a145d2"
   },
   "outputs": [
    {
     "data": {
      "text/html": [
       "\n",
       "  <div id=\"df-222fad96-f451-49d6-a1d8-a54abdb30303\">\n",
       "    <div class=\"colab-df-container\">\n",
       "      <div>\n",
       "<style scoped>\n",
       "    .dataframe tbody tr th:only-of-type {\n",
       "        vertical-align: middle;\n",
       "    }\n",
       "\n",
       "    .dataframe tbody tr th {\n",
       "        vertical-align: top;\n",
       "    }\n",
       "\n",
       "    .dataframe thead th {\n",
       "        text-align: right;\n",
       "    }\n",
       "</style>\n",
       "<table border=\"1\" class=\"dataframe\">\n",
       "  <thead>\n",
       "    <tr style=\"text-align: right;\">\n",
       "      <th></th>\n",
       "      <th>Season</th>\n",
       "      <th>Name</th>\n",
       "      <th>Team</th>\n",
       "      <th>Age</th>\n",
       "      <th>AB</th>\n",
       "      <th>PA</th>\n",
       "      <th>H</th>\n",
       "      <th>HR</th>\n",
       "      <th>R</th>\n",
       "      <th>RBI</th>\n",
       "      <th>...</th>\n",
       "      <th>GB%</th>\n",
       "      <th>FB%</th>\n",
       "      <th>IFFB%</th>\n",
       "      <th>HR/FB</th>\n",
       "      <th>O-Swing%</th>\n",
       "      <th>Z-Swing%</th>\n",
       "      <th>Swing%</th>\n",
       "      <th>O-Contact%</th>\n",
       "      <th>Z-Contact%</th>\n",
       "      <th>Contact%</th>\n",
       "    </tr>\n",
       "  </thead>\n",
       "  <tbody>\n",
       "    <tr>\n",
       "      <th>0</th>\n",
       "      <td>2016</td>\n",
       "      <td>A.J. Pierzynski</td>\n",
       "      <td>ATL</td>\n",
       "      <td>39</td>\n",
       "      <td>247</td>\n",
       "      <td>259</td>\n",
       "      <td>54</td>\n",
       "      <td>2</td>\n",
       "      <td>15</td>\n",
       "      <td>23</td>\n",
       "      <td>...</td>\n",
       "      <td>50.5</td>\n",
       "      <td>29.5</td>\n",
       "      <td>4.6</td>\n",
       "      <td>3.1</td>\n",
       "      <td>43.9</td>\n",
       "      <td>77.7</td>\n",
       "      <td>58.9</td>\n",
       "      <td>70.1</td>\n",
       "      <td>91.9</td>\n",
       "      <td>82.9</td>\n",
       "    </tr>\n",
       "    <tr>\n",
       "      <th>1</th>\n",
       "      <td>2021</td>\n",
       "      <td>A.J. Pollock</td>\n",
       "      <td>LAD</td>\n",
       "      <td>33</td>\n",
       "      <td>384</td>\n",
       "      <td>422</td>\n",
       "      <td>114</td>\n",
       "      <td>21</td>\n",
       "      <td>53</td>\n",
       "      <td>69</td>\n",
       "      <td>...</td>\n",
       "      <td>39.9</td>\n",
       "      <td>38.6</td>\n",
       "      <td>5.1</td>\n",
       "      <td>17.8</td>\n",
       "      <td>37.6</td>\n",
       "      <td>73.9</td>\n",
       "      <td>52.8</td>\n",
       "      <td>61.4</td>\n",
       "      <td>88.1</td>\n",
       "      <td>77.0</td>\n",
       "    </tr>\n",
       "    <tr>\n",
       "      <th>2</th>\n",
       "      <td>2017</td>\n",
       "      <td>A.J. Pollock</td>\n",
       "      <td>ARI</td>\n",
       "      <td>29</td>\n",
       "      <td>425</td>\n",
       "      <td>466</td>\n",
       "      <td>113</td>\n",
       "      <td>14</td>\n",
       "      <td>73</td>\n",
       "      <td>49</td>\n",
       "      <td>...</td>\n",
       "      <td>44.6</td>\n",
       "      <td>32.1</td>\n",
       "      <td>12.4</td>\n",
       "      <td>12.4</td>\n",
       "      <td>27.0</td>\n",
       "      <td>60.4</td>\n",
       "      <td>42.3</td>\n",
       "      <td>66.1</td>\n",
       "      <td>92.7</td>\n",
       "      <td>83.6</td>\n",
       "    </tr>\n",
       "    <tr>\n",
       "      <th>3</th>\n",
       "      <td>2018</td>\n",
       "      <td>A.J. Pollock</td>\n",
       "      <td>ARI</td>\n",
       "      <td>30</td>\n",
       "      <td>413</td>\n",
       "      <td>460</td>\n",
       "      <td>106</td>\n",
       "      <td>21</td>\n",
       "      <td>61</td>\n",
       "      <td>65</td>\n",
       "      <td>...</td>\n",
       "      <td>42.2</td>\n",
       "      <td>38.4</td>\n",
       "      <td>8.1</td>\n",
       "      <td>17.1</td>\n",
       "      <td>33.6</td>\n",
       "      <td>67.3</td>\n",
       "      <td>48.1</td>\n",
       "      <td>58.4</td>\n",
       "      <td>90.6</td>\n",
       "      <td>77.8</td>\n",
       "    </tr>\n",
       "    <tr>\n",
       "      <th>4</th>\n",
       "      <td>2019</td>\n",
       "      <td>A.J. Pollock</td>\n",
       "      <td>LAD</td>\n",
       "      <td>31</td>\n",
       "      <td>308</td>\n",
       "      <td>342</td>\n",
       "      <td>82</td>\n",
       "      <td>15</td>\n",
       "      <td>49</td>\n",
       "      <td>47</td>\n",
       "      <td>...</td>\n",
       "      <td>43.5</td>\n",
       "      <td>36.7</td>\n",
       "      <td>12.6</td>\n",
       "      <td>17.2</td>\n",
       "      <td>31.6</td>\n",
       "      <td>67.0</td>\n",
       "      <td>46.6</td>\n",
       "      <td>54.8</td>\n",
       "      <td>88.7</td>\n",
       "      <td>75.4</td>\n",
       "    </tr>\n",
       "  </tbody>\n",
       "</table>\n",
       "<p>5 rows × 29 columns</p>\n",
       "</div>\n",
       "      <button class=\"colab-df-convert\" onclick=\"convertToInteractive('df-222fad96-f451-49d6-a1d8-a54abdb30303')\"\n",
       "              title=\"Convert this dataframe to an interactive table.\"\n",
       "              style=\"display:none;\">\n",
       "        \n",
       "  <svg xmlns=\"http://www.w3.org/2000/svg\" height=\"24px\"viewBox=\"0 0 24 24\"\n",
       "       width=\"24px\">\n",
       "    <path d=\"M0 0h24v24H0V0z\" fill=\"none\"/>\n",
       "    <path d=\"M18.56 5.44l.94 2.06.94-2.06 2.06-.94-2.06-.94-.94-2.06-.94 2.06-2.06.94zm-11 1L8.5 8.5l.94-2.06 2.06-.94-2.06-.94L8.5 2.5l-.94 2.06-2.06.94zm10 10l.94 2.06.94-2.06 2.06-.94-2.06-.94-.94-2.06-.94 2.06-2.06.94z\"/><path d=\"M17.41 7.96l-1.37-1.37c-.4-.4-.92-.59-1.43-.59-.52 0-1.04.2-1.43.59L10.3 9.45l-7.72 7.72c-.78.78-.78 2.05 0 2.83L4 21.41c.39.39.9.59 1.41.59.51 0 1.02-.2 1.41-.59l7.78-7.78 2.81-2.81c.8-.78.8-2.07 0-2.86zM5.41 20L4 18.59l7.72-7.72 1.47 1.35L5.41 20z\"/>\n",
       "  </svg>\n",
       "      </button>\n",
       "      \n",
       "  <style>\n",
       "    .colab-df-container {\n",
       "      display:flex;\n",
       "      flex-wrap:wrap;\n",
       "      gap: 12px;\n",
       "    }\n",
       "\n",
       "    .colab-df-convert {\n",
       "      background-color: #E8F0FE;\n",
       "      border: none;\n",
       "      border-radius: 50%;\n",
       "      cursor: pointer;\n",
       "      display: none;\n",
       "      fill: #1967D2;\n",
       "      height: 32px;\n",
       "      padding: 0 0 0 0;\n",
       "      width: 32px;\n",
       "    }\n",
       "\n",
       "    .colab-df-convert:hover {\n",
       "      background-color: #E2EBFA;\n",
       "      box-shadow: 0px 1px 2px rgba(60, 64, 67, 0.3), 0px 1px 3px 1px rgba(60, 64, 67, 0.15);\n",
       "      fill: #174EA6;\n",
       "    }\n",
       "\n",
       "    [theme=dark] .colab-df-convert {\n",
       "      background-color: #3B4455;\n",
       "      fill: #D2E3FC;\n",
       "    }\n",
       "\n",
       "    [theme=dark] .colab-df-convert:hover {\n",
       "      background-color: #434B5C;\n",
       "      box-shadow: 0px 1px 3px 1px rgba(0, 0, 0, 0.15);\n",
       "      filter: drop-shadow(0px 1px 2px rgba(0, 0, 0, 0.3));\n",
       "      fill: #FFFFFF;\n",
       "    }\n",
       "  </style>\n",
       "\n",
       "      <script>\n",
       "        const buttonEl =\n",
       "          document.querySelector('#df-222fad96-f451-49d6-a1d8-a54abdb30303 button.colab-df-convert');\n",
       "        buttonEl.style.display =\n",
       "          google.colab.kernel.accessAllowed ? 'block' : 'none';\n",
       "\n",
       "        async function convertToInteractive(key) {\n",
       "          const element = document.querySelector('#df-222fad96-f451-49d6-a1d8-a54abdb30303');\n",
       "          const dataTable =\n",
       "            await google.colab.kernel.invokeFunction('convertToInteractive',\n",
       "                                                     [key], {});\n",
       "          if (!dataTable) return;\n",
       "\n",
       "          const docLinkHtml = 'Like what you see? Visit the ' +\n",
       "            '<a target=\"_blank\" href=https://colab.research.google.com/notebooks/data_table.ipynb>data table notebook</a>'\n",
       "            + ' to learn more about interactive tables.';\n",
       "          element.innerHTML = '';\n",
       "          dataTable['output_type'] = 'display_data';\n",
       "          await google.colab.output.renderOutput(dataTable, element);\n",
       "          const docLink = document.createElement('div');\n",
       "          docLink.innerHTML = docLinkHtml;\n",
       "          element.appendChild(docLink);\n",
       "        }\n",
       "      </script>\n",
       "    </div>\n",
       "  </div>\n",
       "  "
      ],
      "text/plain": [
       "   Season             Name Team  Age   AB   PA    H  HR   R  RBI  ...   GB%  \\\n",
       "0    2016  A.J. Pierzynski  ATL   39  247  259   54   2  15   23  ...  50.5   \n",
       "1    2021     A.J. Pollock  LAD   33  384  422  114  21  53   69  ...  39.9   \n",
       "2    2017     A.J. Pollock  ARI   29  425  466  113  14  73   49  ...  44.6   \n",
       "3    2018     A.J. Pollock  ARI   30  413  460  106  21  61   65  ...  42.2   \n",
       "4    2019     A.J. Pollock  LAD   31  308  342   82  15  49   47  ...  43.5   \n",
       "\n",
       "    FB%  IFFB%  HR/FB  O-Swing%  Z-Swing%  Swing%  O-Contact%  Z-Contact%  \\\n",
       "0  29.5    4.6    3.1      43.9      77.7    58.9        70.1        91.9   \n",
       "1  38.6    5.1   17.8      37.6      73.9    52.8        61.4        88.1   \n",
       "2  32.1   12.4   12.4      27.0      60.4    42.3        66.1        92.7   \n",
       "3  38.4    8.1   17.1      33.6      67.3    48.1        58.4        90.6   \n",
       "4  36.7   12.6   17.2      31.6      67.0    46.6        54.8        88.7   \n",
       "\n",
       "   Contact%  \n",
       "0      82.9  \n",
       "1      77.0  \n",
       "2      83.6  \n",
       "3      77.8  \n",
       "4      75.4  \n",
       "\n",
       "[5 rows x 29 columns]"
      ]
     },
     "execution_count": 692,
     "metadata": {},
     "output_type": "execute_result"
    }
   ],
   "source": [
    "df2.head()"
   ]
  },
  {
   "cell_type": "code",
   "execution_count": 693,
   "metadata": {
    "colab": {
     "base_uri": "https://localhost:8080/",
     "height": 1000
    },
    "id": "9yzidyYVw6ah",
    "outputId": "091875f7-a7c5-45ac-9b57-f44a1dd09673"
   },
   "outputs": [
    {
     "name": "stderr",
     "output_type": "stream",
     "text": [
      "/usr/local/lib/python3.7/dist-packages/ipykernel_launcher.py:3: DeprecationWarning: `np.bool` is a deprecated alias for the builtin `bool`. To silence this warning, use `bool` by itself. Doing this will not modify any behavior and is safe. If you specifically wanted the numpy scalar type, use `np.bool_` here.\n",
      "Deprecated in NumPy 1.20; for more details and guidance: https://numpy.org/devdocs/release/1.20.0-notes.html#deprecations\n",
      "  This is separate from the ipykernel package so we can avoid doing imports until\n"
     ]
    },
    {
     "data": {
      "text/plain": [
       "<matplotlib.axes._subplots.AxesSubplot at 0x7f589c3e4190>"
      ]
     },
     "execution_count": 693,
     "metadata": {},
     "output_type": "execute_result"
    },
    {
     "data": {
      "image/png": "[encoded data removed]",
      "text/plain": [
       "<Figure size 1800x1440 with 2 Axes>"
      ]
     },
     "metadata": {},
     "output_type": "display_data"
    }
   ],
   "source": [
    "sns.set(style=\"white\")\n",
    "corr  = df2.corr()\n",
    "mask = np.triu(np.ones_like(corr, dtype=np.bool))\n",
    "f, ax = plt.subplots(figsize=(25, 20))\n",
    "cmap = sns.diverging_palette(220, 10, as_cmap=True)\n",
    "sns.heatmap(corr, mask=mask, cmap=cmap, vmax=1, center=0,\n",
    "            square=True, linewidths=.5, cbar_kws={\"shrink\": .5}, annot=True)"
   ]
  },
  {
   "cell_type": "code",
   "execution_count": 694,
   "metadata": {
    "colab": {
     "base_uri": "https://localhost:8080/",
     "height": 424
    },
    "id": "HiL6btkTxAFy",
    "outputId": "21b6139d-76ac-4053-ee38-224ee03f30fa"
   },
   "outputs": [
    {
     "data": {
      "text/html": [
       "\n",
       "  <div id=\"df-3b1cb84d-84f7-4da7-bdf5-9e8c94cc5001\">\n",
       "    <div class=\"colab-df-container\">\n",
       "      <div>\n",
       "<style scoped>\n",
       "    .dataframe tbody tr th:only-of-type {\n",
       "        vertical-align: middle;\n",
       "    }\n",
       "\n",
       "    .dataframe tbody tr th {\n",
       "        vertical-align: top;\n",
       "    }\n",
       "\n",
       "    .dataframe thead th {\n",
       "        text-align: right;\n",
       "    }\n",
       "</style>\n",
       "<table border=\"1\" class=\"dataframe\">\n",
       "  <thead>\n",
       "    <tr style=\"text-align: right;\">\n",
       "      <th></th>\n",
       "      <th>Season</th>\n",
       "      <th>Name</th>\n",
       "      <th>Team</th>\n",
       "      <th>Age</th>\n",
       "      <th>AB</th>\n",
       "      <th>PA</th>\n",
       "      <th>H</th>\n",
       "      <th>HR</th>\n",
       "      <th>R</th>\n",
       "      <th>RBI</th>\n",
       "      <th>...</th>\n",
       "      <th>GB%</th>\n",
       "      <th>FB%</th>\n",
       "      <th>IFFB%</th>\n",
       "      <th>HR/FB</th>\n",
       "      <th>O-Swing%</th>\n",
       "      <th>Z-Swing%</th>\n",
       "      <th>Swing%</th>\n",
       "      <th>O-Contact%</th>\n",
       "      <th>Z-Contact%</th>\n",
       "      <th>Contact%</th>\n",
       "    </tr>\n",
       "  </thead>\n",
       "  <tbody>\n",
       "    <tr>\n",
       "      <th>0</th>\n",
       "      <td>2016</td>\n",
       "      <td>0</td>\n",
       "      <td>ATL</td>\n",
       "      <td>39</td>\n",
       "      <td>247</td>\n",
       "      <td>259</td>\n",
       "      <td>54</td>\n",
       "      <td>2</td>\n",
       "      <td>15</td>\n",
       "      <td>23</td>\n",
       "      <td>...</td>\n",
       "      <td>50.5</td>\n",
       "      <td>29.5</td>\n",
       "      <td>4.6</td>\n",
       "      <td>3.1</td>\n",
       "      <td>43.9</td>\n",
       "      <td>77.7</td>\n",
       "      <td>58.9</td>\n",
       "      <td>70.1</td>\n",
       "      <td>91.9</td>\n",
       "      <td>82.9</td>\n",
       "    </tr>\n",
       "    <tr>\n",
       "      <th>1</th>\n",
       "      <td>2021</td>\n",
       "      <td>1</td>\n",
       "      <td>LAD</td>\n",
       "      <td>33</td>\n",
       "      <td>384</td>\n",
       "      <td>422</td>\n",
       "      <td>114</td>\n",
       "      <td>21</td>\n",
       "      <td>53</td>\n",
       "      <td>69</td>\n",
       "      <td>...</td>\n",
       "      <td>39.9</td>\n",
       "      <td>38.6</td>\n",
       "      <td>5.1</td>\n",
       "      <td>17.8</td>\n",
       "      <td>37.6</td>\n",
       "      <td>73.9</td>\n",
       "      <td>52.8</td>\n",
       "      <td>61.4</td>\n",
       "      <td>88.1</td>\n",
       "      <td>77.0</td>\n",
       "    </tr>\n",
       "    <tr>\n",
       "      <th>2</th>\n",
       "      <td>2017</td>\n",
       "      <td>1</td>\n",
       "      <td>ARI</td>\n",
       "      <td>29</td>\n",
       "      <td>425</td>\n",
       "      <td>466</td>\n",
       "      <td>113</td>\n",
       "      <td>14</td>\n",
       "      <td>73</td>\n",
       "      <td>49</td>\n",
       "      <td>...</td>\n",
       "      <td>44.6</td>\n",
       "      <td>32.1</td>\n",
       "      <td>12.4</td>\n",
       "      <td>12.4</td>\n",
       "      <td>27.0</td>\n",
       "      <td>60.4</td>\n",
       "      <td>42.3</td>\n",
       "      <td>66.1</td>\n",
       "      <td>92.7</td>\n",
       "      <td>83.6</td>\n",
       "    </tr>\n",
       "    <tr>\n",
       "      <th>3</th>\n",
       "      <td>2018</td>\n",
       "      <td>1</td>\n",
       "      <td>ARI</td>\n",
       "      <td>30</td>\n",
       "      <td>413</td>\n",
       "      <td>460</td>\n",
       "      <td>106</td>\n",
       "      <td>21</td>\n",
       "      <td>61</td>\n",
       "      <td>65</td>\n",
       "      <td>...</td>\n",
       "      <td>42.2</td>\n",
       "      <td>38.4</td>\n",
       "      <td>8.1</td>\n",
       "      <td>17.1</td>\n",
       "      <td>33.6</td>\n",
       "      <td>67.3</td>\n",
       "      <td>48.1</td>\n",
       "      <td>58.4</td>\n",
       "      <td>90.6</td>\n",
       "      <td>77.8</td>\n",
       "    </tr>\n",
       "    <tr>\n",
       "      <th>4</th>\n",
       "      <td>2019</td>\n",
       "      <td>1</td>\n",
       "      <td>LAD</td>\n",
       "      <td>31</td>\n",
       "      <td>308</td>\n",
       "      <td>342</td>\n",
       "      <td>82</td>\n",
       "      <td>15</td>\n",
       "      <td>49</td>\n",
       "      <td>47</td>\n",
       "      <td>...</td>\n",
       "      <td>43.5</td>\n",
       "      <td>36.7</td>\n",
       "      <td>12.6</td>\n",
       "      <td>17.2</td>\n",
       "      <td>31.6</td>\n",
       "      <td>67.0</td>\n",
       "      <td>46.6</td>\n",
       "      <td>54.8</td>\n",
       "      <td>88.7</td>\n",
       "      <td>75.4</td>\n",
       "    </tr>\n",
       "    <tr>\n",
       "      <th>...</th>\n",
       "      <td>...</td>\n",
       "      <td>...</td>\n",
       "      <td>...</td>\n",
       "      <td>...</td>\n",
       "      <td>...</td>\n",
       "      <td>...</td>\n",
       "      <td>...</td>\n",
       "      <td>...</td>\n",
       "      <td>...</td>\n",
       "      <td>...</td>\n",
       "      <td>...</td>\n",
       "      <td>...</td>\n",
       "      <td>...</td>\n",
       "      <td>...</td>\n",
       "      <td>...</td>\n",
       "      <td>...</td>\n",
       "      <td>...</td>\n",
       "      <td>...</td>\n",
       "      <td>...</td>\n",
       "      <td>...</td>\n",
       "      <td>...</td>\n",
       "    </tr>\n",
       "    <tr>\n",
       "      <th>1580</th>\n",
       "      <td>2016</td>\n",
       "      <td>602</td>\n",
       "      <td>LAA</td>\n",
       "      <td>33</td>\n",
       "      <td>517</td>\n",
       "      <td>567</td>\n",
       "      <td>157</td>\n",
       "      <td>5</td>\n",
       "      <td>68</td>\n",
       "      <td>39</td>\n",
       "      <td>...</td>\n",
       "      <td>58.1</td>\n",
       "      <td>20.8</td>\n",
       "      <td>5.3</td>\n",
       "      <td>5.3</td>\n",
       "      <td>27.3</td>\n",
       "      <td>73.0</td>\n",
       "      <td>48.6</td>\n",
       "      <td>65.0</td>\n",
       "      <td>93.4</td>\n",
       "      <td>84.8</td>\n",
       "    </tr>\n",
       "    <tr>\n",
       "      <th>1581</th>\n",
       "      <td>2017</td>\n",
       "      <td>602</td>\n",
       "      <td>LAA</td>\n",
       "      <td>34</td>\n",
       "      <td>350</td>\n",
       "      <td>381</td>\n",
       "      <td>96</td>\n",
       "      <td>7</td>\n",
       "      <td>43</td>\n",
       "      <td>31</td>\n",
       "      <td>...</td>\n",
       "      <td>58.2</td>\n",
       "      <td>24.1</td>\n",
       "      <td>2.8</td>\n",
       "      <td>9.7</td>\n",
       "      <td>26.9</td>\n",
       "      <td>69.8</td>\n",
       "      <td>46.9</td>\n",
       "      <td>61.3</td>\n",
       "      <td>91.9</td>\n",
       "      <td>82.6</td>\n",
       "    </tr>\n",
       "    <tr>\n",
       "      <th>1582</th>\n",
       "      <td>2017</td>\n",
       "      <td>603</td>\n",
       "      <td>CIN</td>\n",
       "      <td>31</td>\n",
       "      <td>438</td>\n",
       "      <td>507</td>\n",
       "      <td>130</td>\n",
       "      <td>24</td>\n",
       "      <td>80</td>\n",
       "      <td>63</td>\n",
       "      <td>...</td>\n",
       "      <td>38.2</td>\n",
       "      <td>42.3</td>\n",
       "      <td>11.7</td>\n",
       "      <td>15.6</td>\n",
       "      <td>24.4</td>\n",
       "      <td>60.4</td>\n",
       "      <td>40.9</td>\n",
       "      <td>71.2</td>\n",
       "      <td>92.2</td>\n",
       "      <td>85.4</td>\n",
       "    </tr>\n",
       "    <tr>\n",
       "      <th>1583</th>\n",
       "      <td>2016</td>\n",
       "      <td>603</td>\n",
       "      <td>CIN</td>\n",
       "      <td>30</td>\n",
       "      <td>464</td>\n",
       "      <td>508</td>\n",
       "      <td>117</td>\n",
       "      <td>16</td>\n",
       "      <td>67</td>\n",
       "      <td>50</td>\n",
       "      <td>...</td>\n",
       "      <td>39.4</td>\n",
       "      <td>39.9</td>\n",
       "      <td>13.1</td>\n",
       "      <td>10.5</td>\n",
       "      <td>28.9</td>\n",
       "      <td>66.4</td>\n",
       "      <td>47.0</td>\n",
       "      <td>65.1</td>\n",
       "      <td>91.6</td>\n",
       "      <td>83.2</td>\n",
       "    </tr>\n",
       "    <tr>\n",
       "      <th>1584</th>\n",
       "      <td>2018</td>\n",
       "      <td>603</td>\n",
       "      <td>LAA</td>\n",
       "      <td>32</td>\n",
       "      <td>224</td>\n",
       "      <td>253</td>\n",
       "      <td>49</td>\n",
       "      <td>5</td>\n",
       "      <td>29</td>\n",
       "      <td>18</td>\n",
       "      <td>...</td>\n",
       "      <td>38.0</td>\n",
       "      <td>40.8</td>\n",
       "      <td>17.3</td>\n",
       "      <td>6.7</td>\n",
       "      <td>28.2</td>\n",
       "      <td>61.3</td>\n",
       "      <td>43.4</td>\n",
       "      <td>66.9</td>\n",
       "      <td>91.7</td>\n",
       "      <td>82.9</td>\n",
       "    </tr>\n",
       "  </tbody>\n",
       "</table>\n",
       "<p>1569 rows × 29 columns</p>\n",
       "</div>\n",
       "      <button class=\"colab-df-convert\" onclick=\"convertToInteractive('df-3b1cb84d-84f7-4da7-bdf5-9e8c94cc5001')\"\n",
       "              title=\"Convert this dataframe to an interactive table.\"\n",
       "              style=\"display:none;\">\n",
       "        \n",
       "  <svg xmlns=\"http://www.w3.org/2000/svg\" height=\"24px\"viewBox=\"0 0 24 24\"\n",
       "       width=\"24px\">\n",
       "    <path d=\"M0 0h24v24H0V0z\" fill=\"none\"/>\n",
       "    <path d=\"M18.56 5.44l.94 2.06.94-2.06 2.06-.94-2.06-.94-.94-2.06-.94 2.06-2.06.94zm-11 1L8.5 8.5l.94-2.06 2.06-.94-2.06-.94L8.5 2.5l-.94 2.06-2.06.94zm10 10l.94 2.06.94-2.06 2.06-.94-2.06-.94-.94-2.06-.94 2.06-2.06.94z\"/><path d=\"M17.41 7.96l-1.37-1.37c-.4-.4-.92-.59-1.43-.59-.52 0-1.04.2-1.43.59L10.3 9.45l-7.72 7.72c-.78.78-.78 2.05 0 2.83L4 21.41c.39.39.9.59 1.41.59.51 0 1.02-.2 1.41-.59l7.78-7.78 2.81-2.81c.8-.78.8-2.07 0-2.86zM5.41 20L4 18.59l7.72-7.72 1.47 1.35L5.41 20z\"/>\n",
       "  </svg>\n",
       "      </button>\n",
       "      \n",
       "  <style>\n",
       "    .colab-df-container {\n",
       "      display:flex;\n",
       "      flex-wrap:wrap;\n",
       "      gap: 12px;\n",
       "    }\n",
       "\n",
       "    .colab-df-convert {\n",
       "      background-color: #E8F0FE;\n",
       "      border: none;\n",
       "      border-radius: 50%;\n",
       "      cursor: pointer;\n",
       "      display: none;\n",
       "      fill: #1967D2;\n",
       "      height: 32px;\n",
       "      padding: 0 0 0 0;\n",
       "      width: 32px;\n",
       "    }\n",
       "\n",
       "    .colab-df-convert:hover {\n",
       "      background-color: #E2EBFA;\n",
       "      box-shadow: 0px 1px 2px rgba(60, 64, 67, 0.3), 0px 1px 3px 1px rgba(60, 64, 67, 0.15);\n",
       "      fill: #174EA6;\n",
       "    }\n",
       "\n",
       "    [theme=dark] .colab-df-convert {\n",
       "      background-color: #3B4455;\n",
       "      fill: #D2E3FC;\n",
       "    }\n",
       "\n",
       "    [theme=dark] .colab-df-convert:hover {\n",
       "      background-color: #434B5C;\n",
       "      box-shadow: 0px 1px 3px 1px rgba(0, 0, 0, 0.15);\n",
       "      filter: drop-shadow(0px 1px 2px rgba(0, 0, 0, 0.3));\n",
       "      fill: #FFFFFF;\n",
       "    }\n",
       "  </style>\n",
       "\n",
       "      <script>\n",
       "        const buttonEl =\n",
       "          document.querySelector('#df-3b1cb84d-84f7-4da7-bdf5-9e8c94cc5001 button.colab-df-convert');\n",
       "        buttonEl.style.display =\n",
       "          google.colab.kernel.accessAllowed ? 'block' : 'none';\n",
       "\n",
       "        async function convertToInteractive(key) {\n",
       "          const element = document.querySelector('#df-3b1cb84d-84f7-4da7-bdf5-9e8c94cc5001');\n",
       "          const dataTable =\n",
       "            await google.colab.kernel.invokeFunction('convertToInteractive',\n",
       "                                                     [key], {});\n",
       "          if (!dataTable) return;\n",
       "\n",
       "          const docLinkHtml = 'Like what you see? Visit the ' +\n",
       "            '<a target=\"_blank\" href=https://colab.research.google.com/notebooks/data_table.ipynb>data table notebook</a>'\n",
       "            + ' to learn more about interactive tables.';\n",
       "          element.innerHTML = '';\n",
       "          dataTable['output_type'] = 'display_data';\n",
       "          await google.colab.output.renderOutput(dataTable, element);\n",
       "          const docLink = document.createElement('div');\n",
       "          docLink.innerHTML = docLinkHtml;\n",
       "          element.appendChild(docLink);\n",
       "        }\n",
       "      </script>\n",
       "    </div>\n",
       "  </div>\n",
       "  "
      ],
      "text/plain": [
       "      Season  Name Team  Age   AB   PA    H  HR   R  RBI  ...   GB%   FB%  \\\n",
       "0       2016     0  ATL   39  247  259   54   2  15   23  ...  50.5  29.5   \n",
       "1       2021     1  LAD   33  384  422  114  21  53   69  ...  39.9  38.6   \n",
       "2       2017     1  ARI   29  425  466  113  14  73   49  ...  44.6  32.1   \n",
       "3       2018     1  ARI   30  413  460  106  21  61   65  ...  42.2  38.4   \n",
       "4       2019     1  LAD   31  308  342   82  15  49   47  ...  43.5  36.7   \n",
       "...      ...   ...  ...  ...  ...  ...  ...  ..  ..  ...  ...   ...   ...   \n",
       "1580    2016   602  LAA   33  517  567  157   5  68   39  ...  58.1  20.8   \n",
       "1581    2017   602  LAA   34  350  381   96   7  43   31  ...  58.2  24.1   \n",
       "1582    2017   603  CIN   31  438  507  130  24  80   63  ...  38.2  42.3   \n",
       "1583    2016   603  CIN   30  464  508  117  16  67   50  ...  39.4  39.9   \n",
       "1584    2018   603  LAA   32  224  253   49   5  29   18  ...  38.0  40.8   \n",
       "\n",
       "      IFFB%  HR/FB  O-Swing%  Z-Swing%  Swing%  O-Contact%  Z-Contact%  \\\n",
       "0       4.6    3.1      43.9      77.7    58.9        70.1        91.9   \n",
       "1       5.1   17.8      37.6      73.9    52.8        61.4        88.1   \n",
       "2      12.4   12.4      27.0      60.4    42.3        66.1        92.7   \n",
       "3       8.1   17.1      33.6      67.3    48.1        58.4        90.6   \n",
       "4      12.6   17.2      31.6      67.0    46.6        54.8        88.7   \n",
       "...     ...    ...       ...       ...     ...         ...         ...   \n",
       "1580    5.3    5.3      27.3      73.0    48.6        65.0        93.4   \n",
       "1581    2.8    9.7      26.9      69.8    46.9        61.3        91.9   \n",
       "1582   11.7   15.6      24.4      60.4    40.9        71.2        92.2   \n",
       "1583   13.1   10.5      28.9      66.4    47.0        65.1        91.6   \n",
       "1584   17.3    6.7      28.2      61.3    43.4        66.9        91.7   \n",
       "\n",
       "      Contact%  \n",
       "0         82.9  \n",
       "1         77.0  \n",
       "2         83.6  \n",
       "3         77.8  \n",
       "4         75.4  \n",
       "...        ...  \n",
       "1580      84.8  \n",
       "1581      82.6  \n",
       "1582      85.4  \n",
       "1583      83.2  \n",
       "1584      82.9  \n",
       "\n",
       "[1569 rows x 29 columns]"
      ]
     },
     "execution_count": 694,
     "metadata": {},
     "output_type": "execute_result"
    }
   ],
   "source": [
    "from sklearn.preprocessing import LabelEncoder\n",
    "label=LabelEncoder()\n",
    "df2['Name'] = label.fit_transform(df2['Name'])\n",
    "df2"
   ]
  },
  {
   "cell_type": "code",
   "execution_count": 695,
   "metadata": {
    "id": "xHgkiUtwYNPt"
   },
   "outputs": [],
   "source": [
    "#Creating new data frames to separate our data based off of the season (year)\n",
    "df16 = df2[df2['Season'] == 2016]\n",
    "df17 = df2[df2['Season'] == 2017]\n",
    "df18 = df2[df2['Season'] == 2018]\n",
    "df19 = df2[df2['Season'] == 2019]\n",
    "df21 = df2[df2['Season'] == 2021]"
   ]
  },
  {
   "cell_type": "code",
   "execution_count": 696,
   "metadata": {
    "id": "jZ7AUCBb_EpG"
   },
   "outputs": [],
   "source": [
    "#all = pd.concat([df16, df17, df18, df19], axis=0)\n",
    "#all.value_counts()"
   ]
  },
  {
   "cell_type": "markdown",
   "metadata": {
    "id": "_1auzPynbz4b"
   },
   "source": [
    "## <u>Modeling</u>"
   ]
  },
  {
   "cell_type": "markdown",
   "metadata": {
    "id": "HhwZ971db8FX"
   },
   "source": [
    "Now that I have began pre-processing the data, I will begin exploring our options in terms of finding the best ways to make our predictions. Again, I will be making predictions for four different features using three prediction models. The prediction will be of the final value of certain statistics at the end of the 2021 baseball season. I will be checking these predictions against the actual values. The process to making these predictions will go as followed:\n",
    "- Predict the amount of <b>(A)</b> HR per player in the 2016 season, then predict the amount of HR per player in 2017. Use and combine this data to predict the amount of HR per player in 2018. Then use the data from 2016, 2017, and 2018 to make a prediction for 2019. And finally with these results we will make the prediction for 2021.\n",
    "- Repeat this process for other features such as <b>(B)</b> OBP (On Base Percentage), <b>(C)</b> RBI (runs batted in), and <b>(D)</b> AVG (batting average).\n",
    "- The three models I will be using are Linear Regression, XGBoost, and KNN."
   ]
  },
  {
   "cell_type": "markdown",
   "metadata": {
    "id": "gC2_hStLZfMM"
   },
   "source": [
    "## (A) - Home Run Predictions"
   ]
  },
  {
   "cell_type": "markdown",
   "metadata": {
    "id": "ok_L3W8Cat4J"
   },
   "source": [
    "##### <u> Linear Regression <u/>"
   ]
  },
  {
   "cell_type": "code",
   "execution_count": 697,
   "metadata": {
    "colab": {
     "base_uri": "https://localhost:8080/"
    },
    "id": "0P9-rj0ja6cj",
    "outputId": "dcb21147-915f-4373-af02-7d69e75d51d1"
   },
   "outputs": [
    {
     "name": "stdout",
     "output_type": "stream",
     "text": [
      "(307, 23)\n",
      "(307,)\n"
     ]
    }
   ],
   "source": [
    "#I want to first train our model with the statistics from 2016\n",
    "\n",
    "y = df16['HR']\n",
    "X = df16[[ \"AB\", \"PA\", \"H\", \"R\",\n",
    "          \"RBI\", \"BB%\", \"K%\", \"ISO\", \n",
    "         \"BABIP\", \"AVG\", 'OBP', \"SLG\", 'LD%',\n",
    "         \"GB%\", \"FB%\", \"IFFB%\", \"HR/FB\", \"O-Swing%\", \n",
    "         \"Z-Swing%\", \"Swing%\",\"O-Contact%\", \"Z-Contact%\", \"Contact%\"]]\n",
    "print(X.shape)\n",
    "print(y.shape)"
   ]
  },
  {
   "cell_type": "code",
   "execution_count": 698,
   "metadata": {
    "id": "R4EH2A0_cmP-"
   },
   "outputs": [],
   "source": [
    "X_train, X_val, y_train, y_val = train_test_split(X, y, test_size=0.2, random_state=42)"
   ]
  },
  {
   "cell_type": "code",
   "execution_count": 699,
   "metadata": {
    "id": "u9xTRF4Wa6lQ"
   },
   "outputs": [],
   "source": [
    "lm = LinearRegression()\n",
    "model = lm.fit(X_train, y_train)"
   ]
  },
  {
   "cell_type": "code",
   "execution_count": 700,
   "metadata": {
    "colab": {
     "base_uri": "https://localhost:8080/"
    },
    "id": "A7RQfUuJa6o5",
    "outputId": "ab7d3a96-bd36-42a1-a23d-e3a04a1fdeb3"
   },
   "outputs": [
    {
     "name": "stdout",
     "output_type": "stream",
     "text": [
      "RMSE: 2.5695361463401336\n",
      "Score: 0.9513187217518703\n",
      "Training Score: 0.9544321973812961\n",
      "Validation Score: 0.9391540287393373\n"
     ]
    }
   ],
   "source": [
    "predictions = lm.predict(X_val)\n",
    "\n",
    "SSE = sum((np.array(y_val) - predictions)**2)\n",
    "\n",
    "# compute the RMSE\n",
    "RMSE = np.sqrt(SSE/len(predictions))\n",
    "\n",
    "print('RMSE:', RMSE)\n",
    "print ('Score:', model.score(X, y))\n",
    "print ('Training Score:', model.score(X_train, y_train))\n",
    "print ('Validation Score:', model.score(X_val, y_val))"
   ]
  },
  {
   "cell_type": "code",
   "execution_count": 701,
   "metadata": {
    "colab": {
     "base_uri": "https://localhost:8080/"
    },
    "id": "ezgiK_X0a6rg",
    "outputId": "0a51f49f-ad4f-46cb-f4c5-98c2ac890c55"
   },
   "outputs": [
    {
     "name": "stdout",
     "output_type": "stream",
     "text": [
      "(318, 23)\n",
      "(318,)\n"
     ]
    }
   ],
   "source": [
    "#Now we want evaluate the model but with the model trained from 2016 and see how\n",
    "#it will perform predicting 2017 statistics\n",
    "y_test = df17['HR']\n",
    "X_test = df17[[ \"AB\", \"PA\", \"H\", \"R\", \n",
    "          \"RBI\", \"BB%\", \"K%\", \"ISO\", \n",
    "         \"BABIP\", \"AVG\", 'OBP', \"SLG\", 'LD%',\n",
    "         \"GB%\", \"FB%\", \"IFFB%\", \"HR/FB\", \"O-Swing%\", \n",
    "         \"Z-Swing%\", \"Swing%\",\"O-Contact%\", \"Z-Contact%\", \"Contact%\" ]]\n",
    "print(X_test.shape)\n",
    "print(y_test.shape)\n",
    "#X_train, X_val, y_train, y_val = train_test_split(X_test, y_test, test_size=0.2, random_state=42)"
   ]
  },
  {
   "cell_type": "code",
   "execution_count": 702,
   "metadata": {
    "colab": {
     "base_uri": "https://localhost:8080/"
    },
    "id": "MLWiTMGEgkKn",
    "outputId": "bf86b436-c4bb-442b-9924-a11b2fc81d11"
   },
   "outputs": [
    {
     "name": "stdout",
     "output_type": "stream",
     "text": [
      "RMSE: 2.3481307410662184\n",
      "Score: 0.946543319298551\n"
     ]
    }
   ],
   "source": [
    "predictions = lm.predict(X_test)\n",
    "\n",
    "SSE = sum((np.array(y_test) - predictions)**2)\n",
    "\n",
    "# compute the RMSE\n",
    "RMSE = np.sqrt(SSE/len(predictions))\n",
    "\n",
    "print('RMSE:', RMSE)\n",
    "print ('Score:', model.score(X_test, y_test))\n",
    "#print ('Training Score:', model.score(X_train, y_train))\n",
    "#print ('Validation Score:', model.score(X_val, y_val))"
   ]
  },
  {
   "cell_type": "code",
   "execution_count": 703,
   "metadata": {
    "id": "57EFvittfwcH"
   },
   "outputs": [],
   "source": [
    "#Now that we confirmed our model is performing well, it's time to combine \n",
    "#the 2016, and 2017 season statistics and retrain the model and then re-check \n",
    "#its performance\n",
    "\n",
    "common = pd.concat([df16,df17])"
   ]
  },
  {
   "cell_type": "code",
   "execution_count": 704,
   "metadata": {
    "colab": {
     "base_uri": "https://localhost:8080/"
    },
    "id": "8niphL-EZit0",
    "outputId": "55548193-2521-4bf6-960a-bac8e9305d6f"
   },
   "outputs": [
    {
     "name": "stdout",
     "output_type": "stream",
     "text": [
      "(625, 21)\n",
      "(625,)\n"
     ]
    }
   ],
   "source": [
    "y = common['HR']\n",
    "X = common[[ \"PA\",\"AB\", \"H\",\n",
    "         \"R\", \"RBI\", \"BB%\", \"ISO\", \n",
    "         \"BABIP\", \"AVG\", 'OBP', \"SLG\", \n",
    "         \"GB%\", \"FB%\", \"IFFB%\", \"HR/FB\", \"O-Swing%\", \n",
    "         \"Z-Swing%\", \"Swing%\",\"O-Contact%\", \"Z-Contact%\", \"Contact%\" ]]\n",
    "X_train, X_val, y_train, y_val = train_test_split(X, y, test_size=0.2, random_state=42)\n",
    "print(X.shape)\n",
    "print(y.shape)"
   ]
  },
  {
   "cell_type": "code",
   "execution_count": 705,
   "metadata": {
    "id": "7NObSIjIt65j"
   },
   "outputs": [],
   "source": [
    "#train the model\n",
    "model = lm.fit(X_train, y_train)"
   ]
  },
  {
   "cell_type": "code",
   "execution_count": 706,
   "metadata": {
    "colab": {
     "base_uri": "https://localhost:8080/"
    },
    "id": "L3Z85sZutz7M",
    "outputId": "ad572522-2310-475f-9671-3c98418dbaef"
   },
   "outputs": [
    {
     "name": "stdout",
     "output_type": "stream",
     "text": [
      "RMSE: 2.1852682895683735\n",
      "Score: 0.9498782838590387\n",
      "Training Score: 0.948134406103827\n",
      "Validation Score: 0.9562974282386347\n"
     ]
    }
   ],
   "source": [
    "predictions = lm.predict(X_val)\n",
    "\n",
    "SSE = sum((np.array(y_val) - predictions)**2)\n",
    "\n",
    "# compute the RMSE\n",
    "RMSE = np.sqrt(SSE/len(predictions))\n",
    "\n",
    "print('RMSE:', RMSE)\n",
    "print ('Score:', model.score(X, y))\n",
    "print ('Training Score:', model.score(X_train, y_train))\n",
    "print ('Validation Score:', model.score(X_val, y_val))"
   ]
  },
  {
   "cell_type": "code",
   "execution_count": 707,
   "metadata": {
    "colab": {
     "base_uri": "https://localhost:8080/"
    },
    "id": "ADS321v7K0Xd",
    "outputId": "6bf6b9f6-5b18-452d-9f3f-f91b2223a9fd"
   },
   "outputs": [
    {
     "name": "stdout",
     "output_type": "stream",
     "text": [
      "(625, 21)\n",
      "(625,)\n"
     ]
    }
   ],
   "source": [
    "#The model continues to perform well and we will confirm one more time by\n",
    "#evaluating the model with the 2018 season statistics\n",
    "y_test = df18['HR']\n",
    "X_test = df18[[ \"PA\",\"AB\", \"H\",\n",
    "         \"R\", \"RBI\", \"BB%\", \"ISO\", \n",
    "         \"BABIP\", \"AVG\", 'OBP', \"SLG\", \n",
    "         \"GB%\", \"FB%\", \"IFFB%\", \"HR/FB\", \"O-Swing%\", \n",
    "         \"Z-Swing%\", \"Swing%\",\"O-Contact%\", \"Z-Contact%\", \"Contact%\" ]]\n",
    "#X_train, X_val, y_train, y_val = train_test_split(X, y, test_size=0.2, random_state=42)\n",
    "print(X.shape)\n",
    "print(y.shape)"
   ]
  },
  {
   "cell_type": "code",
   "execution_count": 708,
   "metadata": {
    "colab": {
     "base_uri": "https://localhost:8080/"
    },
    "id": "wLVRYBIGvQxK",
    "outputId": "30fc3b51-767c-4b98-8cb7-80d534bea2cf"
   },
   "outputs": [
    {
     "name": "stdout",
     "output_type": "stream",
     "text": [
      "RMSE: 2.083400585891736\n",
      "Score: 0.9472661954105612\n"
     ]
    }
   ],
   "source": [
    "predictions = lm.predict(X_test)\n",
    "\n",
    "SSE = sum((np.array(y_test) - predictions)**2)\n",
    "\n",
    "# compute the RMSE\n",
    "RMSE = np.sqrt(SSE/len(predictions))\n",
    "\n",
    "print('RMSE:', RMSE)\n",
    "print ('Score:', model.score(X_test, y_test))\n",
    "#print ('Training Score:', model.score(X_train, y_train))\n",
    "#print ('Validation Score:', model.score(X_val, y_val))"
   ]
  },
  {
   "cell_type": "code",
   "execution_count": 709,
   "metadata": {
    "colab": {
     "base_uri": "https://localhost:8080/"
    },
    "id": "yG_FNerx6sly",
    "outputId": "2e5175ad-9fe5-49b2-d1f2-f91eafb44413"
   },
   "outputs": [
    {
     "name": "stdout",
     "output_type": "stream",
     "text": [
      "(313, 21)\n",
      "(313,)\n"
     ]
    }
   ],
   "source": [
    "#The model continues to run well and I will train it one last time\n",
    "#by adding the 2018 and 2019 statistics to the data and then we will begin to\n",
    "#predict the 2021 statistics\n",
    "\n",
    "common2 = pd.concat([df16,df17, df18, df19])\n",
    "y = common2['HR']\n",
    "X = common2[[ \"PA\",\"AB\", \"H\",\n",
    "         \"R\", \"RBI\", \"BB%\", \"ISO\", \n",
    "         \"BABIP\", \"AVG\", 'OBP', \"SLG\", \n",
    "         \"GB%\", \"FB%\", \"IFFB%\", \"HR/FB\", \"O-Swing%\", \n",
    "         \"Z-Swing%\", \"Swing%\",\"O-Contact%\", \"Z-Contact%\", \"Contact%\" ]]\n",
    "X_train, X_val, y_train, y_val = train_test_split(X, y, test_size=0.2, random_state=42)\n",
    "print(X_test.shape)\n",
    "print(y_test.shape)"
   ]
  },
  {
   "cell_type": "code",
   "execution_count": 710,
   "metadata": {
    "id": "BPUt341Jx1O5"
   },
   "outputs": [],
   "source": [
    "#train the model again\n",
    "model = lm.fit(X_train, y_train)"
   ]
  },
  {
   "cell_type": "code",
   "execution_count": 711,
   "metadata": {
    "colab": {
     "base_uri": "https://localhost:8080/"
    },
    "id": "ZPIJT_iS4SuH",
    "outputId": "e352a6a9-1423-42e6-f3e0-f73f9e47ad38"
   },
   "outputs": [
    {
     "name": "stdout",
     "output_type": "stream",
     "text": [
      "RMSE: 2.412670130432081\n",
      "Score: 0.9511362588782829\n",
      "Training Score: 0.9522121728302813\n",
      "Validation Score: 0.947243525246337\n"
     ]
    }
   ],
   "source": [
    "predictions = lm.predict(X_val)\n",
    "\n",
    "SSE = sum((np.array(y_val) - predictions)**2)\n",
    "\n",
    "# compute the RMSE\n",
    "RMSE = np.sqrt(SSE/len(predictions))\n",
    "\n",
    "print('RMSE:', RMSE)\n",
    "print ('Score:', model.score(X, y))\n",
    "print ('Training Score:', model.score(X_train, y_train))\n",
    "print ('Validation Score:', model.score(X_val, y_val))"
   ]
  },
  {
   "cell_type": "code",
   "execution_count": 712,
   "metadata": {
    "colab": {
     "base_uri": "https://localhost:8080/"
    },
    "id": "F8Cwa_FdyUat",
    "outputId": "33e2adc3-4e5e-4550-8353-fdde3fdd53aa"
   },
   "outputs": [
    {
     "name": "stdout",
     "output_type": "stream",
     "text": [
      "(311, 21)\n",
      "(311,)\n"
     ]
    }
   ],
   "source": [
    "#Now that the model is fully trained with the data from 2016-2019, we are ready\n",
    "#for the original task of predicting the data from 2021\n",
    "\n",
    "y_test = df21['HR']\n",
    "X_test = df21[[ \"PA\",\"AB\", \"H\",\n",
    "         \"R\", \"RBI\", \"BB%\", \"ISO\", \n",
    "         \"BABIP\", \"AVG\", 'OBP', \"SLG\", \n",
    "         \"GB%\", \"FB%\", \"IFFB%\", \"HR/FB\", \"O-Swing%\", \n",
    "         \"Z-Swing%\", \"Swing%\",\"O-Contact%\", \"Z-Contact%\", \"Contact%\" ]]\n",
    "#X_train, X_val, y_train, y_val = train_test_split(X, y, test_size=0.2, random_state=42)\n",
    "print(X_test.shape)\n",
    "print(y_test.shape)"
   ]
  },
  {
   "cell_type": "code",
   "execution_count": 713,
   "metadata": {
    "colab": {
     "base_uri": "https://localhost:8080/"
    },
    "id": "wpo9RCdXyUX2",
    "outputId": "98dc31bb-34d5-4bc6-f498-ae40c94da4b0"
   },
   "outputs": [
    {
     "name": "stdout",
     "output_type": "stream",
     "text": [
      "RMSE: 2.157458004279824\n",
      "Score: 0.9552769976623051\n"
     ]
    }
   ],
   "source": [
    "#Here we will make predictions of the amount of HRs per player\n",
    "#during the 2021 season\n",
    "predictions = lm.predict(X_test)\n",
    "\n",
    "SSE = sum((np.array(y_test) - predictions)**2)\n",
    "\n",
    "# compute the RMSE\n",
    "RMSE = np.sqrt(SSE/len(predictions))\n",
    "\n",
    "print('RMSE:', RMSE)\n",
    "print ('Score:', model.score(X_test, y_test))\n",
    "#print ('Training Score:', model.score(X_train, y_train))\n",
    "#print ('Validation Score:', model.score(X_val, y_val))"
   ]
  },
  {
   "cell_type": "code",
   "execution_count": 714,
   "metadata": {
    "colab": {
     "base_uri": "https://localhost:8080/",
     "height": 285
    },
    "id": "FFbXizhPyUTb",
    "outputId": "f667d052-f291-40a1-d9f6-8df00821d86b"
   },
   "outputs": [
    {
     "data": {
      "text/plain": [
       "<matplotlib.legend.Legend at 0x7f589b600790>"
      ]
     },
     "execution_count": 714,
     "metadata": {},
     "output_type": "execute_result"
    },
    {
     "data": {
      "image/png": "[encoded data removed]",
      "text/plain": [
       "<Figure size 432x288 with 1 Axes>"
      ]
     },
     "metadata": {},
     "output_type": "display_data"
    }
   ],
   "source": [
    "#Now we want to check the values of our predicted HR statistics vs\n",
    "#the actual recorded values\n",
    "\n",
    "plt.plot(range(50), predictions[:50], label='model prediction')\n",
    "plt.plot(range(50), y_test[:50], 'r', label='true value')\n",
    "plt.legend()"
   ]
  },
  {
   "cell_type": "markdown",
   "metadata": {
    "id": "KR5N5HvG1sJw"
   },
   "source": [
    "- As you can see from the figure above, the consistencies in the model prediction values and the true values of 'HR' prove this linear regression model to be performing extremely well."
   ]
  },
  {
   "cell_type": "markdown",
   "metadata": {
    "id": "cveux2YGgRve"
   },
   "source": [
    "#### <u> XGBoost <u/> "
   ]
  },
  {
   "cell_type": "code",
   "execution_count": 715,
   "metadata": {
    "id": "yTWTl0s4pcVY"
   },
   "outputs": [],
   "source": [
    "import xgboost as xgb"
   ]
  },
  {
   "cell_type": "code",
   "execution_count": 716,
   "metadata": {
    "id": "pZE5B3F2dRvs"
   },
   "outputs": [],
   "source": [
    "from pandas.core.common import random_state\n",
    "# Let's define a KFold for this dataset\n",
    "kf = KFold(n_splits = 10, shuffle = True, random_state = 12345)"
   ]
  },
  {
   "cell_type": "code",
   "execution_count": 717,
   "metadata": {
    "id": "We5NoBMbZBRE"
   },
   "outputs": [],
   "source": [
    "y = df16['HR']\n",
    "X = df16[[ \"AB\", \"PA\", \"H\", \"R\", \n",
    "          \"RBI\", \"SB\", \"BB%\", \"ISO\", \n",
    "         \"BABIP\", \"AVG\", 'OBP', \"SLG\", 'LD%',\n",
    "         \"GB%\", \"FB%\", \"IFFB%\", \"HR/FB\", \"O-Swing%\", \n",
    "         \"Z-Swing%\", \"Swing%\",\"O-Contact%\", \"Z-Contact%\", \"Contact%\"]]\n",
    "\n",
    "X_train, X_val, y_train, y_val = train_test_split(X, y, test_size=0.2, random_state=42)"
   ]
  },
  {
   "cell_type": "code",
   "execution_count": 718,
   "metadata": {
    "colab": {
     "base_uri": "https://localhost:8080/"
    },
    "id": "NqxoaA9lgZLP",
    "outputId": "ab4813ca-bea1-4bba-af00-85ecca1b2879"
   },
   "outputs": [
    {
     "name": "stdout",
     "output_type": "stream",
     "text": [
      "[01:28:51] WARNING: /workspace/src/objective/regression_obj.cu:152: reg:linear is now deprecated in favor of reg:squarederror.\n",
      "Validation score:  0.9976969292799691\n"
     ]
    }
   ],
   "source": [
    "# Define and train base model\n",
    "\n",
    "base_model = xgb.XGBRegressor()\n",
    "base_model.fit(X_train, y_train)\n",
    "score = base_model.score(X_train, y_train)   \n",
    "print(\"Validation score: \", score) "
   ]
  },
  {
   "cell_type": "code",
   "execution_count": 719,
   "metadata": {
    "colab": {
     "base_uri": "https://localhost:8080/"
    },
    "id": "cMEvYPQqZ5Wo",
    "outputId": "4578f6e0-02a8-40e0-948d-99a9a3e938bb"
   },
   "outputs": [
    {
     "name": "stdout",
     "output_type": "stream",
     "text": [
      "[01:28:51] WARNING: /workspace/src/objective/regression_obj.cu:152: reg:linear is now deprecated in favor of reg:squarederror.\n",
      "[01:28:51] WARNING: /workspace/src/objective/regression_obj.cu:152: reg:linear is now deprecated in favor of reg:squarederror.\n",
      "[01:28:51] WARNING: /workspace/src/objective/regression_obj.cu:152: reg:linear is now deprecated in favor of reg:squarederror.\n",
      "[01:28:52] WARNING: /workspace/src/objective/regression_obj.cu:152: reg:linear is now deprecated in favor of reg:squarederror.\n",
      "[01:28:52] WARNING: /workspace/src/objective/regression_obj.cu:152: reg:linear is now deprecated in favor of reg:squarederror.\n",
      "Mean cross-validation score: 1.59\n"
     ]
    }
   ],
   "source": [
    "scores = -cross_val_score(base_model, X_train, y_train, cv=5, scoring='neg_mean_absolute_error')\n",
    "print(\"Mean cross-validation score: %.2f\" % scores.mean())"
   ]
  },
  {
   "cell_type": "code",
   "execution_count": 720,
   "metadata": {
    "colab": {
     "base_uri": "https://localhost:8080/"
    },
    "id": "s6n6zftEaoDb",
    "outputId": "c881835d-e778-4d62-9a39-77c88b642ab4"
   },
   "outputs": [
    {
     "name": "stdout",
     "output_type": "stream",
     "text": [
      "[01:28:52] WARNING: /workspace/src/objective/regression_obj.cu:152: reg:linear is now deprecated in favor of reg:squarederror.\n",
      "[01:28:52] WARNING: /workspace/src/objective/regression_obj.cu:152: reg:linear is now deprecated in favor of reg:squarederror.\n",
      "[01:28:52] WARNING: /workspace/src/objective/regression_obj.cu:152: reg:linear is now deprecated in favor of reg:squarederror.\n",
      "[01:28:52] WARNING: /workspace/src/objective/regression_obj.cu:152: reg:linear is now deprecated in favor of reg:squarederror.\n",
      "[01:28:52] WARNING: /workspace/src/objective/regression_obj.cu:152: reg:linear is now deprecated in favor of reg:squarederror.\n",
      "[01:28:52] WARNING: /workspace/src/objective/regression_obj.cu:152: reg:linear is now deprecated in favor of reg:squarederror.\n",
      "[01:28:52] WARNING: /workspace/src/objective/regression_obj.cu:152: reg:linear is now deprecated in favor of reg:squarederror.\n",
      "[01:28:52] WARNING: /workspace/src/objective/regression_obj.cu:152: reg:linear is now deprecated in favor of reg:squarederror.\n",
      "[01:28:52] WARNING: /workspace/src/objective/regression_obj.cu:152: reg:linear is now deprecated in favor of reg:squarederror.\n",
      "[01:28:52] WARNING: /workspace/src/objective/regression_obj.cu:152: reg:linear is now deprecated in favor of reg:squarederror.\n",
      "K-fold CV average score: 1.60\n"
     ]
    }
   ],
   "source": [
    "kf_cv_scores = -cross_val_score(base_model, X_train, y_train, cv=kf, scoring='neg_mean_absolute_error')\n",
    "print(\"K-fold CV average score: %.2f\" % kf_cv_scores.mean())"
   ]
  },
  {
   "cell_type": "markdown",
   "metadata": {
    "id": "f38UcoW5hIfE"
   },
   "source": [
    "##### <u> K Nearest Neighbors (KNN) <u/>"
   ]
  },
  {
   "cell_type": "code",
   "execution_count": 721,
   "metadata": {
    "id": "KnUz-ikGMBV7"
   },
   "outputs": [],
   "source": [
    "y = df16['HR']\n",
    "X = df16[[ \"AB\", \"PA\", \"H\", \"R\",\n",
    "          \"RBI\", \"AVG\", \"OBP\", \"BB%\",\"SLG\",\n",
    "         \"ISO\",\"BABIP\", 'LD%', \"GB%\",\n",
    "          \"FB%\", \"IFFB%\", \"HR/FB\", \"O-Swing%\", \n",
    "         \"Z-Swing%\", \"Swing%\",\"O-Contact%\", \"Z-Contact%\", \"Contact%\"]]\n",
    "\n",
    "X_train, X_val, y_train, y_val = train_test_split(X, y, test_size=0.2, random_state=42)"
   ]
  },
  {
   "cell_type": "code",
   "execution_count": 722,
   "metadata": {
    "id": "lxOeXK_qMTDe"
   },
   "outputs": [],
   "source": [
    "#K-Nearest Neighbors pipeline\n",
    "transformer = Pipeline(steps=[('scaler', StandardScaler())])\n",
    "features = [\"AB\", \"PA\", \"H\", \"R\",\n",
    "          \"RBI\", \"AVG\", \"OBP\", \"BB%\",\"SLG\",\n",
    "         \"ISO\",\"BABIP\", 'LD%', \"GB%\",\n",
    "          \"FB%\", \"IFFB%\", \"HR/FB\", \"O-Swing%\", \n",
    "         \"Z-Swing%\", \"Swing%\",\"O-Contact%\", \"Z-Contact%\", \"Contact%\"]\n",
    "preprocessor = ColumnTransformer(transformers=[('scale', transformer, features)])"
   ]
  },
  {
   "cell_type": "code",
   "execution_count": 723,
   "metadata": {
    "id": "_o-tTAwBMiVV"
   },
   "outputs": [],
   "source": [
    "knn_pipe = Pipeline(steps=[('preprocessor', preprocessor),\n",
    "                           ('regression', KNeighborsRegressor(n_neighbors=5))])"
   ]
  },
  {
   "cell_type": "code",
   "execution_count": 724,
   "metadata": {
    "colab": {
     "base_uri": "https://localhost:8080/"
    },
    "id": "FZrrnwMCM3pJ",
    "outputId": "94a40851-5a67-4b46-fe8f-91b8d97c5cd0"
   },
   "outputs": [
    {
     "name": "stdout",
     "output_type": "stream",
     "text": [
      "RMSE 3.332731128398082\n",
      "KNN Score: 0.9394047518504598\n"
     ]
    }
   ],
   "source": [
    "#K-Nearest Neighbors trained algorithm\n",
    "knn_pipe.fit(X_train, y_train)\n",
    "knn_predictions = knn_pipe.predict(X_val)\n",
    "\n",
    "SSE = sum((np.array(y_val) - knn_predictions)**2)\n",
    "\n",
    "# compute the RMSE\n",
    "RMSE = np.sqrt(SSE/len(knn_predictions))\n",
    "\n",
    "print(\"RMSE\", RMSE)\n",
    "print ('KNN Score:', knn_pipe.score(X_train, y_train))"
   ]
  },
  {
   "cell_type": "code",
   "execution_count": 725,
   "metadata": {
    "id": "xE12FoyvhmFf"
   },
   "outputs": [],
   "source": [
    "#Now we want to test the data from 2017 with the model that was trained\n",
    "#using the data from 2016\n",
    "y_test = df17['HR']\n",
    "X_test = df17[[ \"AB\", \"PA\", \"H\", \"R\",\n",
    "          \"RBI\", \"AVG\", \"OBP\", \"BB%\",\"SLG\",\n",
    "         \"ISO\",\"BABIP\", 'LD%', \"GB%\",\n",
    "          \"FB%\", \"IFFB%\", \"HR/FB\", \"O-Swing%\", \n",
    "         \"Z-Swing%\", \"Swing%\",\"O-Contact%\", \"Z-Contact%\", \"Contact%\"]]"
   ]
  },
  {
   "cell_type": "code",
   "execution_count": 726,
   "metadata": {
    "colab": {
     "base_uri": "https://localhost:8080/"
    },
    "id": "tewml-7V3BDG",
    "outputId": "769a3eed-e72b-4a60-c4cf-658488def3f9"
   },
   "outputs": [
    {
     "name": "stdout",
     "output_type": "stream",
     "text": [
      "RMSE 3.332731128398082\n",
      "KNN Score: 0.9394047518504598\n"
     ]
    }
   ],
   "source": [
    "knn_pipe.fit(X_train, y_train)\n",
    "knn_predictions = knn_pipe.predict(X_val)\n",
    "\n",
    "SSE = sum((np.array(y_val) - knn_predictions)**2)\n",
    "\n",
    "# compute the RMSE\n",
    "RMSE = np.sqrt(SSE/len(knn_predictions))\n",
    "\n",
    "print(\"RMSE\", RMSE)\n",
    "print ('KNN Score:', knn_pipe.score(X_train, y_train))"
   ]
  },
  {
   "cell_type": "code",
   "execution_count": 727,
   "metadata": {
    "id": "bV6lVUFL3BA_"
   },
   "outputs": [],
   "source": [
    "y = common['HR']\n",
    "X = common[[ \"PA\",\"AB\", \"H\",\n",
    "         \"R\", \"RBI\", \"BB%\", \"ISO\", \n",
    "         \"BABIP\", \"AVG\", 'OBP', \"SLG\", 'LD%',\n",
    "         \"GB%\", \"FB%\", \"IFFB%\", \"HR/FB\", \"O-Swing%\", \n",
    "         \"Z-Swing%\", \"Swing%\",\"O-Contact%\", \"Z-Contact%\", \"Contact%\" ]]\n",
    "X_train, X_val, y_train, y_val = train_test_split(X, y, test_size=0.2, random_state=42)"
   ]
  },
  {
   "cell_type": "code",
   "execution_count": 728,
   "metadata": {
    "colab": {
     "base_uri": "https://localhost:8080/"
    },
    "id": "zB35eJsG3A-q",
    "outputId": "a92a7a40-ef1e-4064-dbe2-e61195ab0d8a"
   },
   "outputs": [
    {
     "name": "stdout",
     "output_type": "stream",
     "text": [
      "RMSE 3.021099137731168\n",
      "KNN Score: 0.935884737208173\n"
     ]
    }
   ],
   "source": [
    "#train the new model\n",
    "knn_pipe.fit(X_train, y_train)\n",
    "knn_predictions = knn_pipe.predict(X_val)\n",
    "\n",
    "SSE = sum((np.array(y_val) - knn_predictions)**2)\n",
    "\n",
    "# compute the RMSE\n",
    "RMSE = np.sqrt(SSE/len(knn_predictions))\n",
    "\n",
    "print(\"RMSE\", RMSE)\n",
    "print ('KNN Score:', knn_pipe.score(X_train, y_train))"
   ]
  },
  {
   "cell_type": "code",
   "execution_count": 729,
   "metadata": {
    "colab": {
     "base_uri": "https://localhost:8080/"
    },
    "id": "VsRyJ1WT3A34",
    "outputId": "e8a947c4-a6c1-41bf-da01-8fe0822506eb"
   },
   "outputs": [
    {
     "name": "stdout",
     "output_type": "stream",
     "text": [
      "(625, 22)\n",
      "(625,)\n"
     ]
    }
   ],
   "source": [
    "#The model continues to perform well and we will confirm one more time by\n",
    "#evaluating the model with the 2018 season statistics\n",
    "y_test = df18['HR']\n",
    "X_test = df18[[ \"PA\",\"AB\", \"H\",\n",
    "         \"R\", \"RBI\", \"BB%\", \"ISO\", \n",
    "         \"BABIP\", \"AVG\", 'OBP', \"SLG\", \n",
    "         \"GB%\", \"FB%\", \"IFFB%\", \"HR/FB\", \"O-Swing%\", \n",
    "         \"Z-Swing%\", \"Swing%\",\"O-Contact%\", \"Z-Contact%\", \"Contact%\" ]]\n",
    "#X_train, X_val, y_train, y_val = train_test_split(X, y, test_size=0.2, random_state=42)\n",
    "print(X.shape)\n",
    "print(y.shape)"
   ]
  },
  {
   "cell_type": "code",
   "execution_count": 730,
   "metadata": {
    "colab": {
     "base_uri": "https://localhost:8080/"
    },
    "id": "JkqpsyyV3A1T",
    "outputId": "925fcc6f-c73f-4896-d106-462444476ae9"
   },
   "outputs": [
    {
     "name": "stdout",
     "output_type": "stream",
     "text": [
      "RMSE 3.021099137731168\n",
      "KNN Score: 0.935884737208173\n"
     ]
    }
   ],
   "source": [
    "knn_pipe.fit(X_train, y_train)\n",
    "knn_predictions = knn_pipe.predict(X_val)\n",
    "\n",
    "SSE = sum((np.array(y_val) - knn_predictions)**2)\n",
    "\n",
    "# compute the RMSE\n",
    "RMSE = np.sqrt(SSE/len(knn_predictions))\n",
    "\n",
    "print(\"RMSE\", RMSE)\n",
    "print ('KNN Score:', knn_pipe.score(X_train, y_train))"
   ]
  },
  {
   "cell_type": "code",
   "execution_count": 731,
   "metadata": {
    "id": "2gDlv62GLdyB"
   },
   "outputs": [],
   "source": [
    "#The model continues to run well and we will train it one last time\n",
    "#by adding the 2018 and 2019 statistics to the data and then we will begin to\n",
    "#predict the 2021 statistics\n",
    "\n",
    "y = common2['HR']\n",
    "X = common2[[ \"PA\",\"AB\", \"H\",\n",
    "         \"R\", \"RBI\", \"BB%\", \"ISO\", \n",
    "         \"BABIP\", \"AVG\", 'OBP', \"SLG\", 'LD%',\n",
    "         \"GB%\", \"FB%\", \"IFFB%\", \"HR/FB\", \"O-Swing%\", \n",
    "         \"Z-Swing%\", \"Swing%\",\"O-Contact%\", \"Z-Contact%\", \"Contact%\" ]]\n",
    "X_train, X_val, y_train, y_val = train_test_split(X, y, test_size=0.2, random_state=42)"
   ]
  },
  {
   "cell_type": "code",
   "execution_count": 732,
   "metadata": {
    "colab": {
     "base_uri": "https://localhost:8080/"
    },
    "id": "XHWz1WLcLdwL",
    "outputId": "842226b2-1c13-43a6-9231-d6025dcac555"
   },
   "outputs": [
    {
     "name": "stdout",
     "output_type": "stream",
     "text": [
      "RMSE 2.9008482612712845\n",
      "KNN Score: 0.947668982682859\n"
     ]
    }
   ],
   "source": [
    "#train the new model\n",
    "knn_pipe.fit(X_train, y_train)\n",
    "knn_predictions = knn_pipe.predict(X_val)\n",
    "\n",
    "SSE = sum((np.array(y_val) - knn_predictions)**2)\n",
    "\n",
    "# compute the RMSE\n",
    "RMSE = np.sqrt(SSE/len(knn_predictions))\n",
    "\n",
    "print(\"RMSE\", RMSE)\n",
    "print ('KNN Score:', knn_pipe.score(X_train, y_train))"
   ]
  },
  {
   "cell_type": "code",
   "execution_count": 733,
   "metadata": {
    "id": "UOjd48bdLdt1"
   },
   "outputs": [],
   "source": [
    "#Now that the model is fully trained with the data from 2016-2019, we are ready\n",
    "#for the original task of predicting the data from 2021\n",
    "\n",
    "y_test = df21['HR']\n",
    "X_test = df21[[ \"PA\",\"AB\", \"H\",\n",
    "         \"R\", \"RBI\", \"BB%\", \"ISO\", \n",
    "         \"BABIP\", \"AVG\",\"OBP\", \"SLG\", \n",
    "         \"GB%\", \"FB%\", \"IFFB%\", \"HR/FB\", \"O-Swing%\", \n",
    "         \"Z-Swing%\", \"Swing%\",\"O-Contact%\", \"Z-Contact%\", \"Contact%\" ]]"
   ]
  },
  {
   "cell_type": "code",
   "execution_count": 734,
   "metadata": {
    "colab": {
     "base_uri": "https://localhost:8080/"
    },
    "id": "tmyaeRmbLdrf",
    "outputId": "727c53dc-413b-49ca-9075-10b41f09c2ac"
   },
   "outputs": [
    {
     "name": "stdout",
     "output_type": "stream",
     "text": [
      "RMSE 2.9008482612712845\n",
      "KNN Score: 0.947668982682859\n"
     ]
    }
   ],
   "source": [
    "knn_pipe.fit(X_train, y_train)\n",
    "knn_predictions = knn_pipe.predict(X_val)\n",
    "\n",
    "SSE = sum((np.array(y_val) - knn_predictions)**2)\n",
    "\n",
    "# compute the RMSE\n",
    "RMSE = np.sqrt(SSE/len(knn_predictions))\n",
    "\n",
    "print(\"RMSE\", RMSE)\n",
    "print ('KNN Score:', knn_pipe.score(X_train, y_train))"
   ]
  },
  {
   "cell_type": "code",
   "execution_count": 735,
   "metadata": {
    "colab": {
     "base_uri": "https://localhost:8080/",
     "height": 285
    },
    "id": "f88XZNA-LdkN",
    "outputId": "75db4280-293d-4540-b6a6-45894eb48080"
   },
   "outputs": [
    {
     "data": {
      "text/plain": [
       "<matplotlib.legend.Legend at 0x7f589b538a10>"
      ]
     },
     "execution_count": 735,
     "metadata": {},
     "output_type": "execute_result"
    },
    {
     "data": {
      "image/png": "[encoded data removed]",
      "text/plain": [
       "<Figure size 432x288 with 1 Axes>"
      ]
     },
     "metadata": {},
     "output_type": "display_data"
    }
   ],
   "source": [
    "#Now we want to check the values of our predicted OBP statistics vs\n",
    "#the actual recorded values\n",
    "\n",
    "plt.plot(range(50), knn_predictions[:50], label='model prediction')\n",
    "plt.plot(range(50), y_test[:50], 'r', label='true value')\n",
    "plt.legend()"
   ]
  },
  {
   "cell_type": "markdown",
   "metadata": {
    "id": "k0N0xB9b3Isb"
   },
   "source": [
    "## (B) - OBP Predictions"
   ]
  },
  {
   "cell_type": "markdown",
   "metadata": {
    "id": "LCIrOqH54tdZ"
   },
   "source": [
    "##### <u> Linear Regression <u/>"
   ]
  },
  {
   "cell_type": "code",
   "execution_count": 736,
   "metadata": {
    "id": "4XVnr28K3P8E"
   },
   "outputs": [],
   "source": [
    "#We want to first train the model with the statistics from 2016\n",
    "\n",
    "y = df16['OBP']\n",
    "X = df16[[ \"AB\", \"PA\", \"H\", \"R\", \"HR\",\n",
    "          \"RBI\", \"SB\", \"BB%\", \"K%\", \"ISO\", \n",
    "         \"BABIP\", \"AVG\", \"SLG\", 'LD%',\n",
    "         \"GB%\", \"FB%\", \"IFFB%\", \"HR/FB\", \"O-Swing%\", \n",
    "         \"Z-Swing%\", \"Swing%\",\"O-Contact%\", \"Z-Contact%\", \"Contact%\"]]\n",
    "\n",
    "X_train, X_val, y_train, y_val = train_test_split(X, y, test_size=0.2, random_state=42)"
   ]
  },
  {
   "cell_type": "code",
   "execution_count": 737,
   "metadata": {
    "id": "RM0N812t3QmH"
   },
   "outputs": [],
   "source": [
    "lm = LinearRegression()\n",
    "model = lm.fit(X_train, y_train)"
   ]
  },
  {
   "cell_type": "code",
   "execution_count": 738,
   "metadata": {
    "colab": {
     "base_uri": "https://localhost:8080/"
    },
    "id": "LehPySKu3SJq",
    "outputId": "1317d0fa-6fe0-4166-a34a-445b8fac8c16"
   },
   "outputs": [
    {
     "name": "stdout",
     "output_type": "stream",
     "text": [
      "RMSE: 0.006282059757504577\n",
      "Score: 0.9718899544098001\n",
      "Training Score: 0.9722376021086292\n",
      "Validation Score: 0.966507556780341\n"
     ]
    }
   ],
   "source": [
    "predictions = lm.predict(X_val)\n",
    "\n",
    "SSE = sum((np.array(y_val) - predictions)**2)\n",
    "\n",
    "# compute the RMSE\n",
    "RMSE = np.sqrt(SSE/len(predictions))\n",
    "\n",
    "print('RMSE:', RMSE)\n",
    "print ('Score:', model.score(X, y))\n",
    "print ('Training Score:', model.score(X_train, y_train))\n",
    "print ('Validation Score:', model.score(X_val, y_val))"
   ]
  },
  {
   "cell_type": "code",
   "execution_count": 739,
   "metadata": {
    "id": "Y__gKlt25Hd_"
   },
   "outputs": [],
   "source": [
    "#Now we want evaluate our model but from the statistics from 2016 and see how\n",
    "#it will perform predicting 2017 statistics\n",
    "y_test = df17['OBP']\n",
    "X_test = df17[[ \"AB\", \"PA\", \"H\", \"R\", \"HR\",\n",
    "          \"RBI\", \"SB\", \"BB%\", \"K%\", \"ISO\", \n",
    "         \"BABIP\", \"AVG\", \"SLG\", 'LD%',\n",
    "         \"GB%\", \"FB%\", \"IFFB%\", \"HR/FB\", \"O-Swing%\", \n",
    "         \"Z-Swing%\", \"Swing%\",\"O-Contact%\", \"Z-Contact%\", \"Contact%\" ]]"
   ]
  },
  {
   "cell_type": "code",
   "execution_count": 740,
   "metadata": {
    "colab": {
     "base_uri": "https://localhost:8080/"
    },
    "id": "OO5TAxSh5HXi",
    "outputId": "e47179f1-8467-49ee-ab88-4b70482fd06e"
   },
   "outputs": [
    {
     "name": "stdout",
     "output_type": "stream",
     "text": [
      "RMSE: 0.0054929276556109205\n",
      "Score: 0.975669639438639\n"
     ]
    }
   ],
   "source": [
    "predictions = lm.predict(X_test)\n",
    "\n",
    "SSE = sum((np.array(y_test) - predictions)**2)\n",
    "\n",
    "# compute the RMSE\n",
    "RMSE = np.sqrt(SSE/len(predictions))\n",
    "\n",
    "print('RMSE:', RMSE)\n",
    "print ('Score:', model.score(X_test, y_test))\n",
    "#print ('Training Score:', model.score(X_train, y_train))\n",
    "#print ('Validation Score:', model.score(X_val, y_val))"
   ]
  },
  {
   "cell_type": "code",
   "execution_count": 741,
   "metadata": {
    "id": "jQOU8k6v5HOR"
   },
   "outputs": [],
   "source": [
    "#Now that we confirmed the model is performing well, it's time to combine \n",
    "#the 2016, and 2017 season statistics and retrain our model and then re-check \n",
    "#its performance\n",
    "\n",
    "common = pd.concat([df16,df17])"
   ]
  },
  {
   "cell_type": "code",
   "execution_count": 742,
   "metadata": {
    "id": "G5WFTaw73SE8"
   },
   "outputs": [],
   "source": [
    "y = common['OBP']\n",
    "X = common[[ \"PA\",\"AB\", \"H\", \"HR\",\n",
    "         \"R\", \"RBI\", \"BB%\", \"ISO\", \n",
    "         \"BABIP\", \"AVG\", \"SLG\", \n",
    "         \"GB%\", \"FB%\", \"IFFB%\", \"HR/FB\", \"O-Swing%\", \n",
    "         \"Z-Swing%\", \"Swing%\",\"O-Contact%\", \"Z-Contact%\", \"Contact%\" ]]\n",
    "\n",
    "X_train, X_val, y_train, y_val = train_test_split(X, y, test_size=0.2, random_state=42)"
   ]
  },
  {
   "cell_type": "code",
   "execution_count": 743,
   "metadata": {
    "id": "KiM0jGly8z1T"
   },
   "outputs": [],
   "source": [
    "#train the model\n",
    "model = lm.fit(X_train, y_train)"
   ]
  },
  {
   "cell_type": "code",
   "execution_count": 744,
   "metadata": {
    "colab": {
     "base_uri": "https://localhost:8080/"
    },
    "id": "7lX_H-bZ8zy-",
    "outputId": "4b91f7ce-0658-44a4-ac33-e34f0039ab59"
   },
   "outputs": [
    {
     "name": "stdout",
     "output_type": "stream",
     "text": [
      "RMSE: 0.005405686280444051\n",
      "Score: 0.9743770759730394\n",
      "Training Score: 0.9745806339907376\n",
      "Validation Score: 0.9734005484676194\n"
     ]
    }
   ],
   "source": [
    "predictions = lm.predict(X_val)\n",
    "\n",
    "SSE = sum((np.array(y_val) - predictions)**2)\n",
    "\n",
    "# compute the RMSE\n",
    "RMSE = np.sqrt(SSE/len(predictions))\n",
    "\n",
    "print('RMSE:', RMSE)\n",
    "print ('Score:', model.score(X, y))\n",
    "print ('Training Score:', model.score(X_train, y_train))\n",
    "print ('Validation Score:', model.score(X_val, y_val))"
   ]
  },
  {
   "cell_type": "code",
   "execution_count": 745,
   "metadata": {
    "id": "SUWz04XU9SOW"
   },
   "outputs": [],
   "source": [
    "#The model continues to perform well and we will confirm one more time by\n",
    "#evaluating the model with the 2018 season statistics\n",
    "y_test = df18['OBP']\n",
    "X_test = df18[[ \"PA\",\"AB\", \"H\", \"HR\",\n",
    "         \"R\", \"RBI\", \"BB%\", \"ISO\", \n",
    "         \"BABIP\", \"AVG\", \"SLG\", \n",
    "         \"GB%\", \"FB%\", \"IFFB%\", \"HR/FB\", \"O-Swing%\", \n",
    "         \"Z-Swing%\", \"Swing%\",\"O-Contact%\", \"Z-Contact%\", \"Contact%\" ]]"
   ]
  },
  {
   "cell_type": "code",
   "execution_count": 746,
   "metadata": {
    "colab": {
     "base_uri": "https://localhost:8080/"
    },
    "id": "lffb0f3e9SIG",
    "outputId": "c660bd75-9d4f-494d-b064-c55b656b9934"
   },
   "outputs": [
    {
     "name": "stdout",
     "output_type": "stream",
     "text": [
      "RMSE: 0.005521475722924536\n",
      "Score: 0.9752995986751684\n"
     ]
    }
   ],
   "source": [
    "predictions = lm.predict(X_test)\n",
    "\n",
    "SSE = sum((np.array(y_test) - predictions)**2)\n",
    "\n",
    "# compute the RMSE\n",
    "RMSE = np.sqrt(SSE/len(predictions))\n",
    "\n",
    "print('RMSE:', RMSE)\n",
    "print ('Score:', model.score(X_test, y_test))\n",
    "#print ('Training Score:', model.score(X_train, y_train))\n",
    "#print ('Validation Score:', model.score(X_val, y_val))"
   ]
  },
  {
   "cell_type": "code",
   "execution_count": 747,
   "metadata": {
    "id": "QmjLMIMC9SFx"
   },
   "outputs": [],
   "source": [
    "#The model continues to run well and we will train it one last time\n",
    "#by adding the 2018 and 2019 statistics to the data and then we will begin to\n",
    "#predict the 2021 statistics\n",
    "\n",
    "common2 = pd.concat([df16,df17, df18, df19])\n",
    "y = common2['OBP']\n",
    "X = common2[[ \"PA\",\"AB\", \"H\", \"HR\",\n",
    "         \"R\", \"RBI\", \"BB%\", \"ISO\", \n",
    "         \"BABIP\", \"AVG\", \"SLG\", \n",
    "         \"GB%\", \"FB%\", \"IFFB%\", \"HR/FB\", \"O-Swing%\", \n",
    "         \"Z-Swing%\", \"Swing%\",\"O-Contact%\", \"Z-Contact%\", \"Contact%\" ]]\n",
    "X_train, X_val, y_train, y_val = train_test_split(X, y, test_size=0.2, random_state=42)"
   ]
  },
  {
   "cell_type": "code",
   "execution_count": 748,
   "metadata": {
    "id": "JeawFxD28ztQ"
   },
   "outputs": [],
   "source": [
    "#train the model again\n",
    "model = lm.fit(X_train, y_train)"
   ]
  },
  {
   "cell_type": "code",
   "execution_count": 749,
   "metadata": {
    "colab": {
     "base_uri": "https://localhost:8080/"
    },
    "id": "LivWEGjl9jDs",
    "outputId": "5bbf1116-1b20-466b-d0ed-1da40885e30a"
   },
   "outputs": [
    {
     "name": "stdout",
     "output_type": "stream",
     "text": [
      "RMSE: 0.006639353018947757\n",
      "Score: 0.9730001298425055\n",
      "Training Score: 0.9751348766137664\n",
      "Validation Score: 0.9649231165564489\n"
     ]
    }
   ],
   "source": [
    "predictions = lm.predict(X_val)\n",
    "\n",
    "SSE = sum((np.array(y_val) - predictions)**2)\n",
    "\n",
    "# compute the RMSE\n",
    "RMSE = np.sqrt(SSE/len(predictions))\n",
    "\n",
    "print('RMSE:', RMSE)\n",
    "print ('Score:', model.score(X, y))\n",
    "print ('Training Score:', model.score(X_train, y_train))\n",
    "print ('Validation Score:', model.score(X_val, y_val))"
   ]
  },
  {
   "cell_type": "code",
   "execution_count": 750,
   "metadata": {
    "id": "eFOP7aUf9jBW"
   },
   "outputs": [],
   "source": [
    "#Now that the model is fully trained with the data from 2016-2019, we are ready\n",
    "#for the original task of predicting the data from 2021\n",
    "\n",
    "y_test = df21['OBP']\n",
    "X_test = df21[[ \"PA\",\"AB\", \"H\", \"HR\",\n",
    "         \"R\", \"RBI\", \"BB%\", \"ISO\", \n",
    "         \"BABIP\", \"AVG\", \"SLG\", \n",
    "         \"GB%\", \"FB%\", \"IFFB%\", \"HR/FB\", \"O-Swing%\", \n",
    "         \"Z-Swing%\", \"Swing%\",\"O-Contact%\", \"Z-Contact%\", \"Contact%\" ]]"
   ]
  },
  {
   "cell_type": "code",
   "execution_count": 751,
   "metadata": {
    "colab": {
     "base_uri": "https://localhost:8080/"
    },
    "id": "2E40N3ed9i9t",
    "outputId": "b4347c76-f7a4-40fe-d8ec-c47a8aab4a0a"
   },
   "outputs": [
    {
     "name": "stdout",
     "output_type": "stream",
     "text": [
      "RMSE: 0.0056137677753976345\n",
      "Score: 0.973948649198817\n"
     ]
    }
   ],
   "source": [
    "#Here we will make predictions of the amount of HRs per player\n",
    "#during the 2021 season\n",
    "predictions = lm.predict(X_test)\n",
    "\n",
    "SSE = sum((np.array(y_test) - predictions)**2)\n",
    "\n",
    "# compute the RMSE\n",
    "RMSE = np.sqrt(SSE/len(predictions))\n",
    "\n",
    "print('RMSE:', RMSE)\n",
    "print ('Score:', model.score(X_test, y_test))\n",
    "#print ('Training Score:', model.score(X_train, y_train))\n",
    "#print ('Validation Score:', model.score(X_val, y_val))"
   ]
  },
  {
   "cell_type": "code",
   "execution_count": 752,
   "metadata": {
    "colab": {
     "base_uri": "https://localhost:8080/",
     "height": 288
    },
    "id": "EJvivgf98zq5",
    "outputId": "9463f798-f5d9-45d6-89b2-4e39c2b992c2"
   },
   "outputs": [
    {
     "data": {
      "text/plain": [
       "<matplotlib.legend.Legend at 0x7f589b4b39d0>"
      ]
     },
     "execution_count": 752,
     "metadata": {},
     "output_type": "execute_result"
    },
    {
     "data": {
      "image/png": "[encoded data removed]",
      "text/plain": [
       "<Figure size 432x288 with 1 Axes>"
      ]
     },
     "metadata": {},
     "output_type": "display_data"
    }
   ],
   "source": [
    "#Now we want to check the values of our predicted OBP statistics vs\n",
    "#the actual recorded values\n",
    "\n",
    "plt.plot(range(50), predictions[:50], label='model prediction')\n",
    "plt.plot(range(50), y_test[:50], 'r', label='true value')\n",
    "plt.legend()"
   ]
  },
  {
   "cell_type": "markdown",
   "metadata": {
    "id": "6AYcNDkO_5ST"
   },
   "source": [
    "- As you can see from the figure above, the consistencies in the model prediction values and the true values of 'OBP' prove this linear regression model to be performing extremely well."
   ]
  },
  {
   "cell_type": "markdown",
   "metadata": {
    "id": "AO5TYA-zALXU"
   },
   "source": [
    "##### <u> XGBoost <u/> "
   ]
  },
  {
   "cell_type": "code",
   "execution_count": 753,
   "metadata": {
    "id": "83kfDhpuS1XQ"
   },
   "outputs": [],
   "source": [
    "from pandas.core.common import random_state\n",
    "# Let's define a KFold for this dataset\n",
    "kf = KFold(n_splits = 10, shuffle = True, random_state = 12345)"
   ]
  },
  {
   "cell_type": "code",
   "execution_count": 754,
   "metadata": {
    "id": "75__M7nGS1XR"
   },
   "outputs": [],
   "source": [
    "y = common2['OBP']\n",
    "X = common2[[ \"AB\", \"PA\", \"H\", \"R\", 'HR',\n",
    "          \"RBI\", \"SB\", \"BB%\", \"ISO\", \n",
    "         \"BABIP\", \"AVG\", \"SLG\", 'LD%',\n",
    "         \"GB%\", \"FB%\", \"IFFB%\", \"HR/FB\", \"O-Swing%\", \n",
    "         \"Z-Swing%\", \"Swing%\",\"O-Contact%\", \"Z-Contact%\", \"Contact%\"]]\n",
    "\n",
    "X_train, X_val, y_train, y_val = train_test_split(X, y, test_size=0.2, random_state=42)"
   ]
  },
  {
   "cell_type": "code",
   "execution_count": 755,
   "metadata": {
    "colab": {
     "base_uri": "https://localhost:8080/"
    },
    "id": "5_gWxTKuS1XR",
    "outputId": "8763b967-c875-4bd8-bf7d-7023b86ee2b5"
   },
   "outputs": [
    {
     "name": "stdout",
     "output_type": "stream",
     "text": [
      "[01:28:54] WARNING: /workspace/src/objective/regression_obj.cu:152: reg:linear is now deprecated in favor of reg:squarederror.\n",
      "Validation score:  0.9796002940151267\n"
     ]
    }
   ],
   "source": [
    "# Define and train base model\n",
    "\n",
    "base_model = xgb.XGBRegressor()\n",
    "base_model.fit(X_train, y_train)\n",
    "score = base_model.score(X_train, y_train)   \n",
    "print(\"Validation score: \", score) "
   ]
  },
  {
   "cell_type": "code",
   "execution_count": 756,
   "metadata": {
    "colab": {
     "base_uri": "https://localhost:8080/"
    },
    "id": "jHZvPXbqS1XS",
    "outputId": "25e73162-7d71-48df-e8bf-bf730fa1e529"
   },
   "outputs": [
    {
     "name": "stdout",
     "output_type": "stream",
     "text": [
      "[01:28:54] WARNING: /workspace/src/objective/regression_obj.cu:152: reg:linear is now deprecated in favor of reg:squarederror.\n",
      "[01:28:54] WARNING: /workspace/src/objective/regression_obj.cu:152: reg:linear is now deprecated in favor of reg:squarederror.\n",
      "[01:28:54] WARNING: /workspace/src/objective/regression_obj.cu:152: reg:linear is now deprecated in favor of reg:squarederror.\n",
      "[01:28:54] WARNING: /workspace/src/objective/regression_obj.cu:152: reg:linear is now deprecated in favor of reg:squarederror.\n",
      "[01:28:54] WARNING: /workspace/src/objective/regression_obj.cu:152: reg:linear is now deprecated in favor of reg:squarederror.\n",
      "Mean cross-validation score: 0.01\n"
     ]
    }
   ],
   "source": [
    "scores = -cross_val_score(base_model, X_train, y_train, cv=5, scoring='neg_mean_absolute_error')\n",
    "print(\"Mean cross-validation score: %.2f\" % scores.mean())"
   ]
  },
  {
   "cell_type": "code",
   "execution_count": 757,
   "metadata": {
    "id": "ewmK-y7RTXHr"
   },
   "outputs": [],
   "source": [
    "#Now that the model is fully trained with the data from 2016-2019, we are ready\n",
    "#for the original task of predicting the data from 2021\n",
    "\n",
    "y_test = df21['OBP']\n",
    "X_test = df21[[ \"AB\",\"PA\", \"H\", 'R', \"HR\",\n",
    "          \"RBI\", \"SB\", \"BB%\", \"ISO\",    \n",
    "         \"BABIP\", \"AVG\", \"SLG\", \"LD%\",\n",
    "         \"GB%\", \"SB\", \"FB%\", \"IFFB%\", \"HR/FB\", \"O-Swing%\", \n",
    "         \"Z-Swing%\", \"Swing%\",\"O-Contact%\", \"Z-Contact%\", \"Contact%\" ]]"
   ]
  },
  {
   "cell_type": "code",
   "execution_count": 758,
   "metadata": {
    "colab": {
     "base_uri": "https://localhost:8080/"
    },
    "id": "i4ajR6KGTXHs",
    "outputId": "23158a3f-8260-4c08-9a40-575c337b02c2"
   },
   "outputs": [
    {
     "name": "stdout",
     "output_type": "stream",
     "text": [
      "Validation score:  0.9796002940151267\n"
     ]
    }
   ],
   "source": [
    "#Here we will make predictions of the OBP per player\n",
    "#during the 2021 season\n",
    "score = base_model.score(X_train, y_train)   \n",
    "print(\"Validation score: \", score) "
   ]
  },
  {
   "cell_type": "markdown",
   "metadata": {
    "id": "pUx5r659Aavp"
   },
   "source": [
    "##### <u> K Nearest Neighbors (KNN) <u/>"
   ]
  },
  {
   "cell_type": "code",
   "execution_count": 759,
   "metadata": {
    "id": "5wSRmba7E8Nb"
   },
   "outputs": [],
   "source": [
    "y = df16['OBP']\n",
    "X = df16[[ \"AB\", \"PA\", \"H\", \"HR\", \"R\",\n",
    "          \"RBI\", \"SB\", \"AVG\", \"BB%\" ,\"SLG\",\n",
    "         \"ISO\",\"BABIP\", 'LD%', \"GB%\",\n",
    "          \"FB%\", \"IFFB%\", \"HR/FB\", \"O-Swing%\", \n",
    "         \"Z-Swing%\", \"Swing%\",\"O-Contact%\", \"Z-Contact%\", \"Contact%\"]]\n",
    "\n",
    "\n",
    "X_train, X_val, y_train, y_val = train_test_split(X, y, test_size=0.2, random_state=42)"
   ]
  },
  {
   "cell_type": "code",
   "execution_count": 760,
   "metadata": {
    "id": "QOVn06RuEwT_"
   },
   "outputs": [],
   "source": [
    "#K-Nearest Neighbors pipeline\n",
    "transformer = Pipeline(steps=[('scaler', StandardScaler())])\n",
    "features = [\"AB\", \"PA\", \"H\", \"HR\", \"R\",\n",
    "          \"RBI\", \"SB\", \"AVG\", \"BB%\" ,\"SLG\",\n",
    "         \"ISO\",\"BABIP\", 'LD%', \"GB%\",\n",
    "          \"FB%\", \"IFFB%\", \"HR/FB\", \"O-Swing%\", \n",
    "         \"Z-Swing%\", \"Swing%\",\"O-Contact%\", \"Z-Contact%\", \"Contact%\"]\n",
    "\n",
    "preprocessor = ColumnTransformer(transformers=[('scale', transformer, features)])\n",
    "\n",
    "knn_pipe = Pipeline(steps=[('preprocessor', preprocessor),\n",
    "                           ('regression', KNeighborsRegressor(n_neighbors=5))])"
   ]
  },
  {
   "cell_type": "code",
   "execution_count": 761,
   "metadata": {
    "colab": {
     "base_uri": "https://localhost:8080/"
    },
    "id": "RGw9YjRiANNj",
    "outputId": "c309a458-4e06-4bfd-92d4-1b9345f0916e"
   },
   "outputs": [
    {
     "name": "stdout",
     "output_type": "stream",
     "text": [
      "RMSE 0.021632815574432734\n",
      "KNN Score: 0.7760357203729964\n"
     ]
    }
   ],
   "source": [
    "#K-Nearest Neighbors trained algorithm\n",
    "knn_pipe.fit(X_train, y_train)\n",
    "knn_predictions = knn_pipe.predict(X_val)\n",
    "\n",
    "SSE = sum((np.array(y_val) - knn_predictions)**2)\n",
    "\n",
    "# compute the RMSE\n",
    "RMSE = np.sqrt(SSE/len(knn_predictions))\n",
    "\n",
    "print(\"RMSE\", RMSE)\n",
    "print ('KNN Score:', knn_pipe.score(X_train, y_train))"
   ]
  },
  {
   "cell_type": "code",
   "execution_count": 762,
   "metadata": {
    "id": "OReU6WQTANLd"
   },
   "outputs": [],
   "source": [
    "#Now we want to test the data from 2017 with the model that was trained\n",
    "#using the data from 2016\n",
    "y_test = df17['OBP']\n",
    "X_test = df17[[ \"AB\", \"PA\", \"H\", \"HR\", \"R\",\n",
    "          \"RBI\", \"SB\", \"AVG\", \"BB%\" ,\"SLG\",\n",
    "         \"ISO\",\"BABIP\", 'LD%', \"GB%\",\n",
    "          \"FB%\", \"IFFB%\", \"HR/FB\", \"O-Swing%\", \n",
    "         \"Z-Swing%\", \"Swing%\",\"O-Contact%\", \"Z-Contact%\", \"Contact%\"]]\n"
   ]
  },
  {
   "cell_type": "code",
   "execution_count": 763,
   "metadata": {
    "colab": {
     "base_uri": "https://localhost:8080/"
    },
    "id": "BJ0toF6KANHC",
    "outputId": "72073df4-6ff7-498a-e805-63cb65515071"
   },
   "outputs": [
    {
     "name": "stdout",
     "output_type": "stream",
     "text": [
      "RMSE 0.021632815574432734\n",
      "KNN Score: 0.7760357203729964\n"
     ]
    }
   ],
   "source": [
    "#K-Nearest Neighbors trained algorithm\n",
    "knn_pipe.fit(X_train, y_train)\n",
    "knn_predictions = knn_pipe.predict(X_val)\n",
    "\n",
    "SSE = sum((np.array(y_val) - knn_predictions)**2)\n",
    "\n",
    "# compute the RMSE\n",
    "RMSE = np.sqrt(SSE/len(knn_predictions))\n",
    "\n",
    "print(\"RMSE\", RMSE)\n",
    "print ('KNN Score:', knn_pipe.score(X_train, y_train))"
   ]
  },
  {
   "cell_type": "code",
   "execution_count": 764,
   "metadata": {
    "id": "lncgW0ZkPRLQ"
   },
   "outputs": [],
   "source": [
    "#The model continues to run well and we will train it one last time\n",
    "#by adding the 2018 and 2019 statistics to the data and then we will begin to\n",
    "#predict the 2021 statistics\n",
    "\n",
    "y = common2['OBP']\n",
    "X = common2[[\"AB\", \"PA\", \"H\", \"HR\", \"R\",\n",
    "          \"RBI\", \"SB\", \"AVG\", \"BB%\" ,\"SLG\",\n",
    "         \"ISO\",\"BABIP\", 'LD%', \"GB%\",\n",
    "          \"FB%\", \"IFFB%\", \"HR/FB\", \"O-Swing%\", \n",
    "         \"Z-Swing%\", \"Swing%\",\"O-Contact%\", \"Z-Contact%\", \"Contact%\"]]\n",
    "X_train, X_val, y_train, y_val = train_test_split(X, y, test_size=0.2, random_state=42)"
   ]
  },
  {
   "cell_type": "code",
   "execution_count": 765,
   "metadata": {
    "colab": {
     "base_uri": "https://localhost:8080/"
    },
    "id": "Ky3ZwZsUPRLR",
    "outputId": "6cbe5c88-bec7-45de-a162-d373164c233a"
   },
   "outputs": [
    {
     "name": "stdout",
     "output_type": "stream",
     "text": [
      "RMSE 0.017207547255192496\n",
      "KNN Score: 0.857631304134182\n"
     ]
    }
   ],
   "source": [
    "#train the new model\n",
    "knn_pipe.fit(X_train, y_train)\n",
    "knn_predictions = knn_pipe.predict(X_val)\n",
    "\n",
    "SSE = sum((np.array(y_val) - knn_predictions)**2)\n",
    "\n",
    "# compute the RMSE\n",
    "RMSE = np.sqrt(SSE/len(knn_predictions))\n",
    "\n",
    "print(\"RMSE\", RMSE)\n",
    "print ('KNN Score:', knn_pipe.score(X_train, y_train))"
   ]
  },
  {
   "cell_type": "code",
   "execution_count": 766,
   "metadata": {
    "id": "5xmS0iamPRLR"
   },
   "outputs": [],
   "source": [
    "#Now that the model is fully trained with the data from 2016-2019, we are ready\n",
    "#for the original task of predicting the data from 2021\n",
    "\n",
    "y_test = df21['OBP']\n",
    "X_test = df21[[\"AB\", \"PA\", \"H\", \"HR\", \"R\",\n",
    "          \"RBI\", \"SB\", \"AVG\", \"BB%\" ,\"SLG\",\n",
    "         \"ISO\",\"BABIP\", 'LD%', \"GB%\",\n",
    "          \"FB%\", \"IFFB%\", \"HR/FB\", \"O-Swing%\", \n",
    "         \"Z-Swing%\", \"Swing%\",\"O-Contact%\", \"Z-Contact%\", \"Contact%\"]]"
   ]
  },
  {
   "cell_type": "code",
   "execution_count": 767,
   "metadata": {
    "colab": {
     "base_uri": "https://localhost:8080/"
    },
    "id": "ogX5IQUQPRLR",
    "outputId": "9cf9856b-79a5-4365-d6a8-caad702a234b"
   },
   "outputs": [
    {
     "name": "stdout",
     "output_type": "stream",
     "text": [
      "RMSE 0.017207547255192496\n",
      "KNN Score: 0.857631304134182\n"
     ]
    }
   ],
   "source": [
    "\n",
    "knn_predictions = knn_pipe.predict(X_val)\n",
    "\n",
    "SSE = sum((np.array(y_val) - knn_predictions)**2)\n",
    "\n",
    "# compute the RMSE\n",
    "RMSE = np.sqrt(SSE/len(knn_predictions))\n",
    "\n",
    "print(\"RMSE\", RMSE)\n",
    "print ('KNN Score:', knn_pipe.score(X_train, y_train))"
   ]
  },
  {
   "cell_type": "code",
   "execution_count": 768,
   "metadata": {
    "colab": {
     "base_uri": "https://localhost:8080/",
     "height": 285
    },
    "id": "kKyiCg7sPRLR",
    "outputId": "b51efb3d-e07e-43e9-94e7-ad32f24b76f6"
   },
   "outputs": [
    {
     "data": {
      "text/plain": [
       "<matplotlib.legend.Legend at 0x7f589deb6290>"
      ]
     },
     "execution_count": 768,
     "metadata": {},
     "output_type": "execute_result"
    },
    {
     "data": {
      "image/png": "[encoded data removed]",
      "text/plain": [
       "<Figure size 432x288 with 1 Axes>"
      ]
     },
     "metadata": {},
     "output_type": "display_data"
    }
   ],
   "source": [
    "#Now we want to check the values of our predicted OBP statistics vs\n",
    "#the actual recorded values\n",
    "\n",
    "plt.plot(range(50), knn_predictions[:50], label='model prediction')\n",
    "plt.plot(range(50), y_test[:50], 'r', label='true value')\n",
    "plt.legend()"
   ]
  },
  {
   "cell_type": "markdown",
   "metadata": {
    "id": "oiYT-T0s3Sfz"
   },
   "source": [
    "## (C) - RBI Predictions"
   ]
  },
  {
   "cell_type": "markdown",
   "metadata": {
    "id": "3xYuaRzB4vTG"
   },
   "source": [
    "##### <u> Linear Regression <u/>"
   ]
  },
  {
   "cell_type": "code",
   "execution_count": 769,
   "metadata": {
    "id": "EYHBeDwd3-_a"
   },
   "outputs": [],
   "source": [
    "#We want to first train the model with the statistics from 2016\n",
    "\n",
    "y = df16['RBI']\n",
    "X = df16[[ \"AB\", \"PA\", \"H\", \"R\", \"HR\",\n",
    "          \"SB\", \"BB%\", \"K%\", \"ISO\", \n",
    "         \"BABIP\", \"AVG\", 'OBP', \"SLG\", 'LD%',\n",
    "         \"GB%\", \"FB%\", \"IFFB%\", \"HR/FB\", \"O-Swing%\", \n",
    "         \"Z-Swing%\", \"Swing%\",\"O-Contact%\", \"Z-Contact%\", \"Contact%\"]]\n",
    "         \n",
    "X_train, X_val, y_train, y_val = train_test_split(X, y, test_size=0.2, random_state=42)"
   ]
  },
  {
   "cell_type": "code",
   "execution_count": 770,
   "metadata": {
    "id": "ivxSeh643-7Q"
   },
   "outputs": [],
   "source": [
    "lm = LinearRegression()\n",
    "model = lm.fit(X_train, y_train)"
   ]
  },
  {
   "cell_type": "code",
   "execution_count": 771,
   "metadata": {
    "colab": {
     "base_uri": "https://localhost:8080/"
    },
    "id": "vsl7g-pyA4s5",
    "outputId": "914a97e2-e416-4f63-d776-a1ec1672795f"
   },
   "outputs": [
    {
     "name": "stdout",
     "output_type": "stream",
     "text": [
      "RMSE: 10.634029300996133\n",
      "Score: 0.9054877199935865\n",
      "Training Score: 0.9208572022288267\n",
      "Validation Score: 0.8519121800008913\n"
     ]
    }
   ],
   "source": [
    "predictions = lm.predict(X_val)\n",
    "\n",
    "SSE = sum((np.array(y_val) - predictions)**2)\n",
    "\n",
    "# compute the RMSE\n",
    "RMSE = np.sqrt(SSE/len(predictions))\n",
    "\n",
    "print('RMSE:', RMSE)\n",
    "print ('Score:', model.score(X, y))\n",
    "print ('Training Score:', model.score(X_train, y_train))\n",
    "print ('Validation Score:', model.score(X_val, y_val))"
   ]
  },
  {
   "cell_type": "code",
   "execution_count": 772,
   "metadata": {
    "id": "YTfYU-LpA4qi"
   },
   "outputs": [],
   "source": [
    "#Now we want evaluate the model but from the statistics from 2016 and see how\n",
    "#it will perform predicting 2017 statistics\n",
    "y_test = df17['RBI']\n",
    "X_test = df17[[ \"AB\", \"PA\", \"H\", \"R\", \"HR\",\n",
    "         \"SB\", \"BB%\", \"K%\", \"ISO\", \n",
    "         \"BABIP\", \"AVG\",\"OBP\", \"SLG\", 'LD%',\n",
    "         \"GB%\", \"FB%\", \"IFFB%\", \"HR/FB\", \"O-Swing%\", \n",
    "         \"Z-Swing%\", \"Swing%\",\"O-Contact%\", \"Z-Contact%\", \"Contact%\" ]]"
   ]
  },
  {
   "cell_type": "code",
   "execution_count": 773,
   "metadata": {
    "colab": {
     "base_uri": "https://localhost:8080/"
    },
    "id": "kvIvbWLHA4oL",
    "outputId": "43f4af73-5cc4-4414-a4a7-374ab8372439"
   },
   "outputs": [
    {
     "name": "stdout",
     "output_type": "stream",
     "text": [
      "RMSE: 8.552269704734366\n",
      "Score: 0.8816371438042746\n"
     ]
    }
   ],
   "source": [
    "predictions = lm.predict(X_test)\n",
    "\n",
    "SSE = sum((np.array(y_test) - predictions)**2)\n",
    "\n",
    "# compute the RMSE\n",
    "RMSE = np.sqrt(SSE/len(predictions))\n",
    "\n",
    "print('RMSE:', RMSE)\n",
    "print ('Score:', model.score(X_test, y_test))\n",
    "#print ('Training Score:', model.score(X_train, y_train))\n",
    "#print ('Validation Score:', model.score(X_val, y_val))"
   ]
  },
  {
   "cell_type": "code",
   "execution_count": 774,
   "metadata": {
    "id": "tc1VnKo4A4mX"
   },
   "outputs": [],
   "source": [
    "#Now that we confirmed the model is performing well, it's time to combine \n",
    "#the 2016, and 2017 season statistics and retrain our model and then re-check \n",
    "#its performance\n",
    "\n",
    "common = pd.concat([df16,df17])"
   ]
  },
  {
   "cell_type": "code",
   "execution_count": 775,
   "metadata": {
    "id": "KxpgokciA4kS"
   },
   "outputs": [],
   "source": [
    "y = common['RBI']\n",
    "X = common[[ \"PA\",\"AB\", \"H\", \"HR\",\n",
    "         \"R\", \"BB%\", \"ISO\", \n",
    "         \"BABIP\", \"AVG\", \"OBP\", \"SLG\", \n",
    "         \"GB%\", \"FB%\", \"IFFB%\", \"HR/FB\", \"O-Swing%\", \n",
    "         \"Z-Swing%\", \"Swing%\",\"O-Contact%\", \"Z-Contact%\", \"Contact%\" ]]\n",
    "\n",
    "X_train, X_val, y_train, y_val = train_test_split(X, y, test_size=0.2, random_state=42)"
   ]
  },
  {
   "cell_type": "code",
   "execution_count": 776,
   "metadata": {
    "id": "Ymg0lmI2A4iM"
   },
   "outputs": [],
   "source": [
    "#train the model\n",
    "model = lm.fit(X_train, y_train)"
   ]
  },
  {
   "cell_type": "code",
   "execution_count": 777,
   "metadata": {
    "colab": {
     "base_uri": "https://localhost:8080/"
    },
    "id": "pGuCcSvcA4f0",
    "outputId": "bce6314e-c63d-4dc5-e568-0ee0faca5d02"
   },
   "outputs": [
    {
     "name": "stdout",
     "output_type": "stream",
     "text": [
      "RMSE: 9.181381942276815\n",
      "Score: 0.8941367386844692\n",
      "Training Score: 0.9003377953447491\n",
      "Validation Score: 0.8690227060121718\n"
     ]
    }
   ],
   "source": [
    "predictions = lm.predict(X_val)\n",
    "\n",
    "SSE = sum((np.array(y_val) - predictions)**2)\n",
    "\n",
    "# compute the RMSE\n",
    "RMSE = np.sqrt(SSE/len(predictions))\n",
    "\n",
    "print('RMSE:', RMSE)\n",
    "print ('Score:', model.score(X, y))\n",
    "print ('Training Score:', model.score(X_train, y_train))\n",
    "print ('Validation Score:', model.score(X_val, y_val))"
   ]
  },
  {
   "cell_type": "code",
   "execution_count": 778,
   "metadata": {
    "id": "jv5AOmk-3-5b"
   },
   "outputs": [],
   "source": [
    "#The model continues to perform well and we will confirm one more time by\n",
    "#evaluating the model with the 2018 season statistics\n",
    "y_test = df18['RBI']\n",
    "X_test = df18[[ \"PA\",\"AB\", \"H\", \"HR\",\n",
    "         \"R\", \"BB%\", \"ISO\", \n",
    "         \"BABIP\", \"AVG\", \"OBP\", \"SLG\", \n",
    "         \"GB%\", \"FB%\", \"IFFB%\", \"HR/FB\", \"O-Swing%\", \n",
    "         \"Z-Swing%\", \"Swing%\",\"O-Contact%\", \"Z-Contact%\", \"Contact%\" ]]"
   ]
  },
  {
   "cell_type": "code",
   "execution_count": 779,
   "metadata": {
    "colab": {
     "base_uri": "https://localhost:8080/"
    },
    "id": "XcVZk9DL3-21",
    "outputId": "a280afdd-ca96-4186-be4b-b34e1c29ff59"
   },
   "outputs": [
    {
     "name": "stdout",
     "output_type": "stream",
     "text": [
      "RMSE: 7.685921285456845\n",
      "Score: 0.8857081358089591\n"
     ]
    }
   ],
   "source": [
    "predictions = lm.predict(X_test)\n",
    "\n",
    "SSE = sum((np.array(y_test) - predictions)**2)\n",
    "\n",
    "# compute the RMSE\n",
    "RMSE = np.sqrt(SSE/len(predictions))\n",
    "\n",
    "print('RMSE:', RMSE)\n",
    "print ('Score:', model.score(X_test, y_test))\n",
    "#print ('Training Score:', model.score(X_train, y_train))\n",
    "#print ('Validation Score:', model.score(X_val, y_val))"
   ]
  },
  {
   "cell_type": "code",
   "execution_count": 780,
   "metadata": {
    "id": "c-fFjf0eBsBj"
   },
   "outputs": [],
   "source": [
    "#The model continues to run well and we will train it one last time\n",
    "#by adding the 2018 and 2019 statistics to the data and then we will begin to\n",
    "#predict the 2021 statistics\n",
    "\n",
    "common2 = pd.concat([df16,df17, df18, df19])\n",
    "y = common2['RBI']\n",
    "X = common2[[ \"PA\",\"AB\", \"H\", \"HR\",\n",
    "         \"R\", \"BB%\", \"ISO\", \n",
    "         \"BABIP\", \"AVG\", \"OBP\", \"SLG\", \n",
    "         \"GB%\", \"FB%\", \"IFFB%\", \"HR/FB\", \"O-Swing%\", \n",
    "         \"Z-Swing%\", \"Swing%\",\"O-Contact%\", \"Z-Contact%\", \"Contact%\" ]]\n",
    "\n",
    "X_train, X_val, y_train, y_val = train_test_split(X, y, test_size=0.2, random_state=42)"
   ]
  },
  {
   "cell_type": "code",
   "execution_count": 781,
   "metadata": {
    "id": "5hPj0vBjBldN"
   },
   "outputs": [],
   "source": [
    "#train the model again\n",
    "model = lm.fit(X_train, y_train)"
   ]
  },
  {
   "cell_type": "code",
   "execution_count": 782,
   "metadata": {
    "colab": {
     "base_uri": "https://localhost:8080/"
    },
    "id": "v8e97WJkBlYe",
    "outputId": "d21409bb-278e-4373-b2d8-c1981bf06e13"
   },
   "outputs": [
    {
     "name": "stdout",
     "output_type": "stream",
     "text": [
      "RMSE: 8.461612772040638\n",
      "Score: 0.8926868382143003\n",
      "Training Score: 0.894424857485709\n",
      "Validation Score: 0.885589165661532\n"
     ]
    }
   ],
   "source": [
    "predictions = lm.predict(X_val)\n",
    "\n",
    "SSE = sum((np.array(y_val) - predictions)**2)\n",
    "\n",
    "# compute the RMSE\n",
    "RMSE = np.sqrt(SSE/len(predictions))\n",
    "\n",
    "print('RMSE:', RMSE)\n",
    "print ('Score:', model.score(X, y))\n",
    "print ('Training Score:', model.score(X_train, y_train))\n",
    "print ('Validation Score:', model.score(X_val, y_val))"
   ]
  },
  {
   "cell_type": "code",
   "execution_count": 783,
   "metadata": {
    "id": "jdMxeQVfB_bd"
   },
   "outputs": [],
   "source": [
    "#Now that the model is fully trained with the data from 2016-2019, we are ready\n",
    "#for the original task of predicting the data from 2021\n",
    "\n",
    "y_test = df21['RBI']\n",
    "X_test = df21[[ \"PA\",\"AB\", \"H\", \"HR\",\n",
    "         \"R\", \"BB%\", \"ISO\", \n",
    "         \"BABIP\", \"AVG\", \"OBP\", \"SLG\", \n",
    "         \"GB%\", \"FB%\", \"IFFB%\", \"HR/FB\", \"O-Swing%\", \n",
    "         \"Z-Swing%\", \"Swing%\",\"O-Contact%\", \"Z-Contact%\", \"Contact%\" ]]"
   ]
  },
  {
   "cell_type": "code",
   "execution_count": 784,
   "metadata": {
    "colab": {
     "base_uri": "https://localhost:8080/"
    },
    "id": "nVsgMasOCDJN",
    "outputId": "e1182334-929d-45a5-c541-8a5d55b87743"
   },
   "outputs": [
    {
     "name": "stdout",
     "output_type": "stream",
     "text": [
      "RMSE: 7.655396328081596\n",
      "Score: 0.8981468705391373\n"
     ]
    }
   ],
   "source": [
    "#Here we will make predictions of the amount of HRs per player\n",
    "#during the 2021 season\n",
    "predictions = lm.predict(X_test)\n",
    "\n",
    "SSE = sum((np.array(y_test) - predictions)**2)\n",
    "\n",
    "# compute the RMSE\n",
    "RMSE = np.sqrt(SSE/len(predictions))\n",
    "\n",
    "print('RMSE:', RMSE)\n",
    "print ('Score:', model.score(X_test, y_test))\n",
    "#print ('Training Score:', model.score(X_train, y_train))\n",
    "#print ('Validation Score:', model.score(X_val, y_val))"
   ]
  },
  {
   "cell_type": "code",
   "execution_count": 785,
   "metadata": {
    "colab": {
     "base_uri": "https://localhost:8080/",
     "height": 285
    },
    "id": "d24A0i_u3-y7",
    "outputId": "fcc4635f-cefe-4349-979a-6d379408aca7"
   },
   "outputs": [
    {
     "data": {
      "text/plain": [
       "<matplotlib.legend.Legend at 0x7f589b9c0cd0>"
      ]
     },
     "execution_count": 785,
     "metadata": {},
     "output_type": "execute_result"
    },
    {
     "data": {
      "image/png": "[encoded data removed]",
      "text/plain": [
       "<Figure size 432x288 with 1 Axes>"
      ]
     },
     "metadata": {},
     "output_type": "display_data"
    }
   ],
   "source": [
    "#Now we want to check the values of our predicted OBP statistics vs\n",
    "#the actual recorded values\n",
    "\n",
    "plt.plot(range(50), predictions[:50], label='model prediction')\n",
    "plt.plot(range(50), y_test[:50], 'r', label='true value')\n",
    "plt.legend()"
   ]
  },
  {
   "cell_type": "markdown",
   "metadata": {
    "id": "YFNgHYt6CNoS"
   },
   "source": [
    "- As you can see from the figure above, the consistencies in the model prediction values and the true values of 'RBI' prove this linear regression model to be performing extremely well."
   ]
  },
  {
   "cell_type": "markdown",
   "metadata": {
    "id": "P21mSmUtWRXs"
   },
   "source": [
    "##### <u> XGBoost <u/> "
   ]
  },
  {
   "cell_type": "code",
   "execution_count": 786,
   "metadata": {
    "id": "DIVpbenuV7HW"
   },
   "outputs": [],
   "source": [
    "from pandas.core.common import random_state\n",
    "# Let's define a KFold for this dataset\n",
    "kf = KFold(n_splits = 10, shuffle = True, random_state = 12345)"
   ]
  },
  {
   "cell_type": "code",
   "execution_count": 787,
   "metadata": {
    "id": "nnmsQIkqV7HW"
   },
   "outputs": [],
   "source": [
    "y = common2['RBI']\n",
    "X = common2[[ \"AB\", \"PA\", \"H\", \"R\", 'HR',\n",
    "           \"SB\", \"BB%\", \"ISO\", \n",
    "         \"BABIP\", \"AVG\", \"SLG\", 'LD%',\n",
    "         \"GB%\", \"FB%\", \"IFFB%\", \"HR/FB\", \"O-Swing%\", \n",
    "         \"Z-Swing%\", \"Swing%\",\"O-Contact%\", \"Z-Contact%\", \"Contact%\"]]\n",
    "\n",
    "X_train, X_val, y_train, y_val = train_test_split(X, y, test_size=0.2, random_state=42)"
   ]
  },
  {
   "cell_type": "code",
   "execution_count": 788,
   "metadata": {
    "colab": {
     "base_uri": "https://localhost:8080/"
    },
    "id": "4MesktQPV7HW",
    "outputId": "6a1357a1-524c-440b-f261-c0b7fc1fa2b9"
   },
   "outputs": [
    {
     "name": "stdout",
     "output_type": "stream",
     "text": [
      "[01:28:56] WARNING: /workspace/src/objective/regression_obj.cu:152: reg:linear is now deprecated in favor of reg:squarederror.\n",
      "Validation score:  0.9415492303416442\n"
     ]
    }
   ],
   "source": [
    "# Define and train base model\n",
    "\n",
    "base_model = xgb.XGBRegressor()\n",
    "base_model.fit(X_train, y_train)\n",
    "score = base_model.score(X_train, y_train)   \n",
    "print(\"Validation score: \", score) "
   ]
  },
  {
   "cell_type": "code",
   "execution_count": 789,
   "metadata": {
    "colab": {
     "base_uri": "https://localhost:8080/"
    },
    "id": "FpH_U2JpV7HX",
    "outputId": "cc48fd85-b69c-467c-c206-d803efffcbdd"
   },
   "outputs": [
    {
     "name": "stdout",
     "output_type": "stream",
     "text": [
      "[01:28:56] WARNING: /workspace/src/objective/regression_obj.cu:152: reg:linear is now deprecated in favor of reg:squarederror.\n",
      "[01:28:56] WARNING: /workspace/src/objective/regression_obj.cu:152: reg:linear is now deprecated in favor of reg:squarederror.\n",
      "[01:28:56] WARNING: /workspace/src/objective/regression_obj.cu:152: reg:linear is now deprecated in favor of reg:squarederror.\n",
      "[01:28:56] WARNING: /workspace/src/objective/regression_obj.cu:152: reg:linear is now deprecated in favor of reg:squarederror.\n",
      "[01:28:56] WARNING: /workspace/src/objective/regression_obj.cu:152: reg:linear is now deprecated in favor of reg:squarederror.\n",
      "Mean cross-validation score: 6.78\n"
     ]
    }
   ],
   "source": [
    "scores = -cross_val_score(base_model, X_train, y_train, cv=5, scoring='neg_mean_absolute_error')\n",
    "print(\"Mean cross-validation score: %.2f\" % scores.mean())"
   ]
  },
  {
   "cell_type": "code",
   "execution_count": 790,
   "metadata": {
    "id": "92LawvEhV7HX"
   },
   "outputs": [],
   "source": [
    "#Now that the model is fully trained with the data from 2016-2019, we are ready\n",
    "#for the original task of predicting the data from 2021\n",
    "\n",
    "y_test = df21['RBI']\n",
    "X_test = df21[[ \"AB\",\"PA\", \"H\", 'R', \"HR\",\n",
    "           \"SB\", \"BB%\", \"ISO\",    \n",
    "         \"BABIP\", \"AVG\", \"SLG\", \"LD%\",\n",
    "         \"GB%\", \"SB\", \"FB%\", \"IFFB%\", \"HR/FB\", \"O-Swing%\", \n",
    "         \"Z-Swing%\", \"Swing%\",\"O-Contact%\", \"Z-Contact%\", \"Contact%\" ]]"
   ]
  },
  {
   "cell_type": "code",
   "execution_count": 791,
   "metadata": {
    "colab": {
     "base_uri": "https://localhost:8080/"
    },
    "id": "uC8CGhc-V7HX",
    "outputId": "a36853ce-18df-4a9d-e12d-7c94bf6c3c2f"
   },
   "outputs": [
    {
     "name": "stdout",
     "output_type": "stream",
     "text": [
      "Validation score:  0.9415492303416442\n"
     ]
    }
   ],
   "source": [
    "#Here we will make predictions of the OBP per player\n",
    "#during the 2021 season\n",
    "score = base_model.score(X_train, y_train)   \n",
    "print(\"Validation score: \", score) "
   ]
  },
  {
   "cell_type": "markdown",
   "metadata": {
    "id": "jpTuw_TkUYx7"
   },
   "source": [
    "##### <u> K Nearest Neighbors (KNN) <u/>"
   ]
  },
  {
   "cell_type": "code",
   "execution_count": 792,
   "metadata": {
    "id": "X3UZ0zoKUv5D"
   },
   "outputs": [],
   "source": [
    "y = df16['RBI']\n",
    "X = df16[[ \"AB\", \"PA\", \"H\", \"R\",\n",
    "          \"HR\", \"SB\", \"AVG\", \"OBP\", \"BB%\", \"K%\",\"SLG\",\n",
    "         \"ISO\",\"BABIP\", 'LD%', \"GB%\",\n",
    "          \"FB%\", \"IFFB%\", \"HR/FB\", \"O-Swing%\", \n",
    "         \"Z-Swing%\", \"Swing%\",\"O-Contact%\", \"Z-Contact%\", \"Contact%\"]]\n",
    "\n",
    "X_train, X_val, y_train, y_val = train_test_split(X, y, test_size=0.2, random_state=42)"
   ]
  },
  {
   "cell_type": "code",
   "execution_count": 793,
   "metadata": {
    "id": "rMxrsw93U1tu"
   },
   "outputs": [],
   "source": [
    "#K-Nearest Neighbors pipeline\n",
    "transformer = Pipeline(steps=[('scaler', StandardScaler())])\n",
    "features = [\"AB\", \"PA\", \"H\", \"HR\", \"R\",\n",
    "         \"SB\", \"AVG\", \"BB%\", \"K%\", \"OBP\" ,\"SLG\",\n",
    "         \"ISO\",\"BABIP\", 'LD%', \"GB%\",\n",
    "          \"FB%\", \"IFFB%\", \"HR/FB\", \"O-Swing%\", \n",
    "         \"Z-Swing%\", \"Swing%\",\"O-Contact%\", \"Z-Contact%\", \"Contact%\"]\n",
    "preprocessor = ColumnTransformer(transformers=[('scale', transformer, features)])\n",
    "\n",
    "knn_pipe = Pipeline(steps=[('preprocessor', preprocessor),\n",
    "                           ('regression', KNeighborsRegressor(n_neighbors=5))])"
   ]
  },
  {
   "cell_type": "code",
   "execution_count": 794,
   "metadata": {
    "colab": {
     "base_uri": "https://localhost:8080/"
    },
    "id": "KrNlw3bLU1rs",
    "outputId": "f4e55585-b0dc-436a-e877-c7bce9bcca9a"
   },
   "outputs": [
    {
     "name": "stdout",
     "output_type": "stream",
     "text": [
      "RMSE 13.445373349822946\n",
      "KNN Score: 0.9058029192308286\n"
     ]
    }
   ],
   "source": [
    "#K-Nearest Neighbors trained algorithm\n",
    "knn_pipe.fit(X_train, y_train)\n",
    "knn_predictions = knn_pipe.predict(X_val)\n",
    "\n",
    "SSE = sum((np.array(y_val) - knn_predictions)**2)\n",
    "\n",
    "# compute the RMSE\n",
    "RMSE = np.sqrt(SSE/len(knn_predictions))\n",
    "\n",
    "print(\"RMSE\", RMSE)\n",
    "print ('KNN Score:', knn_pipe.score(X_train, y_train))"
   ]
  },
  {
   "cell_type": "code",
   "execution_count": 795,
   "metadata": {
    "id": "T1tLmYpORZDQ"
   },
   "outputs": [],
   "source": [
    "#Now we want to test the data from 2017 with the model that was trained\n",
    "#using the data from 2016\n",
    "y_test = df17['RBI']\n",
    "X_test = df17[[\"AB\", \"PA\", \"H\", \"HR\", \"R\",\n",
    "          \"RBI\", \"SB\", \"OBP\", \"BB%\", \"K%\" ,\"SLG\",\n",
    "         \"ISO\",\"BABIP\", 'LD%', \"GB%\",\n",
    "          \"FB%\", \"IFFB%\", \"HR/FB\", \"O-Swing%\", \n",
    "         \"Z-Swing%\", \"Swing%\",\"O-Contact%\", \"Z-Contact%\", \"Contact%\"]]"
   ]
  },
  {
   "cell_type": "code",
   "execution_count": 796,
   "metadata": {
    "colab": {
     "base_uri": "https://localhost:8080/"
    },
    "id": "KQpMP4YJRZDQ",
    "outputId": "b91b49c5-aeb1-404c-9325-50ce93b99b01"
   },
   "outputs": [
    {
     "name": "stdout",
     "output_type": "stream",
     "text": [
      "RMSE 13.445373349822946\n",
      "KNN Score: 0.9058029192308286\n"
     ]
    }
   ],
   "source": [
    "knn_pipe.fit(X_train, y_train)\n",
    "knn_predictions = knn_pipe.predict(X_val)\n",
    "\n",
    "SSE = sum((np.array(y_val) - knn_predictions)**2)\n",
    "\n",
    "# compute the RMSE\n",
    "RMSE = np.sqrt(SSE/len(knn_predictions))\n",
    "\n",
    "print(\"RMSE\", RMSE)\n",
    "print ('KNN Score:', knn_pipe.score(X_train, y_train))"
   ]
  },
  {
   "cell_type": "code",
   "execution_count": 797,
   "metadata": {
    "id": "dxhsf80uRZDQ"
   },
   "outputs": [],
   "source": [
    "y = common['RBI']\n",
    "X = common[[\"AB\", \"PA\", \"H\", \"HR\", \"R\",\n",
    "         \"SB\", \"AVG\", \"BB%\", \"K%\", \"OBP\" ,\"SLG\",\n",
    "         \"ISO\",\"BABIP\", 'LD%', \"GB%\",\n",
    "          \"FB%\", \"IFFB%\", \"HR/FB\", \"O-Swing%\", \n",
    "         \"Z-Swing%\", \"Swing%\",\"O-Contact%\", \"Z-Contact%\", \"Contact%\"]]\n",
    "X_train, X_val, y_train, y_val = train_test_split(X, y, test_size=0.2, random_state=42)"
   ]
  },
  {
   "cell_type": "code",
   "execution_count": 798,
   "metadata": {
    "colab": {
     "base_uri": "https://localhost:8080/"
    },
    "id": "ODs8EvffRZDQ",
    "outputId": "357a05f7-0f1a-4be9-80e9-f25a433caf40"
   },
   "outputs": [
    {
     "name": "stdout",
     "output_type": "stream",
     "text": [
      "RMSE 10.869715727653597\n",
      "KNN Score: 0.8770852413921177\n"
     ]
    }
   ],
   "source": [
    "#train the new model\n",
    "knn_pipe.fit(X_train, y_train)\n",
    "knn_predictions = knn_pipe.predict(X_val)\n",
    "\n",
    "SSE = sum((np.array(y_val) - knn_predictions)**2)\n",
    "\n",
    "# compute the RMSE\n",
    "RMSE = np.sqrt(SSE/len(knn_predictions))\n",
    "\n",
    "print(\"RMSE\", RMSE)\n",
    "print ('KNN Score:', knn_pipe.score(X_train, y_train))"
   ]
  },
  {
   "cell_type": "code",
   "execution_count": 799,
   "metadata": {
    "id": "a8XWfxtmRZDQ"
   },
   "outputs": [],
   "source": [
    "#The model continues to perform well and we will confirm one more time by\n",
    "#evaluating the model with the 2018 season statistics\n",
    "y_test = df18['RBI']\n",
    "X_test = df18[[\"AB\", \"PA\", \"H\", \"HR\", \"R\",\n",
    "         \"SB\", \"AVG\", \"BB%\", \"K%\", \"OBP\" ,\"SLG\",\n",
    "         \"ISO\",\"BABIP\", 'LD%', \"GB%\",\n",
    "          \"FB%\", \"IFFB%\", \"HR/FB\", \"O-Swing%\", \n",
    "         \"Z-Swing%\", \"Swing%\",\"O-Contact%\", \"Z-Contact%\", \"Contact%\"]]\n",
    "#X_train, X_val, y_train, y_val = train_test_split(X, y, test_size=0.2, random_state=42)"
   ]
  },
  {
   "cell_type": "code",
   "execution_count": 800,
   "metadata": {
    "colab": {
     "base_uri": "https://localhost:8080/"
    },
    "id": "N8qsIHuZRZDQ",
    "outputId": "9f927d05-773b-47f1-bd8b-52a51bfe8ab4"
   },
   "outputs": [
    {
     "name": "stdout",
     "output_type": "stream",
     "text": [
      "RMSE 10.869715727653597\n",
      "KNN Score: 0.8770852413921177\n"
     ]
    }
   ],
   "source": [
    "knn_pipe.fit(X_train, y_train)\n",
    "knn_predictions = knn_pipe.predict(X_val)\n",
    "\n",
    "SSE = sum((np.array(y_val) - knn_predictions)**2)\n",
    "\n",
    "# compute the RMSE\n",
    "RMSE = np.sqrt(SSE/len(knn_predictions))\n",
    "\n",
    "print(\"RMSE\", RMSE)\n",
    "print ('KNN Score:', knn_pipe.score(X_train, y_train))"
   ]
  },
  {
   "cell_type": "code",
   "execution_count": 801,
   "metadata": {
    "id": "Vy2v2SpSRZDQ"
   },
   "outputs": [],
   "source": [
    "#The model continues to run well and we will train it one last time\n",
    "#by adding the 2018 and 2019 statistics to the data and then we will begin to\n",
    "#predict the 2021 statistics\n",
    "\n",
    "y = common2['RBI']\n",
    "X = common2[[\"AB\", \"PA\", \"H\", \"HR\", \"R\",\n",
    "         \"SB\", \"AVG\", \"BB%\", \"K%\", \"OBP\" ,\"SLG\",\n",
    "         \"ISO\",\"BABIP\", 'LD%', \"GB%\",\n",
    "          \"FB%\", \"IFFB%\", \"HR/FB\", \"O-Swing%\", \n",
    "         \"Z-Swing%\", \"Swing%\",\"O-Contact%\", \"Z-Contact%\", \"Contact%\"]]\n",
    "X_train, X_val, y_train, y_val = train_test_split(X, y, test_size=0.2, random_state=42)"
   ]
  },
  {
   "cell_type": "code",
   "execution_count": 802,
   "metadata": {
    "colab": {
     "base_uri": "https://localhost:8080/"
    },
    "id": "LmTwkHdpRZDR",
    "outputId": "b3605a2a-39b6-412b-fd4d-89f7ea880880"
   },
   "outputs": [
    {
     "name": "stdout",
     "output_type": "stream",
     "text": [
      "RMSE 11.02497165529236\n",
      "KNN Score: 0.8740324206969534\n"
     ]
    }
   ],
   "source": [
    "#train the new model\n",
    "knn_pipe.fit(X_train, y_train)\n",
    "knn_predictions = knn_pipe.predict(X_val)\n",
    "\n",
    "SSE = sum((np.array(y_val) - knn_predictions)**2)\n",
    "\n",
    "# compute the RMSE\n",
    "RMSE = np.sqrt(SSE/len(knn_predictions))\n",
    "\n",
    "print(\"RMSE\", RMSE)\n",
    "print ('KNN Score:', knn_pipe.score(X_train, y_train))"
   ]
  },
  {
   "cell_type": "code",
   "execution_count": 803,
   "metadata": {
    "id": "1eGHN8ekRZDR"
   },
   "outputs": [],
   "source": [
    "#Now that the model is fully trained with the data from 2016-2019, we are ready\n",
    "#for the original task of predicting the data from 2021\n",
    "\n",
    "y_test = df21['RBI']\n",
    "X_test = df21[[\"AB\", \"PA\", \"H\", \"HR\", \"R\",\n",
    "         \"SB\", \"AVG\", \"BB%\", \"K%\", \"OBP\" ,\"SLG\",\n",
    "         \"ISO\",\"BABIP\", 'LD%', \"GB%\",\n",
    "          \"FB%\", \"IFFB%\", \"HR/FB\", \"O-Swing%\", \n",
    "         \"Z-Swing%\", \"Swing%\",\"O-Contact%\", \"Z-Contact%\", \"Contact%\"]]"
   ]
  },
  {
   "cell_type": "code",
   "execution_count": 804,
   "metadata": {
    "colab": {
     "base_uri": "https://localhost:8080/"
    },
    "id": "ekHpIvk8RZDR",
    "outputId": "92673bd9-d5f3-4612-827c-e9f67fbd5dec"
   },
   "outputs": [
    {
     "name": "stdout",
     "output_type": "stream",
     "text": [
      "RMSE 11.02497165529236\n",
      "KNN Score: 0.8740324206969534\n"
     ]
    }
   ],
   "source": [
    "knn_pipe.fit(X_train, y_train)\n",
    "knn_predictions = knn_pipe.predict(X_val)\n",
    "\n",
    "SSE = sum((np.array(y_val) - knn_predictions)**2)\n",
    "\n",
    "# compute the RMSE\n",
    "RMSE = np.sqrt(SSE/len(knn_predictions))\n",
    "\n",
    "print(\"RMSE\", RMSE)\n",
    "print ('KNN Score:', knn_pipe.score(X_train, y_train))"
   ]
  },
  {
   "cell_type": "code",
   "execution_count": 805,
   "metadata": {
    "colab": {
     "base_uri": "https://localhost:8080/",
     "height": 285
    },
    "id": "SIwE0wN_RZDR",
    "outputId": "8bddba22-0cb5-492a-be34-8415f50824ce"
   },
   "outputs": [
    {
     "data": {
      "text/plain": [
       "<matplotlib.legend.Legend at 0x7f589ba50610>"
      ]
     },
     "execution_count": 805,
     "metadata": {},
     "output_type": "execute_result"
    },
    {
     "data": {
      "image/png": "[encoded data removed]",
      "text/plain": [
       "<Figure size 432x288 with 1 Axes>"
      ]
     },
     "metadata": {},
     "output_type": "display_data"
    }
   ],
   "source": [
    "#Now we want to check the values of our predicted OBP statistics vs\n",
    "#the actual recorded values\n",
    "\n",
    "plt.plot(range(50), knn_predictions[:50], label='model prediction')\n",
    "plt.plot(range(50), y_test[:50], 'r', label='true value')\n",
    "plt.legend()"
   ]
  },
  {
   "cell_type": "markdown",
   "metadata": {
    "id": "OGO-duUj3_tR"
   },
   "source": [
    "## (D) - AVG Predictions"
   ]
  },
  {
   "cell_type": "markdown",
   "metadata": {
    "id": "ampTrxi-4wj1"
   },
   "source": [
    "##### <u> Linear Regression <u/>"
   ]
  },
  {
   "cell_type": "code",
   "execution_count": 806,
   "metadata": {
    "id": "Stzc-YKI4P4b"
   },
   "outputs": [],
   "source": [
    "#We want to first train the model with the statistics from 2016\n",
    "\n",
    "y = df16['AVG']\n",
    "X = df16[[ \"AB\", \"PA\", \"H\", \"R\",\"HR\", \n",
    "          \"RBI\", \"SB\", \"BB%\", \"K%\", \"ISO\", \n",
    "         \"BABIP\", 'OBP', \"SLG\", 'LD%',\n",
    "         \"GB%\", \"FB%\", \"IFFB%\", \"HR/FB\", \"O-Swing%\", \n",
    "         \"Z-Swing%\", \"Swing%\",\"O-Contact%\", \"Z-Contact%\", \"Contact%\"]]\n",
    "\n",
    "X_train, X_val, y_train, y_val = train_test_split(X, y, test_size=0.2, random_state=42)"
   ]
  },
  {
   "cell_type": "code",
   "execution_count": 807,
   "metadata": {
    "id": "QADafWeB4RTW"
   },
   "outputs": [],
   "source": [
    "lm = LinearRegression()\n",
    "model = lm.fit(X_train, y_train)"
   ]
  },
  {
   "cell_type": "code",
   "execution_count": 808,
   "metadata": {
    "colab": {
     "base_uri": "https://localhost:8080/"
    },
    "id": "HGyK9lXp4Q9-",
    "outputId": "2bab9d86-5b12-42be-cd68-8ee8e8b68244"
   },
   "outputs": [
    {
     "name": "stdout",
     "output_type": "stream",
     "text": [
      "RMSE: 0.0004774469311413425\n",
      "Score: 0.9998009055475924\n",
      "Training Score: 0.9998061538853127\n",
      "Validation Score: 0.9997778305436092\n"
     ]
    }
   ],
   "source": [
    "predictions = lm.predict(X_val)\n",
    "\n",
    "SSE = sum((np.array(y_val) - predictions)**2)\n",
    "\n",
    "# compute the RMSE\n",
    "RMSE = np.sqrt(SSE/len(predictions))\n",
    "\n",
    "print('RMSE:', RMSE)\n",
    "print ('Score:', model.score(X, y))\n",
    "print ('Training Score:', model.score(X_train, y_train))\n",
    "print ('Validation Score:', model.score(X_val, y_val))"
   ]
  },
  {
   "cell_type": "code",
   "execution_count": 809,
   "metadata": {
    "id": "nlbBJt9-4Q7W"
   },
   "outputs": [],
   "source": [
    "#Now I want evaluate the model but from the statistics from 2016 and see how\n",
    "#it will perform predicting 2017 statistics\n",
    "y_test = df17['AVG']\n",
    "X_test = df17[[ \"AB\", \"PA\", \"H\", \"R\", \"HR\",\n",
    "         \"RBI\", \"SB\", \"BB%\", \"K%\", \"ISO\", \n",
    "         \"BABIP\",\"OBP\", \"SLG\", 'LD%',\n",
    "         \"GB%\", \"FB%\", \"IFFB%\", \"HR/FB\", \"O-Swing%\", \n",
    "         \"Z-Swing%\", \"Swing%\",\"O-Contact%\", \"Z-Contact%\", \"Contact%\" ]]"
   ]
  },
  {
   "cell_type": "code",
   "execution_count": 810,
   "metadata": {
    "colab": {
     "base_uri": "https://localhost:8080/"
    },
    "id": "fQH4VzW94Q4v",
    "outputId": "cda9d1c5-7b86-4071-bb15-d8179e9a3bfa"
   },
   "outputs": [
    {
     "name": "stdout",
     "output_type": "stream",
     "text": [
      "RMSE: 0.0005294823136046841\n",
      "Score: 0.9996959301176668\n"
     ]
    }
   ],
   "source": [
    "predictions = lm.predict(X_test)\n",
    "\n",
    "SSE = sum((np.array(y_test) - predictions)**2)\n",
    "\n",
    "# compute the RMSE\n",
    "RMSE = np.sqrt(SSE/len(predictions))\n",
    "\n",
    "print('RMSE:', RMSE)\n",
    "print ('Score:', model.score(X_test, y_test))\n",
    "#print ('Training Score:', model.score(X_train, y_train))\n",
    "#print ('Validation Score:', model.score(X_val, y_val))"
   ]
  },
  {
   "cell_type": "code",
   "execution_count": 811,
   "metadata": {
    "id": "1hOT6GCw4Q0E"
   },
   "outputs": [],
   "source": [
    "#Now that we confirmed our model is performing well, it's time to combine \n",
    "#the 2016, and 2017 season statistics and retrain our model and then re-check \n",
    "#its performance\n",
    "\n",
    "common = pd.concat([df16,df17])"
   ]
  },
  {
   "cell_type": "code",
   "execution_count": 812,
   "metadata": {
    "id": "dFv6xa8g4Qxt"
   },
   "outputs": [],
   "source": [
    "y = common['AVG']\n",
    "X = common[[\"AB\",\"PA\", \"H\", \"HR\", \"RBI\",\n",
    "         \"R\", \"BB%\", \"ISO\", \n",
    "         \"BABIP\", \"OBP\", \"SLG\", \n",
    "         \"GB%\", \"FB%\", \"IFFB%\", \"HR/FB\", \"O-Swing%\", \n",
    "         \"Z-Swing%\", \"Swing%\",\"O-Contact%\", \"Z-Contact%\", \"Contact%\" ]]\n",
    "\n",
    "X_train, X_val, y_train, y_val = train_test_split(X, y, test_size=0.2, random_state=42)"
   ]
  },
  {
   "cell_type": "code",
   "execution_count": 813,
   "metadata": {
    "id": "iRcSuDr_QLDv"
   },
   "outputs": [],
   "source": [
    "#train the model\n",
    "model = lm.fit(X_train, y_train)"
   ]
  },
  {
   "cell_type": "code",
   "execution_count": 814,
   "metadata": {
    "colab": {
     "base_uri": "https://localhost:8080/"
    },
    "id": "59hobo87QLBJ",
    "outputId": "c06aaa03-9981-4809-be2f-ded5e044167c"
   },
   "outputs": [
    {
     "name": "stdout",
     "output_type": "stream",
     "text": [
      "RMSE: 0.0004946787560391376\n",
      "Score: 0.9997573124735936\n",
      "Training Score: 0.9997649779637671\n",
      "Validation Score: 0.9997219469162024\n"
     ]
    }
   ],
   "source": [
    "predictions = lm.predict(X_val)\n",
    "\n",
    "SSE = sum((np.array(y_val) - predictions)**2)\n",
    "\n",
    "# compute the RMSE\n",
    "RMSE = np.sqrt(SSE/len(predictions))\n",
    "\n",
    "print('RMSE:', RMSE)\n",
    "print ('Score:', model.score(X, y))\n",
    "print ('Training Score:', model.score(X_train, y_train))\n",
    "print ('Validation Score:', model.score(X_val, y_val))"
   ]
  },
  {
   "cell_type": "code",
   "execution_count": 815,
   "metadata": {
    "id": "UxtH6NQiQK-T"
   },
   "outputs": [],
   "source": [
    "#The model continues to perform well and I will confirm one more time by\n",
    "#evaluating the model with the 2018 season statistics\n",
    "y_test = df18['AVG']\n",
    "X_test = df18[[ \"AB\", \"PA\", \"H\", \"HR\",\n",
    "         \"RBI\", \"R\", \"BB%\", \"ISO\", \n",
    "         \"BABIP\", \"OBP\", \"SLG\", \n",
    "         \"GB%\", \"FB%\", \"IFFB%\", \"HR/FB\", \"O-Swing%\", \n",
    "         \"Z-Swing%\", \"Swing%\",\"O-Contact%\", \"Z-Contact%\", \"Contact%\" ]]"
   ]
  },
  {
   "cell_type": "code",
   "execution_count": 816,
   "metadata": {
    "colab": {
     "base_uri": "https://localhost:8080/"
    },
    "id": "9KoRW_ZgQV3g",
    "outputId": "dbc6be01-8ef6-4b0a-b57a-eb43b72e2998"
   },
   "outputs": [
    {
     "name": "stdout",
     "output_type": "stream",
     "text": [
      "RMSE: 0.0005248790009316536\n",
      "Score: 0.9996794837166149\n"
     ]
    }
   ],
   "source": [
    "predictions = lm.predict(X_test)\n",
    "\n",
    "SSE = sum((np.array(y_test) - predictions)**2)\n",
    "\n",
    "# compute the RMSE\n",
    "RMSE = np.sqrt(SSE/len(predictions))\n",
    "\n",
    "print('RMSE:', RMSE)\n",
    "print ('Score:', model.score(X_test, y_test))\n",
    "#print ('Training Score:', model.score(X_train, y_train))\n",
    "#print ('Validation Score:', model.score(X_val, y_val))"
   ]
  },
  {
   "cell_type": "code",
   "execution_count": 817,
   "metadata": {
    "id": "gt6eu6isQVxM"
   },
   "outputs": [],
   "source": [
    "#The model continues to run well and we will train it one last time\n",
    "#by adding the 2018 and 2019 statistics to the data and then we will begin to\n",
    "#predict the 2021 statistics\n",
    "\n",
    "common2 = pd.concat([df16,df17, df18, df19])\n",
    "y = common2['AVG']\n",
    "X = common2[[ \"PA\",\"AB\", \"H\", \"HR\",\n",
    "         \"RBI\", \"R\", \"BB%\", \"ISO\", \n",
    "         \"BABIP\", \"OBP\", \"SLG\", \n",
    "         \"GB%\", \"FB%\", \"IFFB%\", \"HR/FB\", \"O-Swing%\", \n",
    "         \"Z-Swing%\", \"Swing%\",\"O-Contact%\", \"Z-Contact%\", \"Contact%\" ]]\n",
    "\n",
    "X_train, X_val, y_train, y_val = train_test_split(X, y, test_size=0.2, random_state=42)"
   ]
  },
  {
   "cell_type": "code",
   "execution_count": 818,
   "metadata": {
    "id": "ps3NmtumQVuT"
   },
   "outputs": [],
   "source": [
    "#train the model again\n",
    "model = lm.fit(X_train, y_train)"
   ]
  },
  {
   "cell_type": "code",
   "execution_count": 819,
   "metadata": {
    "colab": {
     "base_uri": "https://localhost:8080/"
    },
    "id": "A0NOJVlqQgCO",
    "outputId": "d7383a86-e930-4908-b7eb-0b4a21bc2fc6"
   },
   "outputs": [
    {
     "name": "stdout",
     "output_type": "stream",
     "text": [
      "RMSE: 0.0005347180648489484\n",
      "Score: 0.999736187911628\n",
      "Training Score: 0.9997372449956184\n",
      "Validation Score: 0.9997320690861051\n"
     ]
    }
   ],
   "source": [
    "predictions = lm.predict(X_val)\n",
    "\n",
    "SSE = sum((np.array(y_val) - predictions)**2)\n",
    "\n",
    "# compute the RMSE\n",
    "RMSE = np.sqrt(SSE/len(predictions))\n",
    "\n",
    "print('RMSE:', RMSE)\n",
    "print ('Score:', model.score(X, y))\n",
    "print ('Training Score:', model.score(X_train, y_train))\n",
    "print ('Validation Score:', model.score(X_val, y_val))"
   ]
  },
  {
   "cell_type": "code",
   "execution_count": 820,
   "metadata": {
    "id": "TmJltZdOQgAn"
   },
   "outputs": [],
   "source": [
    "#Now that the model is fully trained with the data from 2016-2019, we are ready\n",
    "#for the original task of predicting the data from 2021\n",
    "\n",
    "y_test = df21['AVG']\n",
    "X_test = df21[[ \"PA\",\"AB\", \"H\", \"HR\",\n",
    "         \"RBI\", \"R\", \"BB%\", \"ISO\", \n",
    "         \"BABIP\", \"OBP\", \"SLG\", \n",
    "         \"GB%\", \"FB%\", \"IFFB%\", \"HR/FB\", \"O-Swing%\", \n",
    "         \"Z-Swing%\", \"Swing%\",\"O-Contact%\", \"Z-Contact%\", \"Contact%\" ]]"
   ]
  },
  {
   "cell_type": "code",
   "execution_count": 821,
   "metadata": {
    "colab": {
     "base_uri": "https://localhost:8080/"
    },
    "id": "4jRocvtMQf-S",
    "outputId": "477c4bd9-221f-4b6c-8640-580aacffe816"
   },
   "outputs": [
    {
     "name": "stdout",
     "output_type": "stream",
     "text": [
      "RMSE: 0.00048295702083479526\n",
      "Score: 0.9997627826691191\n"
     ]
    }
   ],
   "source": [
    "#Here I will make predictions of the amount of HRs per player\n",
    "#during the 2021 season\n",
    "predictions = lm.predict(X_test)\n",
    "\n",
    "SSE = sum((np.array(y_test) - predictions)**2)\n",
    "\n",
    "# compute the RMSE\n",
    "RMSE = np.sqrt(SSE/len(predictions))\n",
    "\n",
    "print('RMSE:', RMSE)\n",
    "print ('Score:', model.score(X_test, y_test))\n",
    "#print ('Training Score:', model.score(X_train, y_train))\n",
    "#print ('Validation Score:', model.score(X_val, y_val))"
   ]
  },
  {
   "cell_type": "code",
   "execution_count": 822,
   "metadata": {
    "colab": {
     "base_uri": "https://localhost:8080/",
     "height": 285
    },
    "id": "_N0sypdWQf7s",
    "outputId": "e893ed0f-22e9-42d8-929f-c92d654bdeb1"
   },
   "outputs": [
    {
     "data": {
      "text/plain": [
       "<matplotlib.legend.Legend at 0x7f589bdb03d0>"
      ]
     },
     "execution_count": 822,
     "metadata": {},
     "output_type": "execute_result"
    },
    {
     "data": {
      "image/png": "[encoded data removed]",
      "text/plain": [
       "<Figure size 432x288 with 1 Axes>"
      ]
     },
     "metadata": {},
     "output_type": "display_data"
    }
   ],
   "source": [
    "#Now I want to check the values of our predicted OBP statistics vs\n",
    "#the actual recorded values\n",
    "\n",
    "plt.plot(range(50), predictions[:50], label='model prediction')\n",
    "plt.plot(range(50), y_test[:50], 'r', label='true value')\n",
    "plt.legend()"
   ]
  },
  {
   "cell_type": "markdown",
   "metadata": {
    "id": "hiN84NMdQyqK"
   },
   "source": [
    "- As you can see from the figure above, the consistencies in the model prediction values and the true values of 'AVG' prove this linear regression model to be performing extremely well."
   ]
  },
  {
   "cell_type": "markdown",
   "metadata": {
    "id": "ve0bOhUeWXU9"
   },
   "source": [
    "##### <u> XGBoost <u/> "
   ]
  },
  {
   "cell_type": "code",
   "execution_count": 823,
   "metadata": {
    "id": "LoQr23RsWCQO"
   },
   "outputs": [],
   "source": [
    "from pandas.core.common import random_state\n",
    "# Let's define a KFold for this dataset\n",
    "kf = KFold(n_splits = 10, shuffle = True, random_state = 12345)"
   ]
  },
  {
   "cell_type": "code",
   "execution_count": 824,
   "metadata": {
    "id": "cYWoV8bfWCQO"
   },
   "outputs": [],
   "source": [
    "y = common2['AVG']\n",
    "X = common2[[ \"AB\", \"PA\", \"H\", \"R\", 'HR',\n",
    "          \"RBI\", \"SB\", \"BB%\", \"ISO\", \n",
    "         \"BABIP\", \"SLG\", 'LD%',\n",
    "         \"GB%\", \"FB%\", \"IFFB%\", \"HR/FB\", \"O-Swing%\", \n",
    "         \"Z-Swing%\", \"Swing%\",\"O-Contact%\", \"Z-Contact%\", \"Contact%\"]]\n",
    "\n",
    "X_train, X_val, y_train, y_val = train_test_split(X, y, test_size=0.2, random_state=42)"
   ]
  },
  {
   "cell_type": "code",
   "execution_count": 825,
   "metadata": {
    "colab": {
     "base_uri": "https://localhost:8080/"
    },
    "id": "lkbaYszuWCQP",
    "outputId": "5f8ca465-7b19-468d-a5c7-64e8a78b745c"
   },
   "outputs": [
    {
     "name": "stdout",
     "output_type": "stream",
     "text": [
      "[01:28:58] WARNING: /workspace/src/objective/regression_obj.cu:152: reg:linear is now deprecated in favor of reg:squarederror.\n",
      "Validation score:  0.9761075656105923\n"
     ]
    }
   ],
   "source": [
    "# Define and train base model\n",
    "\n",
    "base_model = xgb.XGBRegressor()\n",
    "base_model.fit(X_train, y_train)\n",
    "score = base_model.score(X_train, y_train)   \n",
    "print(\"Validation score: \", score) "
   ]
  },
  {
   "cell_type": "code",
   "execution_count": 826,
   "metadata": {
    "id": "0P-_v3-xWCQP"
   },
   "outputs": [],
   "source": [
    "#Now that the model is fully trained with the data from 2016-2019, we are ready\n",
    "#for the original task of predicting the data from 2021\n",
    "\n",
    "y_test = df21['AVG']\n",
    "X_test = df21[[ \"AB\",\"PA\", \"H\", 'R', \"HR\",\n",
    "          \"RBI\", \"SB\", \"BB%\", \"ISO\",    \n",
    "         \"BABIP\", \"SLG\", \"LD%\",\n",
    "         \"GB%\", \"SB\", \"FB%\", \"IFFB%\", \"HR/FB\", \"O-Swing%\", \n",
    "         \"Z-Swing%\", \"Swing%\",\"O-Contact%\", \"Z-Contact%\", \"Contact%\" ]]"
   ]
  },
  {
   "cell_type": "code",
   "execution_count": 827,
   "metadata": {
    "colab": {
     "base_uri": "https://localhost:8080/"
    },
    "id": "oAQP2qarWCQP",
    "outputId": "2e08781f-87ed-48d3-c6b6-c4ae312ee9b1"
   },
   "outputs": [
    {
     "name": "stdout",
     "output_type": "stream",
     "text": [
      "Validation score:  0.9761075656105923\n"
     ]
    }
   ],
   "source": [
    "#Here I will make predictions of the OBP per player\n",
    "#during the 2021 season\n",
    "score = base_model.score(X_train, y_train)   \n",
    "print(\"Validation score: \", score) "
   ]
  },
  {
   "cell_type": "markdown",
   "metadata": {
    "id": "6OSqZ6cjUa_k"
   },
   "source": [
    "##### <u> K Nearest Neighbors (KNN) <u/>"
   ]
  },
  {
   "cell_type": "code",
   "execution_count": 828,
   "metadata": {
    "id": "lyC0-MugUbaL"
   },
   "outputs": [],
   "source": [
    "y = df16['AVG']\n",
    "X = df16[[ \"AB\", \"PA\", \"H\", \"R\", \"HR\",\n",
    "          \"RBI\", \"SB\", \"OBP\", \"BB%\", \"K%\",\"SLG\",\n",
    "         \"ISO\",\"BABIP\", 'LD%', \"GB%\",\n",
    "          \"FB%\", \"IFFB%\", \"HR/FB\", \"O-Swing%\", \n",
    "         \"Z-Swing%\", \"Swing%\",\"O-Contact%\", \"Z-Contact%\", \"Contact%\"]]\n",
    "\n",
    "X_train, X_val, y_train, y_val = train_test_split(X, y, test_size=0.2, random_state=42)"
   ]
  },
  {
   "cell_type": "code",
   "execution_count": 829,
   "metadata": {
    "id": "ABPc0A0DUyQV"
   },
   "outputs": [],
   "source": [
    "#K-Nearest Neighbors pipeline\n",
    "transformer = Pipeline(steps=[('scaler', StandardScaler())])\n",
    "features = [\"AB\", \"PA\", \"H\", \"HR\", \"R\",\n",
    "          \"RBI\", \"SB\", \"OBP\", \"BB%\", \"K%\" ,\"SLG\",\n",
    "         \"ISO\",\"BABIP\", 'LD%', \"GB%\",\n",
    "          \"FB%\", \"IFFB%\", \"HR/FB\", \"O-Swing%\", \n",
    "         \"Z-Swing%\", \"Swing%\",\"O-Contact%\", \"Z-Contact%\", \"Contact%\"]\n",
    "\n",
    "preprocessor = ColumnTransformer(transformers=[('scale', transformer, features)])\n",
    "\n",
    "knn_pipe = Pipeline(steps=[('preprocessor', preprocessor),\n",
    "                           ('regression', KNeighborsRegressor(n_neighbors=5))])"
   ]
  },
  {
   "cell_type": "code",
   "execution_count": 830,
   "metadata": {
    "colab": {
     "base_uri": "https://localhost:8080/"
    },
    "id": "jdj6c6ZzUyOR",
    "outputId": "86e36b4e-00d7-4d6b-b2fe-e974ba6e7b85"
   },
   "outputs": [
    {
     "name": "stdout",
     "output_type": "stream",
     "text": [
      "RMSE 0.015438326835634456\n",
      "KNN Score: 0.8343683314758048\n"
     ]
    }
   ],
   "source": [
    "#K-Nearest Neighbors trained algorithm\n",
    "knn_pipe.fit(X_train, y_train)\n",
    "knn_predictions = knn_pipe.predict(X_val)\n",
    "\n",
    "SSE = sum((np.array(y_val) - knn_predictions)**2)\n",
    "\n",
    "# compute the RMSE\n",
    "RMSE = np.sqrt(SSE/len(knn_predictions))\n",
    "\n",
    "print(\"RMSE\", RMSE)\n",
    "print ('KNN Score:', knn_pipe.score(X_train, y_train))"
   ]
  },
  {
   "cell_type": "code",
   "execution_count": 831,
   "metadata": {
    "id": "q9RSqqt9QZYO"
   },
   "outputs": [],
   "source": [
    "#Now we want to test the data from 2017 with the model that was trained\n",
    "#using the data from 2016\n",
    "y_test = df17['AVG']\n",
    "X_test = df17[[\"AB\", \"PA\", \"H\", \"HR\", \"R\",\n",
    "          \"RBI\", \"SB\", \"OBP\", \"BB%\", \"K%\" ,\"SLG\",\n",
    "         \"ISO\",\"BABIP\", 'LD%', \"GB%\",\n",
    "          \"FB%\", \"IFFB%\", \"HR/FB\", \"O-Swing%\", \n",
    "         \"Z-Swing%\", \"Swing%\",\"O-Contact%\", \"Z-Contact%\", \"Contact%\"]]"
   ]
  },
  {
   "cell_type": "code",
   "execution_count": 832,
   "metadata": {
    "colab": {
     "base_uri": "https://localhost:8080/"
    },
    "id": "WWxKK6NyQZYO",
    "outputId": "750464e1-5947-417c-d9aa-f4eb513bcef2"
   },
   "outputs": [
    {
     "name": "stdout",
     "output_type": "stream",
     "text": [
      "RMSE 0.015438326835634456\n",
      "KNN Score: 0.8343683314758048\n"
     ]
    }
   ],
   "source": [
    "knn_pipe.fit(X_train, y_train)\n",
    "knn_predictions = knn_pipe.predict(X_val)\n",
    "\n",
    "SSE = sum((np.array(y_val) - knn_predictions)**2)\n",
    "\n",
    "# compute the RMSE\n",
    "RMSE = np.sqrt(SSE/len(knn_predictions))\n",
    "\n",
    "print(\"RMSE\", RMSE)\n",
    "print ('KNN Score:', knn_pipe.score(X_train, y_train))"
   ]
  },
  {
   "cell_type": "code",
   "execution_count": 833,
   "metadata": {
    "id": "sKYx58n2QZYO"
   },
   "outputs": [],
   "source": [
    "y = common['AVG']\n",
    "X = common[[\"AB\", \"PA\", \"H\", \"HR\", \"R\",\n",
    "          \"RBI\", \"SB\", \"OBP\", \"BB%\", \"K%\" ,\"SLG\",\n",
    "         \"ISO\",\"BABIP\", 'LD%', \"GB%\",\n",
    "          \"FB%\", \"IFFB%\", \"HR/FB\", \"O-Swing%\", \n",
    "         \"Z-Swing%\", \"Swing%\",\"O-Contact%\", \"Z-Contact%\", \"Contact%\"]]\n",
    "X_train, X_val, y_train, y_val = train_test_split(X, y, test_size=0.2, random_state=42)"
   ]
  },
  {
   "cell_type": "code",
   "execution_count": 834,
   "metadata": {
    "colab": {
     "base_uri": "https://localhost:8080/"
    },
    "id": "SLyG4rVHQZYO",
    "outputId": "3377cee0-5529-425a-bcd6-2e7b6a1d1737"
   },
   "outputs": [
    {
     "name": "stdout",
     "output_type": "stream",
     "text": [
      "RMSE 0.014053702714943129\n",
      "KNN Score: 0.8630882688614225\n"
     ]
    }
   ],
   "source": [
    "#train the new model\n",
    "knn_pipe.fit(X_train, y_train)\n",
    "knn_predictions = knn_pipe.predict(X_val)\n",
    "\n",
    "SSE = sum((np.array(y_val) - knn_predictions)**2)\n",
    "\n",
    "# compute the RMSE\n",
    "RMSE = np.sqrt(SSE/len(knn_predictions))\n",
    "\n",
    "print(\"RMSE\", RMSE)\n",
    "print ('KNN Score:', knn_pipe.score(X_train, y_train))"
   ]
  },
  {
   "cell_type": "code",
   "execution_count": 835,
   "metadata": {
    "id": "UpBwlmw_QZYP"
   },
   "outputs": [],
   "source": [
    "#The model continues to perform well and we will confirm one more time by\n",
    "#evaluating the model with the 2018 season statistics\n",
    "y_test = df18['AVG']\n",
    "X_test = df18[[\"AB\", \"PA\", \"H\", \"HR\", \"R\",\n",
    "          \"RBI\", \"SB\", \"OBP\", \"BB%\", \"K%\" ,\"SLG\",\n",
    "         \"ISO\",\"BABIP\", 'LD%', \"GB%\",\n",
    "          \"FB%\", \"IFFB%\", \"HR/FB\", \"O-Swing%\", \n",
    "         \"Z-Swing%\", \"Swing%\",\"O-Contact%\", \"Z-Contact%\", \"Contact%\"]]\n",
    "#X_train, X_val, y_train, y_val = train_test_split(X, y, test_size=0.2, random_state=42)"
   ]
  },
  {
   "cell_type": "code",
   "execution_count": 836,
   "metadata": {
    "colab": {
     "base_uri": "https://localhost:8080/"
    },
    "id": "x-idljwDQZYP",
    "outputId": "0020a532-7486-426b-b241-4c2e521f63f9"
   },
   "outputs": [
    {
     "name": "stdout",
     "output_type": "stream",
     "text": [
      "RMSE 0.014053702714943129\n",
      "KNN Score: 0.8630882688614225\n"
     ]
    }
   ],
   "source": [
    "knn_pipe.fit(X_train, y_train)\n",
    "knn_predictions = knn_pipe.predict(X_val)\n",
    "\n",
    "SSE = sum((np.array(y_val) - knn_predictions)**2)\n",
    "\n",
    "# compute the RMSE\n",
    "RMSE = np.sqrt(SSE/len(knn_predictions))\n",
    "\n",
    "print(\"RMSE\", RMSE)\n",
    "print ('KNN Score:', knn_pipe.score(X_train, y_train))"
   ]
  },
  {
   "cell_type": "code",
   "execution_count": 837,
   "metadata": {
    "id": "mfGqs-1nQZYP"
   },
   "outputs": [],
   "source": [
    "#The model continues to run well and we will train it one last time\n",
    "#by adding the 2018 and 2019 statistics to the data and then we will begin to\n",
    "#predict the 2021 statistics\n",
    "\n",
    "y = common2['AVG']\n",
    "X = common2[[\"AB\", \"PA\", \"H\", \"HR\", \"R\",\n",
    "          \"RBI\", \"SB\", \"OBP\", \"BB%\", \"K%\" ,\"SLG\",\n",
    "         \"ISO\",\"BABIP\", 'LD%', \"GB%\",\n",
    "          \"FB%\", \"IFFB%\", \"HR/FB\", \"O-Swing%\", \n",
    "         \"Z-Swing%\", \"Swing%\",\"O-Contact%\", \"Z-Contact%\", \"Contact%\"]]\n",
    "X_train, X_val, y_train, y_val = train_test_split(X, y, test_size=0.2, random_state=42)"
   ]
  },
  {
   "cell_type": "code",
   "execution_count": 838,
   "metadata": {
    "colab": {
     "base_uri": "https://localhost:8080/"
    },
    "id": "YQ8diRAQQZYP",
    "outputId": "376aa0b4-00b7-4c5c-9b11-1eb86c7845e6"
   },
   "outputs": [
    {
     "name": "stdout",
     "output_type": "stream",
     "text": [
      "RMSE 0.013017564446815085\n",
      "KNN Score: 0.8834831906545996\n"
     ]
    }
   ],
   "source": [
    "#train the new model\n",
    "knn_pipe.fit(X_train, y_train)\n",
    "knn_predictions = knn_pipe.predict(X_val)\n",
    "\n",
    "SSE = sum((np.array(y_val) - knn_predictions)**2)\n",
    "\n",
    "# compute the RMSE\n",
    "RMSE = np.sqrt(SSE/len(knn_predictions))\n",
    "\n",
    "print(\"RMSE\", RMSE)\n",
    "print ('KNN Score:', knn_pipe.score(X_train, y_train))"
   ]
  },
  {
   "cell_type": "code",
   "execution_count": 839,
   "metadata": {
    "id": "SsObQ9pJQZYP"
   },
   "outputs": [],
   "source": [
    "#Now that the model is fully trained with the data from 2016-2019, we are ready\n",
    "#for the original task of predicting the data from 2021\n",
    "\n",
    "y_test = df21['AVG']\n",
    "X_test = df21[[\"AB\", \"PA\", \"H\", \"HR\", \"R\",\n",
    "          \"RBI\", \"SB\", \"OBP\", \"BB%\", \"K%\" ,\"SLG\",\n",
    "         \"ISO\",\"BABIP\", 'LD%', \"GB%\",\n",
    "          \"FB%\", \"IFFB%\", \"HR/FB\", \"O-Swing%\", \n",
    "         \"Z-Swing%\", \"Swing%\",\"O-Contact%\", \"Z-Contact%\", \"Contact%\"]]"
   ]
  },
  {
   "cell_type": "code",
   "execution_count": 840,
   "metadata": {
    "colab": {
     "base_uri": "https://localhost:8080/"
    },
    "id": "hDz6KB-1QZYP",
    "outputId": "adca6f30-7671-42bb-e0d3-3f8ef888903a"
   },
   "outputs": [
    {
     "name": "stdout",
     "output_type": "stream",
     "text": [
      "RMSE 0.013017564446815085\n",
      "KNN Score: 0.8834831906545996\n"
     ]
    }
   ],
   "source": [
    "knn_pipe.fit(X_train, y_train)\n",
    "knn_predictions = knn_pipe.predict(X_val)\n",
    "\n",
    "SSE = sum((np.array(y_val) - knn_predictions)**2)\n",
    "\n",
    "# compute the RMSE\n",
    "RMSE = np.sqrt(SSE/len(knn_predictions))\n",
    "\n",
    "print(\"RMSE\", RMSE)\n",
    "print ('KNN Score:', knn_pipe.score(X_train, y_train))"
   ]
  },
  {
   "cell_type": "code",
   "execution_count": 841,
   "metadata": {
    "colab": {
     "base_uri": "https://localhost:8080/",
     "height": 285
    },
    "id": "tOmMNoxhQZYP",
    "outputId": "bb161e2d-14a2-46c1-c4b0-9a893f13311f"
   },
   "outputs": [
    {
     "data": {
      "text/plain": [
       "<matplotlib.legend.Legend at 0x7f589c426f10>"
      ]
     },
     "execution_count": 841,
     "metadata": {},
     "output_type": "execute_result"
    },
    {
     "data": {
      "image/png": "[encoded data removed]",
      "text/plain": [
       "<Figure size 432x288 with 1 Axes>"
      ]
     },
     "metadata": {},
     "output_type": "display_data"
    }
   ],
   "source": [
    "#Now we want to check the values of our predicted OBP statistics vs\n",
    "#the actual recorded values\n",
    "\n",
    "plt.plot(range(50), knn_predictions[:50], label='model prediction')\n",
    "plt.plot(range(50), y_test[:50], 'r', label='true value')\n",
    "plt.legend()"
   ]
  }
 ],
 "metadata": {
  "colab": {
   "collapsed_sections": [],
   "name": "DSCI 631 final project.ipynb",
   "provenance": []
  },
  "kernelspec": {
   "display_name": "Python 3",
   "language": "python",
   "name": "python3"
  },
  "language_info": {
   "codemirror_mode": {
    "name": "ipython",
    "version": 3
   },
   "file_extension": ".py",
   "mimetype": "text/x-python",
   "name": "python",
   "nbconvert_exporter": "python",
   "pygments_lexer": "ipython3",
   "version": "3.8.8"
  }
 },
 "nbformat": 4,
 "nbformat_minor": 1
}
